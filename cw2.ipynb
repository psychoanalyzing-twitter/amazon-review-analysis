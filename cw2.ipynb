{
 "cells": [
  {
   "attachments": {},
   "cell_type": "markdown",
   "metadata": {},
   "source": [
    "# F20AA Applied Text Analytics: Coursework 2"
   ]
  },
  {
   "cell_type": "code",
   "execution_count": 1,
   "metadata": {},
   "outputs": [
    {
     "name": "stdout",
     "output_type": "stream",
     "text": [
      "Requirement already satisfied: nltk in c:\\users\\bhavika\\appdata\\local\\programs\\python\\python310\\lib\\site-packages (3.8.1)\n",
      "Requirement already satisfied: tqdm in c:\\users\\bhavika\\appdata\\local\\programs\\python\\python310\\lib\\site-packages (from nltk) (4.64.1)\n",
      "Requirement already satisfied: click in c:\\users\\bhavika\\appdata\\local\\programs\\python\\python310\\lib\\site-packages (from nltk) (8.1.3)\n",
      "Requirement already satisfied: joblib in c:\\users\\bhavika\\appdata\\local\\programs\\python\\python310\\lib\\site-packages (from nltk) (1.2.0)\n",
      "Requirement already satisfied: regex>=2021.8.3 in c:\\users\\bhavika\\appdata\\local\\programs\\python\\python310\\lib\\site-packages (from nltk) (2022.10.31)\n",
      "Requirement already satisfied: colorama in c:\\users\\bhavika\\appdata\\local\\programs\\python\\python310\\lib\\site-packages (from click->nltk) (0.4.4)\n",
      "Note: you may need to restart the kernel to use updated packages.\n",
      "Requirement already satisfied: pandarallel in c:\\users\\bhavika\\appdata\\local\\programs\\python\\python310\\lib\\site-packages (1.6.4)\n",
      "Requirement already satisfied: dill>=0.3.1 in c:\\users\\bhavika\\appdata\\local\\programs\\python\\python310\\lib\\site-packages (from pandarallel) (0.3.6)\n",
      "Requirement already satisfied: psutil in c:\\users\\bhavika\\appdata\\local\\programs\\python\\python310\\lib\\site-packages (from pandarallel) (5.9.2)\n",
      "Requirement already satisfied: pandas>=1 in c:\\users\\bhavika\\appdata\\local\\programs\\python\\python310\\lib\\site-packages (from pandarallel) (1.5.0)\n",
      "Requirement already satisfied: pytz>=2020.1 in c:\\users\\bhavika\\appdata\\local\\programs\\python\\python310\\lib\\site-packages (from pandas>=1->pandarallel) (2022.2.1)\n",
      "Requirement already satisfied: python-dateutil>=2.8.1 in c:\\users\\bhavika\\appdata\\local\\programs\\python\\python310\\lib\\site-packages (from pandas>=1->pandarallel) (2.8.2)\n",
      "Requirement already satisfied: numpy>=1.21.0 in c:\\users\\bhavika\\appdata\\local\\programs\\python\\python310\\lib\\site-packages (from pandas>=1->pandarallel) (1.23.3)\n",
      "Requirement already satisfied: six>=1.5 in c:\\users\\bhavika\\appdata\\local\\programs\\python\\python310\\lib\\site-packages (from python-dateutil>=2.8.1->pandas>=1->pandarallel) (1.16.0)\n",
      "Note: you may need to restart the kernel to use updated packages.\n"
     ]
    }
   ],
   "source": [
    "%pip install nltk\n",
    "%pip install pandarallel"
   ]
  },
  {
   "cell_type": "code",
   "execution_count": 2,
   "metadata": {},
   "outputs": [
    {
     "name": "stdout",
     "output_type": "stream",
     "text": [
      "INFO: Pandarallel will run on 4 workers.\n",
      "INFO: Pandarallel will use standard multiprocessing data transfer (pipe) to transfer data between the main process and workers.\n",
      "\n",
      "WARNING: You are on Windows. If you detect any issue with pandarallel, be sure you checked out the Troubleshooting page:\n",
      "https://nalepae.github.io/pandarallel/troubleshooting/\n"
     ]
    },
    {
     "name": "stderr",
     "output_type": "stream",
     "text": [
      "[nltk_data] Downloading package averaged_perceptron_tagger to\n",
      "[nltk_data]     C:\\Users\\bhavika\\AppData\\Roaming\\nltk_data...\n",
      "[nltk_data]   Package averaged_perceptron_tagger is already up-to-\n",
      "[nltk_data]       date!\n",
      "[nltk_data] Downloading package stopwords to\n",
      "[nltk_data]     C:\\Users\\bhavika\\AppData\\Roaming\\nltk_data...\n",
      "[nltk_data]   Package stopwords is already up-to-date!\n",
      "[nltk_data] Downloading package punkt to\n",
      "[nltk_data]     C:\\Users\\bhavika\\AppData\\Roaming\\nltk_data...\n",
      "[nltk_data]   Unzipping tokenizers\\punkt.zip.\n"
     ]
    }
   ],
   "source": [
    "import pickle\n",
    "import bz2\n",
    "\n",
    "import matplotlib.pyplot as plt\n",
    "import pandas as pd\n",
    "\n",
    "# preprocessing\n",
    "import nltk\n",
    "from nltk.corpus import stopwords, wordnet\n",
    "from nltk.stem import WordNetLemmatizer, PorterStemmer\n",
    "from nltk.tokenize import word_tokenize\n",
    "from nltk.tag import pos_tag, pos_tag_sents\n",
    "nltk.download('averaged_perceptron_tagger')\n",
    "nltk.download('stopwords')\n",
    "nltk.download('punkt')\n",
    "\n",
    "import sklearn.metrics\n",
    "from sklearn.model_selection import train_test_split\n",
    "\n",
    "# optimization\n",
    "from pandarallel import pandarallel\n",
    "pandarallel.initialize()"
   ]
  },
  {
   "attachments": {},
   "cell_type": "markdown",
   "metadata": {},
   "source": [
    "## 1.   Data Exploration and Visualization"
   ]
  },
  {
   "cell_type": "code",
   "execution_count": 3,
   "metadata": {},
   "outputs": [
    {
     "data": {
      "text/plain": [
       "' Train.csv exceeds file size limit on GitHub '"
      ]
     },
     "execution_count": 3,
     "metadata": {},
     "output_type": "execute_result"
    }
   ],
   "source": [
    "# saving data in a pickle file\n",
    "\"\"\" Train.csv exceeds file size limit on GitHub \"\"\"\n",
    "\n",
    "# data = pd.read_csv(\"Train.csv\")\n",
    "# with bz2.BZ2File(\"train.pickle\", \"wb\") as f:\n",
    "#     pickle.dump(data, f)\n",
    "#     f.close()"
   ]
  },
  {
   "cell_type": "code",
   "execution_count": 4,
   "metadata": {},
   "outputs": [],
   "source": [
    "# loading data from pickle\n",
    "with bz2.BZ2File(\"train.pickle\", \"rb\") as f:\n",
    "    train = pickle.load(f)\n",
    "    f.close()"
   ]
  },
  {
   "cell_type": "code",
   "execution_count": 5,
   "metadata": {},
   "outputs": [
    {
     "data": {
      "text/html": [
       "<div>\n",
       "<style scoped>\n",
       "    .dataframe tbody tr th:only-of-type {\n",
       "        vertical-align: middle;\n",
       "    }\n",
       "\n",
       "    .dataframe tbody tr th {\n",
       "        vertical-align: top;\n",
       "    }\n",
       "\n",
       "    .dataframe thead th {\n",
       "        text-align: right;\n",
       "    }\n",
       "</style>\n",
       "<table border=\"1\" class=\"dataframe\">\n",
       "  <thead>\n",
       "    <tr style=\"text-align: right;\">\n",
       "      <th></th>\n",
       "      <th>overall</th>\n",
       "      <th>Review</th>\n",
       "    </tr>\n",
       "  </thead>\n",
       "  <tbody>\n",
       "    <tr>\n",
       "      <th>0</th>\n",
       "      <td>5</td>\n",
       "      <td>This a really cool (but time-tested) design. T...</td>\n",
       "    </tr>\n",
       "    <tr>\n",
       "      <th>1</th>\n",
       "      <td>5</td>\n",
       "      <td>I liked the first pair so well I bought severa...</td>\n",
       "    </tr>\n",
       "    <tr>\n",
       "      <th>2</th>\n",
       "      <td>4</td>\n",
       "      <td>I took them to the range to put them to the te...</td>\n",
       "    </tr>\n",
       "    <tr>\n",
       "      <th>3</th>\n",
       "      <td>5</td>\n",
       "      <td>What can you say about a yoga block?  These ar...</td>\n",
       "    </tr>\n",
       "    <tr>\n",
       "      <th>4</th>\n",
       "      <td>5</td>\n",
       "      <td>After reading many reviews I decided on this l...</td>\n",
       "    </tr>\n",
       "  </tbody>\n",
       "</table>\n",
       "</div>"
      ],
      "text/plain": [
       "   overall                                             Review\n",
       "0        5  This a really cool (but time-tested) design. T...\n",
       "1        5  I liked the first pair so well I bought severa...\n",
       "2        4  I took them to the range to put them to the te...\n",
       "3        5  What can you say about a yoga block?  These ar...\n",
       "4        5  After reading many reviews I decided on this l..."
      ]
     },
     "execution_count": 5,
     "metadata": {},
     "output_type": "execute_result"
    }
   ],
   "source": [
    "train.head()"
   ]
  },
  {
   "cell_type": "code",
   "execution_count": 6,
   "metadata": {},
   "outputs": [
    {
     "name": "stdout",
     "output_type": "stream",
     "text": [
      "<class 'pandas.core.frame.DataFrame'>\n",
      "RangeIndex: 222243 entries, 0 to 222242\n",
      "Data columns (total 2 columns):\n",
      " #   Column   Non-Null Count   Dtype \n",
      "---  ------   --------------   ----- \n",
      " 0   overall  222243 non-null  int64 \n",
      " 1   Review   222243 non-null  object\n",
      "dtypes: int64(1), object(1)\n",
      "memory usage: 3.4+ MB\n"
     ]
    }
   ],
   "source": [
    "train.info()"
   ]
  },
  {
   "cell_type": "code",
   "execution_count": 7,
   "metadata": {},
   "outputs": [
    {
     "data": {
      "text/html": [
       "<div>\n",
       "<style scoped>\n",
       "    .dataframe tbody tr th:only-of-type {\n",
       "        vertical-align: middle;\n",
       "    }\n",
       "\n",
       "    .dataframe tbody tr th {\n",
       "        vertical-align: top;\n",
       "    }\n",
       "\n",
       "    .dataframe thead th {\n",
       "        text-align: right;\n",
       "    }\n",
       "</style>\n",
       "<table border=\"1\" class=\"dataframe\">\n",
       "  <thead>\n",
       "    <tr style=\"text-align: right;\">\n",
       "      <th></th>\n",
       "      <th>overall</th>\n",
       "    </tr>\n",
       "  </thead>\n",
       "  <tbody>\n",
       "    <tr>\n",
       "      <th>count</th>\n",
       "      <td>222243.000000</td>\n",
       "    </tr>\n",
       "    <tr>\n",
       "      <th>mean</th>\n",
       "      <td>4.394771</td>\n",
       "    </tr>\n",
       "    <tr>\n",
       "      <th>std</th>\n",
       "      <td>0.985039</td>\n",
       "    </tr>\n",
       "    <tr>\n",
       "      <th>min</th>\n",
       "      <td>1.000000</td>\n",
       "    </tr>\n",
       "    <tr>\n",
       "      <th>25%</th>\n",
       "      <td>4.000000</td>\n",
       "    </tr>\n",
       "    <tr>\n",
       "      <th>50%</th>\n",
       "      <td>5.000000</td>\n",
       "    </tr>\n",
       "    <tr>\n",
       "      <th>75%</th>\n",
       "      <td>5.000000</td>\n",
       "    </tr>\n",
       "    <tr>\n",
       "      <th>max</th>\n",
       "      <td>5.000000</td>\n",
       "    </tr>\n",
       "  </tbody>\n",
       "</table>\n",
       "</div>"
      ],
      "text/plain": [
       "             overall\n",
       "count  222243.000000\n",
       "mean        4.394771\n",
       "std         0.985039\n",
       "min         1.000000\n",
       "25%         4.000000\n",
       "50%         5.000000\n",
       "75%         5.000000\n",
       "max         5.000000"
      ]
     },
     "execution_count": 7,
     "metadata": {},
     "output_type": "execute_result"
    }
   ],
   "source": [
    "train.describe()"
   ]
  },
  {
   "attachments": {},
   "cell_type": "markdown",
   "metadata": {},
   "source": [
    "These tables give us the initial information we need about the dataset - it has two columns, 'overall' which is like a likert scale between 1-5 and is to be used for multiclass classification, and 'Review' which adds onto 'overall' and is a brief subjective opinion of the reviewer on the product. There are only two columns and no missing values, therefore no direct modification needs to be done to the dataset other than preprocessing."
   ]
  },
  {
   "attachments": {},
   "cell_type": "markdown",
   "metadata": {},
   "source": [
    "**For explanation purposes, 1-2 will be assumed as negative, 3 as neutral, and 4-5 as positive reviews.**"
   ]
  },
  {
   "attachments": {},
   "cell_type": "markdown",
   "metadata": {},
   "source": [
    "### Distribution of data"
   ]
  },
  {
   "cell_type": "code",
   "execution_count": 8,
   "metadata": {},
   "outputs": [
    {
     "data": {
      "image/png": "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",
      "text/plain": [
       "<Figure size 640x480 with 1 Axes>"
      ]
     },
     "metadata": {},
     "output_type": "display_data"
    }
   ],
   "source": [
    "# distribution of overall\n",
    "train.hist()\n",
    "plt.title(\"Distribution of overall\")\n",
    "plt.show()"
   ]
  },
  {
   "cell_type": "code",
   "execution_count": 9,
   "metadata": {},
   "outputs": [
    {
     "data": {
      "text/plain": [
       "5    141169\n",
       "4     48748\n",
       "3     17947\n",
       "2      7650\n",
       "1      6729\n",
       "Name: overall, dtype: int64"
      ]
     },
     "execution_count": 9,
     "metadata": {},
     "output_type": "execute_result"
    }
   ],
   "source": [
    "train['overall'].value_counts()"
   ]
  },
  {
   "cell_type": "code",
   "execution_count": 10,
   "metadata": {},
   "outputs": [
    {
     "data": {
      "image/png": "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",
      "text/plain": [
       "<Figure size 640x480 with 1 Axes>"
      ]
     },
     "metadata": {},
     "output_type": "display_data"
    }
   ],
   "source": [
    "count = train['overall'].value_counts()\n",
    "plt.pie(count, labels=count.index, autopct=\"%1.1f\", startangle=90)\n",
    "plt.title(\"Distribution of overall\")\n",
    "plt.show()"
   ]
  },
  {
   "attachments": {},
   "cell_type": "markdown",
   "metadata": {},
   "source": [
    "The graphs show that this dataset is extremely unbalanced, with most of the data (~85%) in \"classes\" 4 and 5. This can prove challenging for our future text classifier, especially for a multi-classification task, as the model may be biased towards the class with the most data and will result to overfitting and inaccurate classification."
   ]
  },
  {
   "cell_type": "code",
   "execution_count": 11,
   "metadata": {},
   "outputs": [
    {
     "data": {
      "image/png": "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",
      "text/plain": [
       "<Figure size 640x480 with 1 Axes>"
      ]
     },
     "metadata": {},
     "output_type": "display_data"
    }
   ],
   "source": [
    "plt.boxplot(train['overall'])\n",
    "plt.title(\"Distribution of overall\")\n",
    "plt.show()"
   ]
  },
  {
   "attachments": {},
   "cell_type": "markdown",
   "metadata": {},
   "source": [
    "A box plot is extremely helpful as it can help us detect any outliers. Here, the plot has marked the minimum and maximum values as 3 and 5 respectively, with most of the data concentrated in classes 4 and 5. As expected, 5 has also been marked as the median as it is the class with the most data. Classes 1 and 2 have been considered as outliers. In most cases, outliers can and should be removed to make sure the classification process can run smoothly and avoid any miss classifications. But, as classes 1 and 2 are the only \"negative\" classes in this dataset, these outliers cannot be removed, otherwise the data and classifier will render useless."
   ]
  },
  {
   "attachments": {},
   "cell_type": "markdown",
   "metadata": {},
   "source": [
    "### Text data"
   ]
  },
  {
   "cell_type": "code",
   "execution_count": 12,
   "metadata": {},
   "outputs": [
    {
     "data": {
      "image/png": "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",
      "text/plain": [
       "<Figure size 640x480 with 1 Axes>"
      ]
     },
     "metadata": {},
     "output_type": "display_data"
    }
   ],
   "source": [
    "# checking word count\n",
    "train['Word Count'] = [len(i.split()) for i in list(train['Review'])]\n",
    "\n",
    "plt.hist(train['Word Count'], bins = range(10, 601, 10))\n",
    "plt.title(\"Reviews Word Count\")\n",
    "plt.show()"
   ]
  },
  {
   "cell_type": "code",
   "execution_count": 13,
   "metadata": {},
   "outputs": [
    {
     "data": {
      "image/png": "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",
      "text/plain": [
       "<Figure size 640x480 with 1 Axes>"
      ]
     },
     "metadata": {},
     "output_type": "display_data"
    }
   ],
   "source": [
    "# checking character count\n",
    "train['Character Count'] = [len(i) for i in list(train['Review'])]\n",
    "\n",
    "plt.hist(train['Character Count'], bins = range(10, 2001, 10))\n",
    "plt.title(\"Reviews Character Count\")\n",
    "plt.show()"
   ]
  },
  {
   "attachments": {},
   "cell_type": "markdown",
   "metadata": {},
   "source": [
    "Most reviews seem to be short - approx. under 100 words and 500 characters."
   ]
  },
  {
   "attachments": {},
   "cell_type": "markdown",
   "metadata": {},
   "source": [
    "### Checking for correlation"
   ]
  },
  {
   "cell_type": "code",
   "execution_count": 14,
   "metadata": {},
   "outputs": [
    {
     "data": {
      "text/html": [
       "<div>\n",
       "<style scoped>\n",
       "    .dataframe tbody tr th:only-of-type {\n",
       "        vertical-align: middle;\n",
       "    }\n",
       "\n",
       "    .dataframe tbody tr th {\n",
       "        vertical-align: top;\n",
       "    }\n",
       "\n",
       "    .dataframe thead th {\n",
       "        text-align: right;\n",
       "    }\n",
       "</style>\n",
       "<table border=\"1\" class=\"dataframe\">\n",
       "  <thead>\n",
       "    <tr style=\"text-align: right;\">\n",
       "      <th></th>\n",
       "      <th>overall</th>\n",
       "      <th>Word Count</th>\n",
       "      <th>Character Count</th>\n",
       "    </tr>\n",
       "  </thead>\n",
       "  <tbody>\n",
       "    <tr>\n",
       "      <th>overall</th>\n",
       "      <td>1.000000</td>\n",
       "      <td>-0.072247</td>\n",
       "      <td>-0.069287</td>\n",
       "    </tr>\n",
       "    <tr>\n",
       "      <th>Word Count</th>\n",
       "      <td>-0.072247</td>\n",
       "      <td>1.000000</td>\n",
       "      <td>0.997638</td>\n",
       "    </tr>\n",
       "    <tr>\n",
       "      <th>Character Count</th>\n",
       "      <td>-0.069287</td>\n",
       "      <td>0.997638</td>\n",
       "      <td>1.000000</td>\n",
       "    </tr>\n",
       "  </tbody>\n",
       "</table>\n",
       "</div>"
      ],
      "text/plain": [
       "                  overall  Word Count  Character Count\n",
       "overall          1.000000   -0.072247        -0.069287\n",
       "Word Count      -0.072247    1.000000         0.997638\n",
       "Character Count -0.069287    0.997638         1.000000"
      ]
     },
     "execution_count": 14,
     "metadata": {},
     "output_type": "execute_result"
    }
   ],
   "source": [
    "train.corr(numeric_only=True)"
   ]
  },
  {
   "attachments": {},
   "cell_type": "markdown",
   "metadata": {},
   "source": [
    "Sadly, word and character count seem to have no correlation with the overall scale, therefore these counts will not provide help with classification."
   ]
  },
  {
   "attachments": {},
   "cell_type": "markdown",
   "metadata": {},
   "source": [
    "# Text Processing and Normalization"
   ]
  },
  {
   "attachments": {},
   "cell_type": "markdown",
   "metadata": {},
   "source": [
    "### Making it lowercase"
   ]
  },
  {
   "cell_type": "code",
   "execution_count": 15,
   "metadata": {},
   "outputs": [],
   "source": [
    "train['Cleaned Reviews'] = train['Review'].parallel_apply(lambda x: \" \".join(x.lower() for x in x.split()))"
   ]
  },
  {
   "attachments": {},
   "cell_type": "markdown",
   "metadata": {},
   "source": [
    "### Removing punctuation and numbers"
   ]
  },
  {
   "cell_type": "code",
   "execution_count": 16,
   "metadata": {},
   "outputs": [],
   "source": [
    "train['Cleaned Reviews'] = train['Cleaned Reviews'].str.replace('[^\\w\\s]|[0-9]+','', regex=True)"
   ]
  },
  {
   "cell_type": "code",
   "execution_count": 17,
   "metadata": {},
   "outputs": [
    {
     "data": {
      "text/plain": [
       "0    this a really cool but timetested design the c...\n",
       "1    i liked the first pair so well i bought severa...\n",
       "2    i took them to the range to put them to the te...\n",
       "3    what can you say about a yoga block these are ...\n",
       "4    after reading many reviews i decided on this l...\n",
       "Name: Cleaned Reviews, dtype: object"
      ]
     },
     "execution_count": 17,
     "metadata": {},
     "output_type": "execute_result"
    }
   ],
   "source": [
    "train['Cleaned Reviews'].head()"
   ]
  },
  {
   "attachments": {},
   "cell_type": "markdown",
   "metadata": {},
   "source": [
    "### Removing stopwords"
   ]
  },
  {
   "cell_type": "code",
   "execution_count": 18,
   "metadata": {},
   "outputs": [],
   "source": [
    "stopw = set(stopwords.words('english'))"
   ]
  },
  {
   "cell_type": "code",
   "execution_count": 19,
   "metadata": {},
   "outputs": [],
   "source": [
    "\n",
    "train['Cleaned Reviews'] = train['Cleaned Reviews'].apply(lambda rev: \" \".join([str for str in rev.split(' ') if str not in stopw]) )"
   ]
  },
  {
   "cell_type": "code",
   "execution_count": 20,
   "metadata": {},
   "outputs": [
    {
     "data": {
      "text/plain": [
       "0    really cool timetested design carbon steel bla...\n",
       "1    liked first pair well bought several found usu...\n",
       "2    took range put test adjust volume hear people ...\n",
       "3    say yoga block solid sturdy  namebrand feared ...\n",
       "4    reading many reviews decided light satisfied d...\n",
       "Name: Cleaned Reviews, dtype: object"
      ]
     },
     "execution_count": 20,
     "metadata": {},
     "output_type": "execute_result"
    }
   ],
   "source": [
    "train['Cleaned Reviews'].head()"
   ]
  },
  {
   "attachments": {},
   "cell_type": "markdown",
   "metadata": {},
   "source": [
    "### Splitting into tokens"
   ]
  },
  {
   "attachments": {},
   "cell_type": "markdown",
   "metadata": {},
   "source": [
    "Tokenizing is the method of splitting up a corpus into 'tokens' - usually achieved by spltting the text into individual components."
   ]
  },
  {
   "cell_type": "code",
   "execution_count": 21,
   "metadata": {},
   "outputs": [
    {
     "name": "stdout",
     "output_type": "stream",
     "text": [
      "['I', 'really', 'hated', 'this']\n"
     ]
    }
   ],
   "source": [
    "print(word_tokenize('I really hated this'))"
   ]
  },
  {
   "cell_type": "code",
   "execution_count": 22,
   "metadata": {},
   "outputs": [],
   "source": [
    "train['Tokenized Reviews'] = train['Cleaned Reviews'].parallel_apply(word_tokenize)"
   ]
  },
  {
   "cell_type": "code",
   "execution_count": 23,
   "metadata": {},
   "outputs": [
    {
     "data": {
      "text/plain": [
       "0    [really, cool, timetested, design, carbon, ste...\n",
       "1    [liked, first, pair, well, bought, several, fo...\n",
       "2    [took, range, put, test, adjust, volume, hear,...\n",
       "3    [say, yoga, block, solid, sturdy, namebrand, f...\n",
       "4    [reading, many, reviews, decided, light, satis...\n",
       "Name: Tokenized Reviews, dtype: object"
      ]
     },
     "execution_count": 23,
     "metadata": {},
     "output_type": "execute_result"
    }
   ],
   "source": [
    "train['Tokenized Reviews'].head()"
   ]
  },
  {
   "attachments": {},
   "cell_type": "markdown",
   "metadata": {},
   "source": [
    "The next step is to lemmatize the tokens, however..."
   ]
  },
  {
   "cell_type": "code",
   "execution_count": 24,
   "metadata": {},
   "outputs": [
    {
     "name": "stdout",
     "output_type": "stream",
     "text": [
      "liked\n"
     ]
    }
   ],
   "source": [
    "wnl = WordNetLemmatizer()\n",
    "print(wnl.lemmatize('liked'))"
   ]
  },
  {
   "attachments": {},
   "cell_type": "markdown",
   "metadata": {},
   "source": [
    "By default, NLTK's WordNetLemmatizer assumes every word is a noun and will lemmatize text incorrectly if POS-tagging (Parts-Of-Speech Tagging) is not done beforehand.\n",
    "\n",
    "Source: https://www.nltk.org/api/nltk.stem.wordnet.html?highlight=lemmatiz#nltk.stem.wordnet.WordNetLemmatizer.lemmatize"
   ]
  },
  {
   "cell_type": "code",
   "execution_count": 25,
   "metadata": {},
   "outputs": [],
   "source": [
    "train['Tagged Reviews'] = train['Tokenized Reviews'].parallel_apply(pos_tag)"
   ]
  },
  {
   "attachments": {},
   "cell_type": "markdown",
   "metadata": {},
   "source": [
    "However, the POS-tag given by NLTK's POS tagger is not an accepted format for NLTK's WordNetLemmatizer, so it needs to be mapped."
   ]
  },
  {
   "cell_type": "code",
   "execution_count": 26,
   "metadata": {},
   "outputs": [],
   "source": [
    "# From https://stackoverflow.com/questions/15586721/wordnet-lemmatization-and-pos-tagging-in-python/15590384#15590384\n",
    "\n",
    "def get_wordnet_pos(treebank_tag):\n",
    "    if treebank_tag.startswith('J'):\n",
    "        return wordnet.ADJ\n",
    "    elif treebank_tag.startswith('V'):\n",
    "        return wordnet.VERB\n",
    "    elif treebank_tag.startswith('N'):\n",
    "        return wordnet.NOUN\n",
    "    elif treebank_tag.startswith('R'):\n",
    "        return wordnet.ADV\n",
    "    else:\n",
    "        return None\n",
    "    \n",
    "def wordnet_format(text):\n",
    "    return [(word[0],get_wordnet_pos(word[1])) for word in text]\n",
    "\n",
    "\n",
    "train['Tagged Reviews'] = train['Tagged Reviews'].apply(wordnet_format)"
   ]
  },
  {
   "cell_type": "code",
   "execution_count": 27,
   "metadata": {},
   "outputs": [
    {
     "name": "stdout",
     "output_type": "stream",
     "text": [
      "Without POS-tag:\n",
      "['liked', 'first', 'pair', 'well', 'bought']\n",
      "With POS-tag: \n",
      "['like', 'first', 'pair', 'well', 'buy']\n"
     ]
    }
   ],
   "source": [
    "example1 = train['Tokenized Reviews'].iloc[1].copy()\n",
    "example1pos = train['Tagged Reviews'].iloc[1].copy()\n",
    "\n",
    "print(\"Without POS-tag:\")\n",
    "print([wnl.lemmatize(word) for word in example1[:5]])\n",
    "print(\"With POS-tag: \")\n",
    "print([wnl.lemmatize(word[0], pos=word[1]) for word in example1pos[:5]])"
   ]
  },
  {
   "attachments": {},
   "cell_type": "markdown",
   "metadata": {},
   "source": [
    "As shown above, without POS-tagging, NLTK's lemmatizer doesn't correctly lemmatize verbs. Now that the text has been tokenized and POS-tagged, it can be lemmatized."
   ]
  },
  {
   "attachments": {},
   "cell_type": "markdown",
   "metadata": {},
   "source": [
    "### Lemmatizing the tokens"
   ]
  },
  {
   "attachments": {},
   "cell_type": "markdown",
   "metadata": {},
   "source": [
    "Lemmatization is a text normalization technique used throughout NLP models. Oftentimes, it is the preferred normalization method over stemming, shown by SpaCy opting to drop stemming from its library entirely. "
   ]
  },
  {
   "cell_type": "code",
   "execution_count": 28,
   "metadata": {},
   "outputs": [
    {
     "data": {
      "text/plain": [
       "0    [really, cool, timetested, design, carbon, ste...\n",
       "1    [like, first, pair, well, buy, several, find, ...\n",
       "2    [take, range, put, test, adjust, volume, hear,...\n",
       "3    [say, yoga, block, solid, sturdy, namebrand, f...\n",
       "4    [read, many, review, decide, light, satisfied,...\n",
       "Name: Lemmatized Reviews, dtype: object"
      ]
     },
     "execution_count": 28,
     "metadata": {},
     "output_type": "execute_result"
    }
   ],
   "source": [
    "train['Lemmatized Reviews'] = train['Tagged Reviews'].apply(lambda x: [wnl.lemmatize(word[0], pos=word[1]) if word[1] is not None else wnl.lemmatize(word[0]) for word in x ])\n",
    "train['Lemmatized Reviews'].head()"
   ]
  },
  {
   "attachments": {},
   "cell_type": "markdown",
   "metadata": {},
   "source": [
    "### Stemming the tokens"
   ]
  },
  {
   "cell_type": "code",
   "execution_count": 29,
   "metadata": {},
   "outputs": [
    {
     "data": {
      "text/plain": [
       "0    [realli, cool, timetest, design, carbon, steel...\n",
       "1    [like, first, pair, well, bought, sever, found...\n",
       "2    [took, rang, put, test, adjust, volum, hear, p...\n",
       "3    [say, yoga, block, solid, sturdi, namebrand, f...\n",
       "4    [read, mani, review, decid, light, satisfi, da...\n",
       "Name: Stemmed Reviews, dtype: object"
      ]
     },
     "execution_count": 29,
     "metadata": {},
     "output_type": "execute_result"
    }
   ],
   "source": [
    "stem = PorterStemmer()\n",
    "train['Stemmed Reviews'] = train['Tokenized Reviews'].apply(\n",
    "    lambda rev: [stem.stem(text) for text in rev])\n",
    "train['Stemmed Reviews'].head()"
   ]
  },
  {
   "attachments": {},
   "cell_type": "markdown",
   "metadata": {},
   "source": [
    "### Evaluating Stemming vs Lemmatization"
   ]
  },
  {
   "attachments": {},
   "cell_type": "markdown",
   "metadata": {},
   "source": [
    "First, we evaluate stemming by averaging its results through various text representation methods and logistic regression."
   ]
  },
  {
   "cell_type": "code",

   "execution_count": 32,
   "metadata": {},
   "outputs": [
    {
     "name": "stderr",
     "output_type": "stream",
     "text": [
      "c:\\Users\\alora\\anaconda3\\envs\\aa\\lib\\site-packages\\sklearn\\feature_extraction\\text.py:528: UserWarning: The parameter 'token_pattern' will not be used since 'tokenizer' is not None'\n",
      "  warnings.warn(\n"
     ]
    }
   ],
   "source": [
    "from sklearn.feature_extraction.text import CountVectorizer\n",
    "from sklearn.feature_extraction.text import TfidfVectorizer\n",
    "strings_Stemmed = train[\"Stemmed Reviews\"].map(' '.join)\n",
    "\n",
    "# Using Bag of Words\n",
    "bow_converter = CountVectorizer(tokenizer=lambda doc: doc)\n",
    "x_bow = bow_converter.fit_transform(strings_Stemmed)\n",
    "\n",
    "\n"
   ]
  },
  {
   "cell_type": "code",
   "execution_count": 31,
   "metadata": {},
   "outputs": [],
   "source": [
    "# Using ngrams \n",
    "bigram_converter = CountVectorizer(tokenizer=lambda doc: doc,\n",
    "ngram_range=(2,2))\n",
    "x_bigram = bigram_converter.fit_transform(strings_Stemmed)\n",
    "trigram_converter = CountVectorizer(tokenizer=lambda doc: doc,\n",
    "ngram_range=(3,3))\n",
    "x_trigram = trigram_converter.fit_transform(strings_Stemmed)\n"
   ]
  },
  {
   "cell_type": "code",
   "execution_count": 32,
   "metadata": {},
   "outputs": [],
   "source": [
    "#Using tf-idf\n",
    "tfidf_vectorizer = TfidfVectorizer()\n",
    "doc_vec = tfidf_vectorizer.fit_transform(strings_Stemmed)"
   ]
  },
  {
   "cell_type": "code",
   "execution_count": 30,
   "metadata": {},
   "outputs": [],
   "source": [
    "from sklearn.linear_model import LogisticRegression\n",
    "\n",
    "def simple_logistic_classify(X_tr, y_tr, X_test, y_test, description, _C=1.0):\n",
    "    model = LogisticRegression(C=_C).fit(X_tr, y_tr)\n",
    "    score = model.score(X_test, y_test)\n",
    "    print('Test Score with', description, 'features', score)\n",
    "    return model"
   ]
  },
  {
   "cell_type": "code",
   "execution_count": 34,
   "metadata": {},
   "outputs": [
    {
     "name": "stderr",
     "output_type": "stream",
     "text": [
      "c:\\Users\\bhavika\\AppData\\Local\\Programs\\Python\\Python310\\lib\\site-packages\\sklearn\\linear_model\\_logistic.py:444: ConvergenceWarning: lbfgs failed to converge (status=1):\n",
      "STOP: TOTAL NO. of ITERATIONS REACHED LIMIT.\n",
      "\n",
      "Increase the number of iterations (max_iter) or scale the data as shown in:\n",
      "    https://scikit-learn.org/stable/modules/preprocessing.html\n",
      "Please also refer to the documentation for alternative solver options:\n",
      "    https://scikit-learn.org/stable/modules/linear_model.html#logistic-regression\n",
      "  n_iter_i = _check_optimize_result(\n"
     ]
    },
    {
     "name": "stdout",
     "output_type": "stream",
     "text": [
      "Test Score with BOW features 0.6331959467972139\n"
     ]
    },
    {
     "name": "stderr",
     "output_type": "stream",
     "text": [
      "c:\\Users\\bhavika\\AppData\\Local\\Programs\\Python\\Python310\\lib\\site-packages\\sklearn\\linear_model\\_logistic.py:444: ConvergenceWarning: lbfgs failed to converge (status=1):\n",
      "STOP: TOTAL NO. of ITERATIONS REACHED LIMIT.\n",
      "\n",
      "Increase the number of iterations (max_iter) or scale the data as shown in:\n",
      "    https://scikit-learn.org/stable/modules/preprocessing.html\n",
      "Please also refer to the documentation for alternative solver options:\n",
      "    https://scikit-learn.org/stable/modules/linear_model.html#logistic-regression\n",
      "  n_iter_i = _check_optimize_result(\n"
     ]
    },
    {
     "name": "stdout",
     "output_type": "stream",
     "text": [
      "Test Score with bigram features 0.6479185039866093\n"
     ]
    },
    {
     "name": "stderr",
     "output_type": "stream",
     "text": [
      "c:\\Users\\bhavika\\AppData\\Local\\Programs\\Python\\Python310\\lib\\site-packages\\sklearn\\linear_model\\_logistic.py:444: ConvergenceWarning: lbfgs failed to converge (status=1):\n",
      "STOP: TOTAL NO. of ITERATIONS REACHED LIMIT.\n",
      "\n",
      "Increase the number of iterations (max_iter) or scale the data as shown in:\n",
      "    https://scikit-learn.org/stable/modules/preprocessing.html\n",
      "Please also refer to the documentation for alternative solver options:\n",
      "    https://scikit-learn.org/stable/modules/linear_model.html#logistic-regression\n",
      "  n_iter_i = _check_optimize_result(\n"
     ]
    },
    {
     "name": "stdout",
     "output_type": "stream",
     "text": [
      "Test Score with trigram features 0.6834650204279981\n",
      "Test Score with tfidf features 0.696135778693688\n"
     ]
    },
    {
     "name": "stderr",
     "output_type": "stream",
     "text": [
      "c:\\Users\\bhavika\\AppData\\Local\\Programs\\Python\\Python310\\lib\\site-packages\\sklearn\\linear_model\\_logistic.py:444: ConvergenceWarning: lbfgs failed to converge (status=1):\n",
      "STOP: TOTAL NO. of ITERATIONS REACHED LIMIT.\n",
      "\n",
      "Increase the number of iterations (max_iter) or scale the data as shown in:\n",
      "    https://scikit-learn.org/stable/modules/preprocessing.html\n",
      "Please also refer to the documentation for alternative solver options:\n",
      "    https://scikit-learn.org/stable/modules/linear_model.html#logistic-regression\n",
      "  n_iter_i = _check_optimize_result(\n"
     ]
    },
    {
     "data": {
      "text/html": [
       "<style>#sk-container-id-1 {color: black;background-color: white;}#sk-container-id-1 pre{padding: 0;}#sk-container-id-1 div.sk-toggleable {background-color: white;}#sk-container-id-1 label.sk-toggleable__label {cursor: pointer;display: block;width: 100%;margin-bottom: 0;padding: 0.3em;box-sizing: border-box;text-align: center;}#sk-container-id-1 label.sk-toggleable__label-arrow:before {content: \"▸\";float: left;margin-right: 0.25em;color: #696969;}#sk-container-id-1 label.sk-toggleable__label-arrow:hover:before {color: black;}#sk-container-id-1 div.sk-estimator:hover label.sk-toggleable__label-arrow:before {color: black;}#sk-container-id-1 div.sk-toggleable__content {max-height: 0;max-width: 0;overflow: hidden;text-align: left;background-color: #f0f8ff;}#sk-container-id-1 div.sk-toggleable__content pre {margin: 0.2em;color: black;border-radius: 0.25em;background-color: #f0f8ff;}#sk-container-id-1 input.sk-toggleable__control:checked~div.sk-toggleable__content {max-height: 200px;max-width: 100%;overflow: auto;}#sk-container-id-1 input.sk-toggleable__control:checked~label.sk-toggleable__label-arrow:before {content: \"▾\";}#sk-container-id-1 div.sk-estimator input.sk-toggleable__control:checked~label.sk-toggleable__label {background-color: #d4ebff;}#sk-container-id-1 div.sk-label input.sk-toggleable__control:checked~label.sk-toggleable__label {background-color: #d4ebff;}#sk-container-id-1 input.sk-hidden--visually {border: 0;clip: rect(1px 1px 1px 1px);clip: rect(1px, 1px, 1px, 1px);height: 1px;margin: -1px;overflow: hidden;padding: 0;position: absolute;width: 1px;}#sk-container-id-1 div.sk-estimator {font-family: monospace;background-color: #f0f8ff;border: 1px dotted black;border-radius: 0.25em;box-sizing: border-box;margin-bottom: 0.5em;}#sk-container-id-1 div.sk-estimator:hover {background-color: #d4ebff;}#sk-container-id-1 div.sk-parallel-item::after {content: \"\";width: 100%;border-bottom: 1px solid gray;flex-grow: 1;}#sk-container-id-1 div.sk-label:hover label.sk-toggleable__label {background-color: #d4ebff;}#sk-container-id-1 div.sk-serial::before {content: \"\";position: absolute;border-left: 1px solid gray;box-sizing: border-box;top: 0;bottom: 0;left: 50%;z-index: 0;}#sk-container-id-1 div.sk-serial {display: flex;flex-direction: column;align-items: center;background-color: white;padding-right: 0.2em;padding-left: 0.2em;position: relative;}#sk-container-id-1 div.sk-item {position: relative;z-index: 1;}#sk-container-id-1 div.sk-parallel {display: flex;align-items: stretch;justify-content: center;background-color: white;position: relative;}#sk-container-id-1 div.sk-item::before, #sk-container-id-1 div.sk-parallel-item::before {content: \"\";position: absolute;border-left: 1px solid gray;box-sizing: border-box;top: 0;bottom: 0;left: 50%;z-index: -1;}#sk-container-id-1 div.sk-parallel-item {display: flex;flex-direction: column;z-index: 1;position: relative;background-color: white;}#sk-container-id-1 div.sk-parallel-item:first-child::after {align-self: flex-end;width: 50%;}#sk-container-id-1 div.sk-parallel-item:last-child::after {align-self: flex-start;width: 50%;}#sk-container-id-1 div.sk-parallel-item:only-child::after {width: 0;}#sk-container-id-1 div.sk-dashed-wrapped {border: 1px dashed gray;margin: 0 0.4em 0.5em 0.4em;box-sizing: border-box;padding-bottom: 0.4em;background-color: white;}#sk-container-id-1 div.sk-label label {font-family: monospace;font-weight: bold;display: inline-block;line-height: 1.2em;}#sk-container-id-1 div.sk-label-container {text-align: center;}#sk-container-id-1 div.sk-container {/* jupyter's `normalize.less` sets `[hidden] { display: none; }` but bootstrap.min.css set `[hidden] { display: none !important; }` so we also need the `!important` here to be able to override the default hidden behavior on the sphinx rendered scikit-learn.org. See: https://github.com/scikit-learn/scikit-learn/issues/21755 */display: inline-block !important;position: relative;}#sk-container-id-1 div.sk-text-repr-fallback {display: none;}</style><div id=\"sk-container-id-1\" class=\"sk-top-container\"><div class=\"sk-text-repr-fallback\"><pre>LogisticRegression()</pre><b>In a Jupyter environment, please rerun this cell to show the HTML representation or trust the notebook. <br />On GitHub, the HTML representation is unable to render, please try loading this page with nbviewer.org.</b></div><div class=\"sk-container\" hidden><div class=\"sk-item\"><div class=\"sk-estimator sk-toggleable\"><input class=\"sk-toggleable__control sk-hidden--visually\" id=\"sk-estimator-id-1\" type=\"checkbox\" checked><label for=\"sk-estimator-id-1\" class=\"sk-toggleable__label sk-toggleable__label-arrow\">LogisticRegression</label><div class=\"sk-toggleable__content\"><pre>LogisticRegression()</pre></div></div></div></div></div>"
      ],
      "text/plain": [
       "LogisticRegression()"
      ]
     },
     "execution_count": 34,
     "metadata": {},
     "output_type": "execute_result"
    }
   ],
   "source": [
    "Y = train['overall']\n",
    "\n",
    "train_X, test_X, train_y, test_y = train_test_split(x_bow, Y, random_state=50)\n",
    "simple_logistic_classify(train_X, train_y, test_X, test_y, \"BOW\")\n",
    "\n",
    "train_X, test_X, train_y, test_y = train_test_split(x_bigram, Y, random_state=50)\n",
    "simple_logistic_classify(train_X, train_y, test_X, test_y, \"bigram\")\n",
    "\n",
    "train_X, test_X, train_y, test_y = train_test_split(x_trigram, Y, random_state=50)\n",
    "simple_logistic_classify(train_X, train_y, test_X, test_y, \"trigram\")\n",
    "\n",
    "train_X, test_X, train_y, test_y = train_test_split(doc_vec, Y, random_state=50)\n",
    "simple_logistic_classify(train_X, train_y, test_X, test_y, \"tfidf\")\n"
   ]
  },
  {
   "attachments": {},
   "cell_type": "markdown",
   "metadata": {},
   "source": [
    "The same process is followed for lemmatization, so that it is a balanced comparison."
   ]
  },
  {
   "cell_type": "code",
   "execution_count": 33,
   "metadata": {},
   "outputs": [],
   "source": [
    "strings_Lemma = train[\"Lemmatized Reviews\"].map(' '.join)\n",
    "\n",
    "# Using Bag of Words\n",
    "bow_converter = CountVectorizer(tokenizer=lambda doc: doc)\n",
    "x_bow = bow_converter.fit_transform(strings_Lemma)"
   ]
  },
  {
   "cell_type": "code",
   "execution_count": 34,
   "metadata": {},
   "outputs": [],
   "source": [
    "# Using ngrams \n",
    "bigram_converter = CountVectorizer(tokenizer=lambda doc: doc,\n",
    "ngram_range=(2,2))\n",
    "x_bigram = bigram_converter.fit_transform(strings_Lemma)\n",
    "trigram_converter = CountVectorizer(tokenizer=lambda doc: doc,\n",
    "ngram_range=(3,3))\n",
    "x_trigram = trigram_converter.fit_transform(strings_Lemma)"
   ]
  },
  {
   "cell_type": "code",
   "execution_count": 35,
   "metadata": {},
   "outputs": [],
   "source": [
    "#Using tf-idf\n",
    "tfidf_vectorizer = TfidfVectorizer()\n",
    "doc_vec = tfidf_vectorizer.fit_transform(strings_Lemma)"
   ]
  },
  {
   "cell_type": "code",
   "execution_count": 36,
   "metadata": {},
   "outputs": [
    {
     "name": "stderr",
     "output_type": "stream",
     "text": [
      "c:\\Users\\alora\\anaconda3\\envs\\aa\\lib\\site-packages\\sklearn\\linear_model\\_logistic.py:458: ConvergenceWarning: lbfgs failed to converge (status=1):\n",
      "STOP: TOTAL NO. of ITERATIONS REACHED LIMIT.\n",
      "\n",
      "Increase the number of iterations (max_iter) or scale the data as shown in:\n",
      "    https://scikit-learn.org/stable/modules/preprocessing.html\n",
      "Please also refer to the documentation for alternative solver options:\n",
      "    https://scikit-learn.org/stable/modules/linear_model.html#logistic-regression\n",
      "  n_iter_i = _check_optimize_result(\n"
     ]
    },
    {
     "name": "stdout",
     "output_type": "stream",
     "text": [
      "Test Score with BOW features 0.6322420402800526\n"
     ]
    },
    {
     "name": "stderr",
     "output_type": "stream",
     "text": [
      "c:\\Users\\alora\\anaconda3\\envs\\aa\\lib\\site-packages\\sklearn\\linear_model\\_logistic.py:458: ConvergenceWarning: lbfgs failed to converge (status=1):\n",
      "STOP: TOTAL NO. of ITERATIONS REACHED LIMIT.\n",
      "\n",
      "Increase the number of iterations (max_iter) or scale the data as shown in:\n",
      "    https://scikit-learn.org/stable/modules/preprocessing.html\n",
      "Please also refer to the documentation for alternative solver options:\n",
      "    https://scikit-learn.org/stable/modules/linear_model.html#logistic-regression\n",
      "  n_iter_i = _check_optimize_result(\n"
     ]
    },
    {
     "name": "stdout",
     "output_type": "stream",
     "text": [
      "Test Score with bigram features 0.6465686362736451\n"
     ]
    },
    {
     "name": "stderr",
     "output_type": "stream",
     "text": [
      "c:\\Users\\alora\\anaconda3\\envs\\aa\\lib\\site-packages\\sklearn\\linear_model\\_logistic.py:458: ConvergenceWarning: lbfgs failed to converge (status=1):\n",
      "STOP: TOTAL NO. of ITERATIONS REACHED LIMIT.\n",
      "\n",
      "Increase the number of iterations (max_iter) or scale the data as shown in:\n",
      "    https://scikit-learn.org/stable/modules/preprocessing.html\n",
      "Please also refer to the documentation for alternative solver options:\n",
      "    https://scikit-learn.org/stable/modules/linear_model.html#logistic-regression\n",
      "  n_iter_i = _check_optimize_result(\n"
     ]
    },
    {
     "name": "stdout",
     "output_type": "stream",
     "text": [
      "Test Score with trigram features 0.6828170839257752\n"
     ]
    },
    {
     "name": "stderr",
     "output_type": "stream",
     "text": [
      "c:\\Users\\alora\\anaconda3\\envs\\aa\\lib\\site-packages\\sklearn\\linear_model\\_logistic.py:458: ConvergenceWarning: lbfgs failed to converge (status=1):\n",
      "STOP: TOTAL NO. of ITERATIONS REACHED LIMIT.\n",
      "\n",
      "Increase the number of iterations (max_iter) or scale the data as shown in:\n",
      "    https://scikit-learn.org/stable/modules/preprocessing.html\n",
      "Please also refer to the documentation for alternative solver options:\n",
      "    https://scikit-learn.org/stable/modules/linear_model.html#logistic-regression\n",
      "  n_iter_i = _check_optimize_result(\n"
     ]
    },
    {
     "name": "stdout",
     "output_type": "stream",
     "text": [
      "Test Score with tfidf features 0.6929500908910927\n"
     ]
    },
    {
     "data": {
      "text/html": [
       "<style>#sk-container-id-1 {color: black;background-color: white;}#sk-container-id-1 pre{padding: 0;}#sk-container-id-1 div.sk-toggleable {background-color: white;}#sk-container-id-1 label.sk-toggleable__label {cursor: pointer;display: block;width: 100%;margin-bottom: 0;padding: 0.3em;box-sizing: border-box;text-align: center;}#sk-container-id-1 label.sk-toggleable__label-arrow:before {content: \"▸\";float: left;margin-right: 0.25em;color: #696969;}#sk-container-id-1 label.sk-toggleable__label-arrow:hover:before {color: black;}#sk-container-id-1 div.sk-estimator:hover label.sk-toggleable__label-arrow:before {color: black;}#sk-container-id-1 div.sk-toggleable__content {max-height: 0;max-width: 0;overflow: hidden;text-align: left;background-color: #f0f8ff;}#sk-container-id-1 div.sk-toggleable__content pre {margin: 0.2em;color: black;border-radius: 0.25em;background-color: #f0f8ff;}#sk-container-id-1 input.sk-toggleable__control:checked~div.sk-toggleable__content {max-height: 200px;max-width: 100%;overflow: auto;}#sk-container-id-1 input.sk-toggleable__control:checked~label.sk-toggleable__label-arrow:before {content: \"▾\";}#sk-container-id-1 div.sk-estimator input.sk-toggleable__control:checked~label.sk-toggleable__label {background-color: #d4ebff;}#sk-container-id-1 div.sk-label input.sk-toggleable__control:checked~label.sk-toggleable__label {background-color: #d4ebff;}#sk-container-id-1 input.sk-hidden--visually {border: 0;clip: rect(1px 1px 1px 1px);clip: rect(1px, 1px, 1px, 1px);height: 1px;margin: -1px;overflow: hidden;padding: 0;position: absolute;width: 1px;}#sk-container-id-1 div.sk-estimator {font-family: monospace;background-color: #f0f8ff;border: 1px dotted black;border-radius: 0.25em;box-sizing: border-box;margin-bottom: 0.5em;}#sk-container-id-1 div.sk-estimator:hover {background-color: #d4ebff;}#sk-container-id-1 div.sk-parallel-item::after {content: \"\";width: 100%;border-bottom: 1px solid gray;flex-grow: 1;}#sk-container-id-1 div.sk-label:hover label.sk-toggleable__label {background-color: #d4ebff;}#sk-container-id-1 div.sk-serial::before {content: \"\";position: absolute;border-left: 1px solid gray;box-sizing: border-box;top: 0;bottom: 0;left: 50%;z-index: 0;}#sk-container-id-1 div.sk-serial {display: flex;flex-direction: column;align-items: center;background-color: white;padding-right: 0.2em;padding-left: 0.2em;position: relative;}#sk-container-id-1 div.sk-item {position: relative;z-index: 1;}#sk-container-id-1 div.sk-parallel {display: flex;align-items: stretch;justify-content: center;background-color: white;position: relative;}#sk-container-id-1 div.sk-item::before, #sk-container-id-1 div.sk-parallel-item::before {content: \"\";position: absolute;border-left: 1px solid gray;box-sizing: border-box;top: 0;bottom: 0;left: 50%;z-index: -1;}#sk-container-id-1 div.sk-parallel-item {display: flex;flex-direction: column;z-index: 1;position: relative;background-color: white;}#sk-container-id-1 div.sk-parallel-item:first-child::after {align-self: flex-end;width: 50%;}#sk-container-id-1 div.sk-parallel-item:last-child::after {align-self: flex-start;width: 50%;}#sk-container-id-1 div.sk-parallel-item:only-child::after {width: 0;}#sk-container-id-1 div.sk-dashed-wrapped {border: 1px dashed gray;margin: 0 0.4em 0.5em 0.4em;box-sizing: border-box;padding-bottom: 0.4em;background-color: white;}#sk-container-id-1 div.sk-label label {font-family: monospace;font-weight: bold;display: inline-block;line-height: 1.2em;}#sk-container-id-1 div.sk-label-container {text-align: center;}#sk-container-id-1 div.sk-container {/* jupyter's `normalize.less` sets `[hidden] { display: none; }` but bootstrap.min.css set `[hidden] { display: none !important; }` so we also need the `!important` here to be able to override the default hidden behavior on the sphinx rendered scikit-learn.org. See: https://github.com/scikit-learn/scikit-learn/issues/21755 */display: inline-block !important;position: relative;}#sk-container-id-1 div.sk-text-repr-fallback {display: none;}</style><div id=\"sk-container-id-1\" class=\"sk-top-container\"><div class=\"sk-text-repr-fallback\"><pre>LogisticRegression()</pre><b>In a Jupyter environment, please rerun this cell to show the HTML representation or trust the notebook. <br />On GitHub, the HTML representation is unable to render, please try loading this page with nbviewer.org.</b></div><div class=\"sk-container\" hidden><div class=\"sk-item\"><div class=\"sk-estimator sk-toggleable\"><input class=\"sk-toggleable__control sk-hidden--visually\" id=\"sk-estimator-id-1\" type=\"checkbox\" checked><label for=\"sk-estimator-id-1\" class=\"sk-toggleable__label sk-toggleable__label-arrow\">LogisticRegression</label><div class=\"sk-toggleable__content\"><pre>LogisticRegression()</pre></div></div></div></div></div>"
      ],
      "text/plain": [
       "LogisticRegression()"
      ]
     },
     "execution_count": 36,
     "metadata": {},
     "output_type": "execute_result"
    }
   ],
   "source": [
    "Y = train['overall']\n",
    "\n",
    "train_X, test_X, train_y, test_y = train_test_split(x_bow, Y, random_state=50)\n",
    "simple_logistic_classify(train_X, train_y, test_X, test_y, \"BOW\")\n",
    "\n",
    "train_X, test_X, train_y, test_y = train_test_split(x_bigram, Y, random_state=50)\n",
    "simple_logistic_classify(train_X, train_y, test_X, test_y, \"bigram\")\n",
    "\n",
    "train_X, test_X, train_y, test_y = train_test_split(x_trigram, Y, random_state=50)\n",
    "simple_logistic_classify(train_X, train_y, test_X, test_y, \"trigram\")\n",
    "\n",
    "train_X, test_X, train_y, test_y = train_test_split(doc_vec, Y, random_state=50)\n",
    "simple_logistic_classify(train_X, train_y, test_X, test_y, \"tfidf\")"
   ]
  },
  {
   "attachments": {},
   "cell_type": "markdown",
   "metadata": {},
   "source": [
    "###Summary of results:\n",
    "| Feature Representation | Stemming | Lemmatizing |\n",
    "| -----------------------|----------|-------------|\n",
    "|Bag of Words|0.6331|0.6322|\n",
    "|Bi-grams|0.6479|0.6466|\n",
    "|Tri-grams|0.6835|0.6828|\n",
    "|Tf-idf|0.6963|0.6930|\n",
    "|Average Score|||\n",
    "\n",
    "From the results above, it can be observed that both perform very closely to each other. Stemming is better by a small percentage (0.001) so the difference is almost negligible. \n",
    "\n",
    "Since the performance doesn't vary heavily between the two, the comparison must then include other factors such as computational complexity. Lemmatizing text correcctly, therefore including POS-tagging, bears a high computational cost.  (ADD MORE HERE - SOURCES)\n",
    "\n",
    "Therefore, for this dataset, stemming should be used. "
   ]
  },
  {
   "attachments": {},
   "cell_type": "markdown",
   "metadata": {},
   "source": [
    "# Vector Space Model and Feature Representation\n",
    "\n",
    "As stated by Michael Kana, PhD, in [1], the following text representations techniques are the most common:\n",
    "- 1-hot encoding\n",
    "- N-grams\n",
    "- Bag-of-Words\n",
    "- TF-IDF\n",
    "- Word2Vec\n",
    "- GloVe\n",
    "\n",
    "Such representation techniques will be experimented with in this section.\n",
    "\n",
    "[1] https://towardsdatascience.com/representing-text-in-natural-language-processing-1eead30e57d8\n"
   ]
  },
  {
   "cell_type": "code",
   "execution_count": 35,
   "metadata": {},
   "outputs": [
    {
     "data": {
      "text/html": [
       "<div>\n",
       "<style scoped>\n",
       "    .dataframe tbody tr th:only-of-type {\n",
       "        vertical-align: middle;\n",
       "    }\n",
       "\n",
       "    .dataframe tbody tr th {\n",
       "        vertical-align: top;\n",
       "    }\n",
       "\n",
       "    .dataframe thead th {\n",
       "        text-align: right;\n",
       "    }\n",
       "</style>\n",
       "<table border=\"1\" class=\"dataframe\">\n",
       "  <thead>\n",
       "    <tr style=\"text-align: right;\">\n",
       "      <th></th>\n",
       "      <th>overall</th>\n",
       "      <th>Review</th>\n",
       "      <th>Word Count</th>\n",
       "      <th>Character Count</th>\n",
       "      <th>Cleaned Reviews</th>\n",
       "      <th>Tokenized Reviews</th>\n",
       "      <th>Tagged Reviews</th>\n",
       "      <th>Lemmatized Reviews</th>\n",
       "      <th>Stemmed Reviews</th>\n",
       "    </tr>\n",
       "  </thead>\n",
       "  <tbody>\n",
       "    <tr>\n",
       "      <th>0</th>\n",
       "      <td>5</td>\n",
       "      <td>This a really cool (but time-tested) design. T...</td>\n",
       "      <td>59</td>\n",
       "      <td>334</td>\n",
       "      <td>really cool timetested design carbon steel bla...</td>\n",
       "      <td>[really, cool, timetested, design, carbon, ste...</td>\n",
       "      <td>[(really, r), (cool, a), (timetested, v), (des...</td>\n",
       "      <td>[really, cool, timetested, design, carbon, ste...</td>\n",
       "      <td>[realli, cool, timetest, design, carbon, steel...</td>\n",
       "    </tr>\n",
       "    <tr>\n",
       "      <th>1</th>\n",
       "      <td>5</td>\n",
       "      <td>I liked the first pair so well I bought severa...</td>\n",
       "      <td>57</td>\n",
       "      <td>312</td>\n",
       "      <td>liked first pair well bought several found usu...</td>\n",
       "      <td>[liked, first, pair, well, bought, several, fo...</td>\n",
       "      <td>[(liked, v), (first, a), (pair, n), (well, r),...</td>\n",
       "      <td>[like, first, pair, well, buy, several, find, ...</td>\n",
       "      <td>[like, first, pair, well, bought, sever, found...</td>\n",
       "    </tr>\n",
       "    <tr>\n",
       "      <th>2</th>\n",
       "      <td>4</td>\n",
       "      <td>I took them to the range to put them to the te...</td>\n",
       "      <td>85</td>\n",
       "      <td>424</td>\n",
       "      <td>took range put test adjust volume hear people ...</td>\n",
       "      <td>[took, range, put, test, adjust, volume, hear,...</td>\n",
       "      <td>[(took, v), (range, n), (put, v), (test, a), (...</td>\n",
       "      <td>[take, range, put, test, adjust, volume, hear,...</td>\n",
       "      <td>[took, rang, put, test, adjust, volum, hear, p...</td>\n",
       "    </tr>\n",
       "    <tr>\n",
       "      <th>3</th>\n",
       "      <td>5</td>\n",
       "      <td>What can you say about a yoga block?  These ar...</td>\n",
       "      <td>54</td>\n",
       "      <td>293</td>\n",
       "      <td>say yoga block solid sturdy  namebrand feared ...</td>\n",
       "      <td>[say, yoga, block, solid, sturdy, namebrand, f...</td>\n",
       "      <td>[(say, v), (yoga, n), (block, n), (solid, a), ...</td>\n",
       "      <td>[say, yoga, block, solid, sturdy, namebrand, f...</td>\n",
       "      <td>[say, yoga, block, solid, sturdi, namebrand, f...</td>\n",
       "    </tr>\n",
       "    <tr>\n",
       "      <th>4</th>\n",
       "      <td>5</td>\n",
       "      <td>After reading many reviews I decided on this l...</td>\n",
       "      <td>48</td>\n",
       "      <td>245</td>\n",
       "      <td>reading many reviews decided light satisfied d...</td>\n",
       "      <td>[reading, many, reviews, decided, light, satis...</td>\n",
       "      <td>[(reading, v), (many, a), (reviews, n), (decid...</td>\n",
       "      <td>[read, many, review, decide, light, satisfied,...</td>\n",
       "      <td>[read, mani, review, decid, light, satisfi, da...</td>\n",
       "    </tr>\n",
       "    <tr>\n",
       "      <th>...</th>\n",
       "      <td>...</td>\n",
       "      <td>...</td>\n",
       "      <td>...</td>\n",
       "      <td>...</td>\n",
       "      <td>...</td>\n",
       "      <td>...</td>\n",
       "      <td>...</td>\n",
       "      <td>...</td>\n",
       "      <td>...</td>\n",
       "    </tr>\n",
       "    <tr>\n",
       "      <th>222238</th>\n",
       "      <td>2</td>\n",
       "      <td>I wear them for running and go to gym, wearing...</td>\n",
       "      <td>128</td>\n",
       "      <td>675</td>\n",
       "      <td>wear running go gym wearing usual running trai...</td>\n",
       "      <td>[wear, running, go, gym, wearing, usual, runni...</td>\n",
       "      <td>[(wear, n), (running, v), (go, v), (gym, a), (...</td>\n",
       "      <td>[wear, run, go, gym, wear, usual, run, trainin...</td>\n",
       "      <td>[wear, run, go, gym, wear, usual, run, train, ...</td>\n",
       "    </tr>\n",
       "    <tr>\n",
       "      <th>222239</th>\n",
       "      <td>4</td>\n",
       "      <td>Nice and big canister of bear spray.  Only obj...</td>\n",
       "      <td>51</td>\n",
       "      <td>255</td>\n",
       "      <td>nice big canister bear spray objection holster...</td>\n",
       "      <td>[nice, big, canister, bear, spray, objection, ...</td>\n",
       "      <td>[(nice, r), (big, a), (canister, n), (bear, n)...</td>\n",
       "      <td>[nice, big, canister, bear, spray, objection, ...</td>\n",
       "      <td>[nice, big, canist, bear, spray, object, holst...</td>\n",
       "    </tr>\n",
       "    <tr>\n",
       "      <th>222240</th>\n",
       "      <td>5</td>\n",
       "      <td>I wanted an inexpensive 3wt for ponds and tigh...</td>\n",
       "      <td>155</td>\n",
       "      <td>814</td>\n",
       "      <td>wanted inexpensive wt ponds tight creeks paire...</td>\n",
       "      <td>[wanted, inexpensive, wt, ponds, tight, creeks...</td>\n",
       "      <td>[(wanted, v), (inexpensive, a), (wt, n), (pond...</td>\n",
       "      <td>[want, inexpensive, wt, pond, tight, creek, pa...</td>\n",
       "      <td>[want, inexpens, wt, pond, tight, creek, pair,...</td>\n",
       "    </tr>\n",
       "    <tr>\n",
       "      <th>222241</th>\n",
       "      <td>5</td>\n",
       "      <td>I saw this type of knife in the hands of rice ...</td>\n",
       "      <td>84</td>\n",
       "      <td>424</td>\n",
       "      <td>saw type knife hands rice farmers use hand har...</td>\n",
       "      <td>[saw, type, knife, hands, rice, farmers, use, ...</td>\n",
       "      <td>[(saw, n), (type, n), (knife, n), (hands, v), ...</td>\n",
       "      <td>[saw, type, knife, hand, rice, farmer, use, ha...</td>\n",
       "      <td>[saw, type, knife, hand, rice, farmer, use, ha...</td>\n",
       "    </tr>\n",
       "    <tr>\n",
       "      <th>222242</th>\n",
       "      <td>5</td>\n",
       "      <td>This is probably the best compact bike pump I'...</td>\n",
       "      <td>26</td>\n",
       "      <td>141</td>\n",
       "      <td>probably best compact bike pump ive ever used ...</td>\n",
       "      <td>[probably, best, compact, bike, pump, ive, eve...</td>\n",
       "      <td>[(probably, r), (best, a), (compact, a), (bike...</td>\n",
       "      <td>[probably, best, compact, bike, pump, ive, eve...</td>\n",
       "      <td>[probabl, best, compact, bike, pump, ive, ever...</td>\n",
       "    </tr>\n",
       "  </tbody>\n",
       "</table>\n",
       "<p>222243 rows × 9 columns</p>\n",
       "</div>"
      ],
      "text/plain": [
       "        overall                                             Review  \\\n",
       "0             5  This a really cool (but time-tested) design. T...   \n",
       "1             5  I liked the first pair so well I bought severa...   \n",
       "2             4  I took them to the range to put them to the te...   \n",
       "3             5  What can you say about a yoga block?  These ar...   \n",
       "4             5  After reading many reviews I decided on this l...   \n",
       "...         ...                                                ...   \n",
       "222238        2  I wear them for running and go to gym, wearing...   \n",
       "222239        4  Nice and big canister of bear spray.  Only obj...   \n",
       "222240        5  I wanted an inexpensive 3wt for ponds and tigh...   \n",
       "222241        5  I saw this type of knife in the hands of rice ...   \n",
       "222242        5  This is probably the best compact bike pump I'...   \n",
       "\n",
       "        Word Count  Character Count  \\\n",
       "0               59              334   \n",
       "1               57              312   \n",
       "2               85              424   \n",
       "3               54              293   \n",
       "4               48              245   \n",
       "...            ...              ...   \n",
       "222238         128              675   \n",
       "222239          51              255   \n",
       "222240         155              814   \n",
       "222241          84              424   \n",
       "222242          26              141   \n",
       "\n",
       "                                          Cleaned Reviews  \\\n",
       "0       really cool timetested design carbon steel bla...   \n",
       "1       liked first pair well bought several found usu...   \n",
       "2       took range put test adjust volume hear people ...   \n",
       "3       say yoga block solid sturdy  namebrand feared ...   \n",
       "4       reading many reviews decided light satisfied d...   \n",
       "...                                                   ...   \n",
       "222238  wear running go gym wearing usual running trai...   \n",
       "222239  nice big canister bear spray objection holster...   \n",
       "222240  wanted inexpensive wt ponds tight creeks paire...   \n",
       "222241  saw type knife hands rice farmers use hand har...   \n",
       "222242  probably best compact bike pump ive ever used ...   \n",
       "\n",
       "                                        Tokenized Reviews  \\\n",
       "0       [really, cool, timetested, design, carbon, ste...   \n",
       "1       [liked, first, pair, well, bought, several, fo...   \n",
       "2       [took, range, put, test, adjust, volume, hear,...   \n",
       "3       [say, yoga, block, solid, sturdy, namebrand, f...   \n",
       "4       [reading, many, reviews, decided, light, satis...   \n",
       "...                                                   ...   \n",
       "222238  [wear, running, go, gym, wearing, usual, runni...   \n",
       "222239  [nice, big, canister, bear, spray, objection, ...   \n",
       "222240  [wanted, inexpensive, wt, ponds, tight, creeks...   \n",
       "222241  [saw, type, knife, hands, rice, farmers, use, ...   \n",
       "222242  [probably, best, compact, bike, pump, ive, eve...   \n",
       "\n",
       "                                           Tagged Reviews  \\\n",
       "0       [(really, r), (cool, a), (timetested, v), (des...   \n",
       "1       [(liked, v), (first, a), (pair, n), (well, r),...   \n",
       "2       [(took, v), (range, n), (put, v), (test, a), (...   \n",
       "3       [(say, v), (yoga, n), (block, n), (solid, a), ...   \n",
       "4       [(reading, v), (many, a), (reviews, n), (decid...   \n",
       "...                                                   ...   \n",
       "222238  [(wear, n), (running, v), (go, v), (gym, a), (...   \n",
       "222239  [(nice, r), (big, a), (canister, n), (bear, n)...   \n",
       "222240  [(wanted, v), (inexpensive, a), (wt, n), (pond...   \n",
       "222241  [(saw, n), (type, n), (knife, n), (hands, v), ...   \n",
       "222242  [(probably, r), (best, a), (compact, a), (bike...   \n",
       "\n",
       "                                       Lemmatized Reviews  \\\n",
       "0       [really, cool, timetested, design, carbon, ste...   \n",
       "1       [like, first, pair, well, buy, several, find, ...   \n",
       "2       [take, range, put, test, adjust, volume, hear,...   \n",
       "3       [say, yoga, block, solid, sturdy, namebrand, f...   \n",
       "4       [read, many, review, decide, light, satisfied,...   \n",
       "...                                                   ...   \n",
       "222238  [wear, run, go, gym, wear, usual, run, trainin...   \n",
       "222239  [nice, big, canister, bear, spray, objection, ...   \n",
       "222240  [want, inexpensive, wt, pond, tight, creek, pa...   \n",
       "222241  [saw, type, knife, hand, rice, farmer, use, ha...   \n",
       "222242  [probably, best, compact, bike, pump, ive, eve...   \n",
       "\n",
       "                                          Stemmed Reviews  \n",
       "0       [realli, cool, timetest, design, carbon, steel...  \n",
       "1       [like, first, pair, well, bought, sever, found...  \n",
       "2       [took, rang, put, test, adjust, volum, hear, p...  \n",
       "3       [say, yoga, block, solid, sturdi, namebrand, f...  \n",
       "4       [read, mani, review, decid, light, satisfi, da...  \n",
       "...                                                   ...  \n",
       "222238  [wear, run, go, gym, wear, usual, run, train, ...  \n",
       "222239  [nice, big, canist, bear, spray, object, holst...  \n",
       "222240  [want, inexpens, wt, pond, tight, creek, pair,...  \n",
       "222241  [saw, type, knife, hand, rice, farmer, use, ha...  \n",
       "222242  [probabl, best, compact, bike, pump, ive, ever...  \n",
       "\n",
       "[222243 rows x 9 columns]"
      ]
     },
     "execution_count": 35,
     "metadata": {},
     "output_type": "execute_result"
    }
   ],
   "source": [
    "train"
   ]
  },
  {
   "cell_type": "code",
   "execution_count": 36,
   "metadata": {},
   "outputs": [],
   "source": [
    "# reducing space\n",
    "train = train[['Lemmatized Reviews', 'overall']]"
   ]
  },
  {
   "cell_type": "code",
   "execution_count": 37,
   "metadata": {},
   "outputs": [],
   "source": [
    "X = train['Lemmatized Reviews']\n",
    "y = train.overall"
   ]
  },
  {
   "cell_type": "code",
   "execution_count": 38,
   "metadata": {},
   "outputs": [],
   "source": [
    "# Imports\n",
    "\n",
    "# for representation/classification\n",
    "import sklearn.metrics\n",
    "from sklearn.model_selection import train_test_split\n",
    "from sklearn.metrics import classification_report\n",
    "from sklearn.feature_extraction.text import CountVectorizer\n",
    "from sklearn.pipeline import Pipeline, make_pipeline\n",
    "from sklearn.metrics import precision_recall_fscore_support\n",
    "from sklearn.model_selection import GridSearchCV\n",
    "from sklearn.naive_bayes import MultinomialNB\n",
    "\n",
    "# representation\n",
    "from sklearn.feature_extraction.text import TfidfVectorizer\n",
    "from gensim.models import Word2Vec\n",
    "from sklearn.preprocessing import MinMaxScaler\n",
    "import gensim\n",
    "import numpy as np\n",
    "from sklearn.base import BaseEstimator, TransformerMixin\n",
    "from sklearn.linear_model import SGDClassifier\n"
   ]
  },
  {
   "cell_type": "code",
   "execution_count": 39,
   "metadata": {},
   "outputs": [],
   "source": [
    "def vectorize_sentence_2(sentences, wv_model, mode=0):\n",
    "    \"\"\"Convert a list of sentences to a vectors.\n",
    "\n",
    "    By summing word vectors in the sentence.\n",
    "    Another option could be to average word vectors rather than just sum.\n",
    "\n",
    "    Arg: \n",
    "        sentence (pd.Series): Series consisting of list of tokenized texts \n",
    "        mode (int, 1 or 0): 0 for summing word vectors, 1 or averaging word vectors.\n",
    "    Returns:\n",
    "        (np.ndarray): Vector representation of sentences\n",
    "    \"\"\"\n",
    "    if mode not in [0, 1]:\n",
    "        raise Exception(\"Mode parameter should be either 1 or 0\")\n",
    "\n",
    "    vector_size = wv_model.vector_size\n",
    "    count = 1\n",
    "    vector_sentences = []\n",
    "\n",
    "    for i in range(len(sentences)):\n",
    "        sentence = np.zeros(vector_size)\n",
    "        for word in sentences[i]:\n",
    "            if word in wv_model:\n",
    "                count += 1\n",
    "                sentence += wv_model[word]\n",
    "        if mode:  # if mode set to 1 (average word vectors)\n",
    "            sentence = sentence/count\n",
    "        vector_sentences.append(sentence)\n",
    "    vector_sentences_df = pd.DataFrame(vector_sentences)\n",
    "    return vector_sentences_df"
   ]
  },
  {
   "cell_type": "code",
   "execution_count": 40,
   "metadata": {},
   "outputs": [],
   "source": [
    "def normalize_vectors(input_vectors):\n",
    "    \"\"\"Normalizes vectors to be in range [0,1)\n",
    "\n",
    "    Args:\n",
    "        input_vectors (np.ndarray): List of vectors, each vector is np.ndarray\n",
    "    \"\"\"\n",
    "\n",
    "    return MinMaxScaler().fit(input_vectors).transform(input_vectors)"
   ]
  },
  {
   "attachments": {},
   "cell_type": "markdown",
   "metadata": {},
   "source": [
    "### Link to the GloVe model vectors\n",
    "Download glove.6B.50d.txt in the glove.6B.zip folder\n",
    "https://nlp.stanford.edu/projects/glove/\n"
   ]
  },
  {
   "cell_type": "code",
   "execution_count": 41,
   "metadata": {},
   "outputs": [],
   "source": [
    "def get_glove_word_embeddings(): \n",
    "    \"\"\"Gets the words and their vector representations trained from the Glove Model\n",
    "    \n",
    "    Code from https://thinkingneuron.com/transfer-learning-with-glove/\n",
    "    \"\"\"\n",
    "\n",
    "    GloveWordVectors = {}\n",
    "    with open(\"glove.6B.50d.txt\", 'r', encoding=\"utf-8\") as f:\n",
    "        for line in f:\n",
    "            values = line.split()\n",
    "            word = values[0]\n",
    "            vector = np.array(values[1:], \"float\")\n",
    "            GloveWordVectors[word] = vector\n",
    "    return GloveWordVectors"
   ]
  },
  {
   "attachments": {},
   "cell_type": "markdown",
   "metadata": {},
   "source": [
    "## Creating Classes to encapsulate the Glove and Word2Vec models\n",
    "\n",
    "To be able to use in Pipeline object"
   ]
  },
  {
   "cell_type": "code",
   "execution_count": 42,
   "metadata": {},
   "outputs": [],
   "source": [
    "class GloveModel():\n",
    "    \"\"\"Implements GloVe vector dictionary as class with same methods as Word2Vec model.\n",
    "    \n",
    "    Does this so that helper method vectorize_sentence_2 can be used for glove word embeddings, which is stored as a dictionary.\n",
    "    \"\"\"\n",
    "    def __init__(self, vector_size, word_vector_dict) -> None:\n",
    "        self.vector_size = vector_size\n",
    "        self.dictionary = word_vector_dict\n",
    "    \n",
    "    def __getitem__(self, key):\n",
    "        return self.dictionary[key]"
   ]
  },
  {
   "cell_type": "code",
   "execution_count": 43,
   "metadata": {},
   "outputs": [],
   "source": [
    "\n",
    "\n",
    "class Vector_Transformer(BaseEstimator, TransformerMixin):\n",
    "    \"\"\" Creates transformer object so that Word2Vec and GloVe models can be used in Pipeline object.\n",
    "                \n",
    "    \"\"\"\n",
    "    def __init__(self, model, mode:int=0):\n",
    "        \"\"\"Creates a Tranformer object for an pre-trained Word Embedding model (Glove or Word2Vec)\n",
    "        \n",
    "        \"\"\"\n",
    "        self.mode = mode\n",
    "        self.model = model # Google model, GloVe model\n",
    "\n",
    "    def fit(self, X, y=None):\n",
    "        \"\"\"No fitting needed\"\"\"\n",
    "        return self\n",
    "\n",
    "    def transform(self, X, y=None):\n",
    "        \"\"\"Transforms input text into vectors, then normalized vectors to be in range [0,1)\n",
    "        \n",
    "        Args: \n",
    "            X (np.ndarray): The preprocessed, tokenized list of sentences\n",
    "\n",
    "        \"\"\" \n",
    "        w2v_data = vectorize_sentence_2(X, self.model, mode=self.mode)\n",
    "        X_w2v_scaled = normalize_vectors(w2v_data.values)\n",
    "\n",
    "        return X_w2v_scaled"
   ]
  },
  {
   "attachments": {},
   "cell_type": "markdown",
   "metadata": {},
   "source": [
    "## Loading the Glove and Word2Vec (Google) models"
   ]
  },
  {
   "attachments": {},
   "cell_type": "markdown",
   "metadata": {},
   "source": [
    "Google Model download: https://drive.google.com/file/d/0B7XkCwpI5KDYNlNUTTlSS21pQmM/edit?resourcekey=0-wjGZdNAUop6WykTtMip30g"
   ]
  },
  {
   "cell_type": "code",
   "execution_count": 44,
   "metadata": {},
   "outputs": [],
   "source": [
    "GoogleModel = gensim.models.KeyedVectors.load_word2vec_format('GoogleNews-vectors-negative300.bin', binary=True)\n"
   ]
  },
  {
   "cell_type": "code",
   "execution_count": 45,
   "metadata": {},
   "outputs": [],
   "source": [
    "Glove_Model = GloveModel(vector_size=50, word_vector_dict=get_glove_word_embeddings())"
   ]
  },
  {
   "attachments": {},
   "cell_type": "markdown",
   "metadata": {},
   "source": [
    "## Preparing parameters of the text representations and classifiers for gridsearch"
   ]
  },
  {
   "cell_type": "code",
   "execution_count": 46,
   "metadata": {},
   "outputs": [],
   "source": [
    "\n",
    "text_reps = {\n",
    "    'bow': CountVectorizer(\n",
    "        preprocessor= lambda x: x, # override preprocessor\n",
    "        tokenizer= lambda x: x  # override tokenization\n",
    "    ),\n",
    "    'tfidf': TfidfVectorizer(\n",
    "        preprocessor= lambda x: x, # override preprocessor\n",
    "        tokenizer= lambda x: x  # override tokenization\n",
    "    ),\n",
    "    'w2v': Vector_Transformer(GoogleModel), # Word 2 Vec model\n",
    "    'glove': Vector_Transformer(Glove_Model) # GloVe Model\n",
    "}\n",
    "\n",
    "classifiers = {\n",
    "    'nb': MultinomialNB(),\n",
    "    'sgd': SGDClassifier()\n",
    "}\n",
    "\n",
    "params = {\n",
    "    # bag of ngrams\n",
    "    'bow':{\n",
    "        'countvectorizer__ngram_range': [(a, b) for a in np.arange(1, 5) for b in np.arange(1, 5) if a <= b],\n",
    "    },\n",
    "    # tdfidf ngrams\n",
    "    'tfidf': {\n",
    "        'tfidfvectorizer__ngram_range':[(a, b) for a in np.arange(1, 5) for b in np.arange(1, 5) if a <= b],\n",
    "    },\n",
    "    # pre-trained word2vec\n",
    "    'w2v': {\n",
    "        'vector_transformer__mode': [0,1],\n",
    "    },\n",
    "    # pre-trained glove\n",
    "    'glove': {\n",
    "        'vector_transformer__mode': [0,1],\n",
    "    },\n",
    "    # classifiers\n",
    "    'nb': {\n",
    "        'multinomialnb__alpha': [0.0001, 0.001, 0.01, 0.1, 1],\n",
    "    },\n",
    "    'sgd': {\n",
    "        \"sgdclassifier__loss\": [\"hinge\", \"log_loss\"],\n",
    "        \"sgdclassifier__alpha\": [0.0001, 0.001, 0.01, 0.1],\n",
    "        \"sgdclassifier__penalty\": [\"l2\", \"l1\", \"elasticnet\", \"none\"],\n",
    "    }\n",
    "}\n",
    "\n",
    "\n"
   ]
  },
  {
   "attachments": {},
   "cell_type": "markdown",
   "metadata": {},
   "source": [
    "## Splitting the gridsearch into 2 rounds\n",
    "\n",
    "The first gridsearch will test a subset of the text representations with all the classifiers, while the second will test the rest of the text representations with all the classifiers. This is to reduce computational load.\n"
   ]
  },
  {
   "cell_type": "code",
   "execution_count": 47,
   "metadata": {},
   "outputs": [],
   "source": [
    "text_reps_1 = {\n",
    "    'glove': Vector_Transformer(Glove_Model), # GloVe Model\n",
    "    'bow': CountVectorizer(\n",
    "        preprocessor= lambda x: x, # override preprocessor\n",
    "        tokenizer= lambda x: x  # override tokenization\n",
    "    ),\n",
    "    \n",
    "}\n",
    "\n",
    "text_reps_2 = {\n",
    "    'tfidf': TfidfVectorizer(\n",
    "        preprocessor= lambda x: x, # override preprocessor\n",
    "        tokenizer= lambda x: x  # override tokenization\n",
    "    ),\n",
    "    'w2v': Vector_Transformer(GoogleModel), # Word 2 Vec model\n",
    "}\n"
   ]
  },
  {
   "cell_type": "code",
   "execution_count": 48,
   "metadata": {},
   "outputs": [
    {
     "name": "stdout",
     "output_type": "stream",
     "text": [
      "nb glove\n",
      "Pipeline(steps=[('vector_transformer',\n",
      "                 Vector_Transformer(model=<__main__.GloveModel object at 0x00000192BE36A770>)),\n",
      "                ('multinomialnb', MultinomialNB())])\n"
     ]
    },
    {
     "ename": "ValueError",
     "evalue": "\nAll the 100 fits failed.\nIt is very likely that your model is misconfigured.\nYou can try to debug the error by setting error_score='raise'.\n\nBelow are more details about the failures:\n--------------------------------------------------------------------------------\n10 fits failed with the following error:\nTraceback (most recent call last):\n  File \"c:\\Users\\bhavika\\AppData\\Local\\Programs\\Python\\Python310\\lib\\site-packages\\pandas\\core\\indexes\\base.py\", line 3800, in get_loc\n    return self._engine.get_loc(casted_key)\n  File \"pandas\\_libs\\index.pyx\", line 138, in pandas._libs.index.IndexEngine.get_loc\n  File \"pandas\\_libs\\index.pyx\", line 165, in pandas._libs.index.IndexEngine.get_loc\n  File \"pandas\\_libs\\hashtable_class_helper.pxi\", line 2263, in pandas._libs.hashtable.Int64HashTable.get_item\n  File \"pandas\\_libs\\hashtable_class_helper.pxi\", line 2273, in pandas._libs.hashtable.Int64HashTable.get_item\nKeyError: 0\n\nThe above exception was the direct cause of the following exception:\n\nTraceback (most recent call last):\n  File \"c:\\Users\\bhavika\\AppData\\Local\\Programs\\Python\\Python310\\lib\\site-packages\\sklearn\\model_selection\\_validation.py\", line 686, in _fit_and_score\n    estimator.fit(X_train, y_train, **fit_params)\n  File \"c:\\Users\\bhavika\\AppData\\Local\\Programs\\Python\\Python310\\lib\\site-packages\\sklearn\\pipeline.py\", line 378, in fit\n    Xt = self._fit(X, y, **fit_params_steps)\n  File \"c:\\Users\\bhavika\\AppData\\Local\\Programs\\Python\\Python310\\lib\\site-packages\\sklearn\\pipeline.py\", line 336, in _fit\n    X, fitted_transformer = fit_transform_one_cached(\n  File \"c:\\Users\\bhavika\\AppData\\Local\\Programs\\Python\\Python310\\lib\\site-packages\\joblib\\memory.py\", line 349, in __call__\n    return self.func(*args, **kwargs)\n  File \"c:\\Users\\bhavika\\AppData\\Local\\Programs\\Python\\Python310\\lib\\site-packages\\sklearn\\pipeline.py\", line 870, in _fit_transform_one\n    res = transformer.fit_transform(X, y, **fit_params)\n  File \"c:\\Users\\bhavika\\AppData\\Local\\Programs\\Python\\Python310\\lib\\site-packages\\sklearn\\base.py\", line 870, in fit_transform\n    return self.fit(X, y, **fit_params).transform(X)\n  File \"C:\\Users\\bhavika\\AppData\\Local\\Temp\\ipykernel_12432\\1588719528.py\", line 23, in transform\n    w2v_data = vectorize_sentence_2(X, self.model, mode=self.mode)\n  File \"C:\\Users\\bhavika\\AppData\\Local\\Temp\\ipykernel_12432\\1698520611.py\", line 22, in vectorize_sentence_2\n    for word in sentences[i]:\n  File \"c:\\Users\\bhavika\\AppData\\Local\\Programs\\Python\\Python310\\lib\\site-packages\\pandas\\core\\series.py\", line 982, in __getitem__\n    return self._get_value(key)\n  File \"c:\\Users\\bhavika\\AppData\\Local\\Programs\\Python\\Python310\\lib\\site-packages\\pandas\\core\\series.py\", line 1092, in _get_value\n    loc = self.index.get_loc(label)\n  File \"c:\\Users\\bhavika\\AppData\\Local\\Programs\\Python\\Python310\\lib\\site-packages\\pandas\\core\\indexes\\base.py\", line 3802, in get_loc\n    raise KeyError(key) from err\nKeyError: 0\n\n--------------------------------------------------------------------------------\n90 fits failed with the following error:\nTraceback (most recent call last):\n  File \"c:\\Users\\bhavika\\AppData\\Local\\Programs\\Python\\Python310\\lib\\site-packages\\sklearn\\model_selection\\_validation.py\", line 686, in _fit_and_score\n    estimator.fit(X_train, y_train, **fit_params)\n  File \"c:\\Users\\bhavika\\AppData\\Local\\Programs\\Python\\Python310\\lib\\site-packages\\sklearn\\pipeline.py\", line 378, in fit\n    Xt = self._fit(X, y, **fit_params_steps)\n  File \"c:\\Users\\bhavika\\AppData\\Local\\Programs\\Python\\Python310\\lib\\site-packages\\sklearn\\pipeline.py\", line 336, in _fit\n    X, fitted_transformer = fit_transform_one_cached(\n  File \"c:\\Users\\bhavika\\AppData\\Local\\Programs\\Python\\Python310\\lib\\site-packages\\joblib\\memory.py\", line 349, in __call__\n    return self.func(*args, **kwargs)\n  File \"c:\\Users\\bhavika\\AppData\\Local\\Programs\\Python\\Python310\\lib\\site-packages\\sklearn\\pipeline.py\", line 870, in _fit_transform_one\n    res = transformer.fit_transform(X, y, **fit_params)\n  File \"c:\\Users\\bhavika\\AppData\\Local\\Programs\\Python\\Python310\\lib\\site-packages\\sklearn\\base.py\", line 870, in fit_transform\n    return self.fit(X, y, **fit_params).transform(X)\n  File \"C:\\Users\\bhavika\\AppData\\Local\\Temp\\ipykernel_12432\\1588719528.py\", line 23, in transform\n    w2v_data = vectorize_sentence_2(X, self.model, mode=self.mode)\n  File \"C:\\Users\\bhavika\\AppData\\Local\\Temp\\ipykernel_12432\\1698520611.py\", line 23, in vectorize_sentence_2\n    if word in wv_model:\n  File \"C:\\Users\\bhavika\\AppData\\Local\\Temp\\ipykernel_12432\\3770134011.py\", line 11, in __getitem__\n    return self.dictionary[key]\nKeyError: 0\n",
     "output_type": "error",
     "traceback": [
      "\u001b[1;31m---------------------------------------------------------------------------\u001b[0m",
      "\u001b[1;31mValueError\u001b[0m                                Traceback (most recent call last)",
      "\u001b[1;32mc:\\Year 4\\F20AA\\amazon-review-analysis\\cw2.ipynb Cell 80\u001b[0m in \u001b[0;36m9\n\u001b[0;32m      <a href='vscode-notebook-cell:/c%3A/Year%204/F20AA/amazon-review-analysis/cw2.ipynb#Y142sZmlsZQ%3D%3D?line=6'>7</a>\u001b[0m \u001b[39mprint\u001b[39m(pipe)\n\u001b[0;32m      <a href='vscode-notebook-cell:/c%3A/Year%204/F20AA/amazon-review-analysis/cw2.ipynb#Y142sZmlsZQ%3D%3D?line=7'>8</a>\u001b[0m grid_search \u001b[39m=\u001b[39m GridSearchCV(estimator\u001b[39m=\u001b[39mpipe, param_grid\u001b[39m=\u001b[39m{\u001b[39m*\u001b[39m\u001b[39m*\u001b[39mparams[text_rep], \u001b[39m*\u001b[39m\u001b[39m*\u001b[39mparams[classifier]}, cv\u001b[39m=\u001b[39m\u001b[39m10\u001b[39m, scoring\u001b[39m=\u001b[39m\u001b[39m'\u001b[39m\u001b[39maccuracy\u001b[39m\u001b[39m'\u001b[39m)\n\u001b[1;32m----> <a href='vscode-notebook-cell:/c%3A/Year%204/F20AA/amazon-review-analysis/cw2.ipynb#Y142sZmlsZQ%3D%3D?line=8'>9</a>\u001b[0m grid_search\u001b[39m.\u001b[39;49mfit(X, y)\n\u001b[0;32m     <a href='vscode-notebook-cell:/c%3A/Year%204/F20AA/amazon-review-analysis/cw2.ipynb#Y142sZmlsZQ%3D%3D?line=9'>10</a>\u001b[0m scores_1\u001b[39m.\u001b[39mappend({\n\u001b[0;32m     <a href='vscode-notebook-cell:/c%3A/Year%204/F20AA/amazon-review-analysis/cw2.ipynb#Y142sZmlsZQ%3D%3D?line=10'>11</a>\u001b[0m     \u001b[39m'\u001b[39m\u001b[39mmodel\u001b[39m\u001b[39m'\u001b[39m: classifier,\n\u001b[0;32m     <a href='vscode-notebook-cell:/c%3A/Year%204/F20AA/amazon-review-analysis/cw2.ipynb#Y142sZmlsZQ%3D%3D?line=11'>12</a>\u001b[0m     \u001b[39m'\u001b[39m\u001b[39mtext_representation\u001b[39m\u001b[39m'\u001b[39m: text_rep,\n\u001b[0;32m     <a href='vscode-notebook-cell:/c%3A/Year%204/F20AA/amazon-review-analysis/cw2.ipynb#Y142sZmlsZQ%3D%3D?line=12'>13</a>\u001b[0m     \u001b[39m'\u001b[39m\u001b[39mscores\u001b[39m\u001b[39m'\u001b[39m: grid_search\u001b[39m.\u001b[39mcv_results_\n\u001b[0;32m     <a href='vscode-notebook-cell:/c%3A/Year%204/F20AA/amazon-review-analysis/cw2.ipynb#Y142sZmlsZQ%3D%3D?line=13'>14</a>\u001b[0m })\n",
      "File \u001b[1;32mc:\\Users\\bhavika\\AppData\\Local\\Programs\\Python\\Python310\\lib\\site-packages\\sklearn\\model_selection\\_search.py:875\u001b[0m, in \u001b[0;36mBaseSearchCV.fit\u001b[1;34m(self, X, y, groups, **fit_params)\u001b[0m\n\u001b[0;32m    869\u001b[0m     results \u001b[39m=\u001b[39m \u001b[39mself\u001b[39m\u001b[39m.\u001b[39m_format_results(\n\u001b[0;32m    870\u001b[0m         all_candidate_params, n_splits, all_out, all_more_results\n\u001b[0;32m    871\u001b[0m     )\n\u001b[0;32m    873\u001b[0m     \u001b[39mreturn\u001b[39;00m results\n\u001b[1;32m--> 875\u001b[0m \u001b[39mself\u001b[39;49m\u001b[39m.\u001b[39;49m_run_search(evaluate_candidates)\n\u001b[0;32m    877\u001b[0m \u001b[39m# multimetric is determined here because in the case of a callable\u001b[39;00m\n\u001b[0;32m    878\u001b[0m \u001b[39m# self.scoring the return type is only known after calling\u001b[39;00m\n\u001b[0;32m    879\u001b[0m first_test_score \u001b[39m=\u001b[39m all_out[\u001b[39m0\u001b[39m][\u001b[39m\"\u001b[39m\u001b[39mtest_scores\u001b[39m\u001b[39m\"\u001b[39m]\n",
      "File \u001b[1;32mc:\\Users\\bhavika\\AppData\\Local\\Programs\\Python\\Python310\\lib\\site-packages\\sklearn\\model_selection\\_search.py:1379\u001b[0m, in \u001b[0;36mGridSearchCV._run_search\u001b[1;34m(self, evaluate_candidates)\u001b[0m\n\u001b[0;32m   1377\u001b[0m \u001b[39mdef\u001b[39;00m \u001b[39m_run_search\u001b[39m(\u001b[39mself\u001b[39m, evaluate_candidates):\n\u001b[0;32m   1378\u001b[0m     \u001b[39m\"\"\"Search all candidates in param_grid\"\"\"\u001b[39;00m\n\u001b[1;32m-> 1379\u001b[0m     evaluate_candidates(ParameterGrid(\u001b[39mself\u001b[39;49m\u001b[39m.\u001b[39;49mparam_grid))\n",
      "File \u001b[1;32mc:\\Users\\bhavika\\AppData\\Local\\Programs\\Python\\Python310\\lib\\site-packages\\sklearn\\model_selection\\_search.py:852\u001b[0m, in \u001b[0;36mBaseSearchCV.fit.<locals>.evaluate_candidates\u001b[1;34m(candidate_params, cv, more_results)\u001b[0m\n\u001b[0;32m    845\u001b[0m \u001b[39melif\u001b[39;00m \u001b[39mlen\u001b[39m(out) \u001b[39m!=\u001b[39m n_candidates \u001b[39m*\u001b[39m n_splits:\n\u001b[0;32m    846\u001b[0m     \u001b[39mraise\u001b[39;00m \u001b[39mValueError\u001b[39;00m(\n\u001b[0;32m    847\u001b[0m         \u001b[39m\"\u001b[39m\u001b[39mcv.split and cv.get_n_splits returned \u001b[39m\u001b[39m\"\u001b[39m\n\u001b[0;32m    848\u001b[0m         \u001b[39m\"\u001b[39m\u001b[39minconsistent results. Expected \u001b[39m\u001b[39m{}\u001b[39;00m\u001b[39m \u001b[39m\u001b[39m\"\u001b[39m\n\u001b[0;32m    849\u001b[0m         \u001b[39m\"\u001b[39m\u001b[39msplits, got \u001b[39m\u001b[39m{}\u001b[39;00m\u001b[39m\"\u001b[39m\u001b[39m.\u001b[39mformat(n_splits, \u001b[39mlen\u001b[39m(out) \u001b[39m/\u001b[39m\u001b[39m/\u001b[39m n_candidates)\n\u001b[0;32m    850\u001b[0m     )\n\u001b[1;32m--> 852\u001b[0m _warn_or_raise_about_fit_failures(out, \u001b[39mself\u001b[39;49m\u001b[39m.\u001b[39;49merror_score)\n\u001b[0;32m    854\u001b[0m \u001b[39m# For callable self.scoring, the return type is only know after\u001b[39;00m\n\u001b[0;32m    855\u001b[0m \u001b[39m# calling. If the return type is a dictionary, the error scores\u001b[39;00m\n\u001b[0;32m    856\u001b[0m \u001b[39m# can now be inserted with the correct key. The type checking\u001b[39;00m\n\u001b[0;32m    857\u001b[0m \u001b[39m# of out will be done in `_insert_error_scores`.\u001b[39;00m\n\u001b[0;32m    858\u001b[0m \u001b[39mif\u001b[39;00m callable(\u001b[39mself\u001b[39m\u001b[39m.\u001b[39mscoring):\n",
      "File \u001b[1;32mc:\\Users\\bhavika\\AppData\\Local\\Programs\\Python\\Python310\\lib\\site-packages\\sklearn\\model_selection\\_validation.py:367\u001b[0m, in \u001b[0;36m_warn_or_raise_about_fit_failures\u001b[1;34m(results, error_score)\u001b[0m\n\u001b[0;32m    360\u001b[0m \u001b[39mif\u001b[39;00m num_failed_fits \u001b[39m==\u001b[39m num_fits:\n\u001b[0;32m    361\u001b[0m     all_fits_failed_message \u001b[39m=\u001b[39m (\n\u001b[0;32m    362\u001b[0m         \u001b[39mf\u001b[39m\u001b[39m\"\u001b[39m\u001b[39m\\n\u001b[39;00m\u001b[39mAll the \u001b[39m\u001b[39m{\u001b[39;00mnum_fits\u001b[39m}\u001b[39;00m\u001b[39m fits failed.\u001b[39m\u001b[39m\\n\u001b[39;00m\u001b[39m\"\u001b[39m\n\u001b[0;32m    363\u001b[0m         \u001b[39m\"\u001b[39m\u001b[39mIt is very likely that your model is misconfigured.\u001b[39m\u001b[39m\\n\u001b[39;00m\u001b[39m\"\u001b[39m\n\u001b[0;32m    364\u001b[0m         \u001b[39m\"\u001b[39m\u001b[39mYou can try to debug the error by setting error_score=\u001b[39m\u001b[39m'\u001b[39m\u001b[39mraise\u001b[39m\u001b[39m'\u001b[39m\u001b[39m.\u001b[39m\u001b[39m\\n\u001b[39;00m\u001b[39m\\n\u001b[39;00m\u001b[39m\"\u001b[39m\n\u001b[0;32m    365\u001b[0m         \u001b[39mf\u001b[39m\u001b[39m\"\u001b[39m\u001b[39mBelow are more details about the failures:\u001b[39m\u001b[39m\\n\u001b[39;00m\u001b[39m{\u001b[39;00mfit_errors_summary\u001b[39m}\u001b[39;00m\u001b[39m\"\u001b[39m\n\u001b[0;32m    366\u001b[0m     )\n\u001b[1;32m--> 367\u001b[0m     \u001b[39mraise\u001b[39;00m \u001b[39mValueError\u001b[39;00m(all_fits_failed_message)\n\u001b[0;32m    369\u001b[0m \u001b[39melse\u001b[39;00m:\n\u001b[0;32m    370\u001b[0m     some_fits_failed_message \u001b[39m=\u001b[39m (\n\u001b[0;32m    371\u001b[0m         \u001b[39mf\u001b[39m\u001b[39m\"\u001b[39m\u001b[39m\\n\u001b[39;00m\u001b[39m{\u001b[39;00mnum_failed_fits\u001b[39m}\u001b[39;00m\u001b[39m fits failed out of a total of \u001b[39m\u001b[39m{\u001b[39;00mnum_fits\u001b[39m}\u001b[39;00m\u001b[39m.\u001b[39m\u001b[39m\\n\u001b[39;00m\u001b[39m\"\u001b[39m\n\u001b[0;32m    372\u001b[0m         \u001b[39m\"\u001b[39m\u001b[39mThe score on these train-test partitions for these parameters\u001b[39m\u001b[39m\"\u001b[39m\n\u001b[1;32m   (...)\u001b[0m\n\u001b[0;32m    376\u001b[0m         \u001b[39mf\u001b[39m\u001b[39m\"\u001b[39m\u001b[39mBelow are more details about the failures:\u001b[39m\u001b[39m\\n\u001b[39;00m\u001b[39m{\u001b[39;00mfit_errors_summary\u001b[39m}\u001b[39;00m\u001b[39m\"\u001b[39m\n\u001b[0;32m    377\u001b[0m     )\n",
      "\u001b[1;31mValueError\u001b[0m: \nAll the 100 fits failed.\nIt is very likely that your model is misconfigured.\nYou can try to debug the error by setting error_score='raise'.\n\nBelow are more details about the failures:\n--------------------------------------------------------------------------------\n10 fits failed with the following error:\nTraceback (most recent call last):\n  File \"c:\\Users\\bhavika\\AppData\\Local\\Programs\\Python\\Python310\\lib\\site-packages\\pandas\\core\\indexes\\base.py\", line 3800, in get_loc\n    return self._engine.get_loc(casted_key)\n  File \"pandas\\_libs\\index.pyx\", line 138, in pandas._libs.index.IndexEngine.get_loc\n  File \"pandas\\_libs\\index.pyx\", line 165, in pandas._libs.index.IndexEngine.get_loc\n  File \"pandas\\_libs\\hashtable_class_helper.pxi\", line 2263, in pandas._libs.hashtable.Int64HashTable.get_item\n  File \"pandas\\_libs\\hashtable_class_helper.pxi\", line 2273, in pandas._libs.hashtable.Int64HashTable.get_item\nKeyError: 0\n\nThe above exception was the direct cause of the following exception:\n\nTraceback (most recent call last):\n  File \"c:\\Users\\bhavika\\AppData\\Local\\Programs\\Python\\Python310\\lib\\site-packages\\sklearn\\model_selection\\_validation.py\", line 686, in _fit_and_score\n    estimator.fit(X_train, y_train, **fit_params)\n  File \"c:\\Users\\bhavika\\AppData\\Local\\Programs\\Python\\Python310\\lib\\site-packages\\sklearn\\pipeline.py\", line 378, in fit\n    Xt = self._fit(X, y, **fit_params_steps)\n  File \"c:\\Users\\bhavika\\AppData\\Local\\Programs\\Python\\Python310\\lib\\site-packages\\sklearn\\pipeline.py\", line 336, in _fit\n    X, fitted_transformer = fit_transform_one_cached(\n  File \"c:\\Users\\bhavika\\AppData\\Local\\Programs\\Python\\Python310\\lib\\site-packages\\joblib\\memory.py\", line 349, in __call__\n    return self.func(*args, **kwargs)\n  File \"c:\\Users\\bhavika\\AppData\\Local\\Programs\\Python\\Python310\\lib\\site-packages\\sklearn\\pipeline.py\", line 870, in _fit_transform_one\n    res = transformer.fit_transform(X, y, **fit_params)\n  File \"c:\\Users\\bhavika\\AppData\\Local\\Programs\\Python\\Python310\\lib\\site-packages\\sklearn\\base.py\", line 870, in fit_transform\n    return self.fit(X, y, **fit_params).transform(X)\n  File \"C:\\Users\\bhavika\\AppData\\Local\\Temp\\ipykernel_12432\\1588719528.py\", line 23, in transform\n    w2v_data = vectorize_sentence_2(X, self.model, mode=self.mode)\n  File \"C:\\Users\\bhavika\\AppData\\Local\\Temp\\ipykernel_12432\\1698520611.py\", line 22, in vectorize_sentence_2\n    for word in sentences[i]:\n  File \"c:\\Users\\bhavika\\AppData\\Local\\Programs\\Python\\Python310\\lib\\site-packages\\pandas\\core\\series.py\", line 982, in __getitem__\n    return self._get_value(key)\n  File \"c:\\Users\\bhavika\\AppData\\Local\\Programs\\Python\\Python310\\lib\\site-packages\\pandas\\core\\series.py\", line 1092, in _get_value\n    loc = self.index.get_loc(label)\n  File \"c:\\Users\\bhavika\\AppData\\Local\\Programs\\Python\\Python310\\lib\\site-packages\\pandas\\core\\indexes\\base.py\", line 3802, in get_loc\n    raise KeyError(key) from err\nKeyError: 0\n\n--------------------------------------------------------------------------------\n90 fits failed with the following error:\nTraceback (most recent call last):\n  File \"c:\\Users\\bhavika\\AppData\\Local\\Programs\\Python\\Python310\\lib\\site-packages\\sklearn\\model_selection\\_validation.py\", line 686, in _fit_and_score\n    estimator.fit(X_train, y_train, **fit_params)\n  File \"c:\\Users\\bhavika\\AppData\\Local\\Programs\\Python\\Python310\\lib\\site-packages\\sklearn\\pipeline.py\", line 378, in fit\n    Xt = self._fit(X, y, **fit_params_steps)\n  File \"c:\\Users\\bhavika\\AppData\\Local\\Programs\\Python\\Python310\\lib\\site-packages\\sklearn\\pipeline.py\", line 336, in _fit\n    X, fitted_transformer = fit_transform_one_cached(\n  File \"c:\\Users\\bhavika\\AppData\\Local\\Programs\\Python\\Python310\\lib\\site-packages\\joblib\\memory.py\", line 349, in __call__\n    return self.func(*args, **kwargs)\n  File \"c:\\Users\\bhavika\\AppData\\Local\\Programs\\Python\\Python310\\lib\\site-packages\\sklearn\\pipeline.py\", line 870, in _fit_transform_one\n    res = transformer.fit_transform(X, y, **fit_params)\n  File \"c:\\Users\\bhavika\\AppData\\Local\\Programs\\Python\\Python310\\lib\\site-packages\\sklearn\\base.py\", line 870, in fit_transform\n    return self.fit(X, y, **fit_params).transform(X)\n  File \"C:\\Users\\bhavika\\AppData\\Local\\Temp\\ipykernel_12432\\1588719528.py\", line 23, in transform\n    w2v_data = vectorize_sentence_2(X, self.model, mode=self.mode)\n  File \"C:\\Users\\bhavika\\AppData\\Local\\Temp\\ipykernel_12432\\1698520611.py\", line 23, in vectorize_sentence_2\n    if word in wv_model:\n  File \"C:\\Users\\bhavika\\AppData\\Local\\Temp\\ipykernel_12432\\3770134011.py\", line 11, in __getitem__\n    return self.dictionary[key]\nKeyError: 0\n"
     ]
    }
   ],
   "source": [
    "\n",
    "scores_1 = []\n",
    "\n",
    "for text_rep, text_rep_obj in text_reps_1.items():\n",
    "    for classifier, classifier_obj  in classifiers.items():\n",
    "        print(classifier, text_rep)\n",
    "        pipe = make_pipeline(text_rep_obj, classifier_obj)\n",
    "        print(pipe)\n",
    "        grid_search = GridSearchCV(estimator=pipe, param_grid={**params[text_rep], **params[classifier]}, cv=10, scoring='accuracy')\n",
    "        grid_search.fit(X, y)\n",
    "        scores_1.append({\n",
    "            'model': classifier,\n",
    "            'text_representation': text_rep,\n",
    "            'scores': grid_search.cv_results_\n",
    "        })\n"
   ]
  },
  {
   "cell_type": "code",
   "execution_count": 49,
   "metadata": {},
   "outputs": [],
   "source": [
    "with open('scores_1.pkl', 'wb') as f:\n",
    "    pickle.dump(scores_1, f)"
   ]
  },
  {
   "cell_type": "code",
   "execution_count": 50,
   "metadata": {},
   "outputs": [
    {
     "name": "stdout",
     "output_type": "stream",
     "text": [
      "nb tfidf\n",
      "Pipeline(steps=[('tfidfvectorizer',\n",
      "                 TfidfVectorizer(preprocessor=<function <lambda> at 0x00000193BD1C1360>,\n",
      "                                 tokenizer=<function <lambda> at 0x00000193BD1C1510>)),\n",
      "                ('multinomialnb', MultinomialNB())])\n",
      "sgd tfidf\n",
      "Pipeline(steps=[('tfidfvectorizer',\n",
      "                 TfidfVectorizer(preprocessor=<function <lambda> at 0x00000193BD1C1360>,\n",
      "                                 tokenizer=<function <lambda> at 0x00000193BD1C1510>)),\n",
      "                ('sgdclassifier', SGDClassifier())])\n",
      "Unexpected exception formatting exception. Falling back to standard exception\n"
     ]
    },
    {
     "name": "stderr",
     "output_type": "stream",
     "text": [
      "Traceback (most recent call last):\n",
      "  File \"c:\\Users\\bhavika\\AppData\\Local\\Programs\\Python\\Python310\\lib\\site-packages\\IPython\\core\\interactiveshell.py\", line 3378, in run_code\n",
      "    exec(code_obj, self.user_global_ns, self.user_ns)\n",
      "  File \"C:\\Users\\bhavika\\AppData\\Local\\Temp\\ipykernel_12432\\3538754444.py\", line 9, in <module>\n",
      "    grid_search.fit(X, y)\n",
      "  File \"c:\\Users\\bhavika\\AppData\\Local\\Programs\\Python\\Python310\\lib\\site-packages\\sklearn\\model_selection\\_search.py\", line 875, in fit\n",
      "    self._run_search(evaluate_candidates)\n",
      "  File \"c:\\Users\\bhavika\\AppData\\Local\\Programs\\Python\\Python310\\lib\\site-packages\\sklearn\\model_selection\\_search.py\", line 1379, in _run_search\n",
      "    evaluate_candidates(ParameterGrid(self.param_grid))\n",
      "  File \"c:\\Users\\bhavika\\AppData\\Local\\Programs\\Python\\Python310\\lib\\site-packages\\sklearn\\model_selection\\_search.py\", line 822, in evaluate_candidates\n",
      "    out = parallel(\n",
      "  File \"c:\\Users\\bhavika\\AppData\\Local\\Programs\\Python\\Python310\\lib\\site-packages\\joblib\\parallel.py\", line 1088, in __call__\n",
      "    while self.dispatch_one_batch(iterator):\n",
      "  File \"c:\\Users\\bhavika\\AppData\\Local\\Programs\\Python\\Python310\\lib\\site-packages\\joblib\\parallel.py\", line 901, in dispatch_one_batch\n",
      "    self._dispatch(tasks)\n",
      "  File \"c:\\Users\\bhavika\\AppData\\Local\\Programs\\Python\\Python310\\lib\\site-packages\\joblib\\parallel.py\", line 819, in _dispatch\n",
      "    job = self._backend.apply_async(batch, callback=cb)\n",
      "  File \"c:\\Users\\bhavika\\AppData\\Local\\Programs\\Python\\Python310\\lib\\site-packages\\joblib\\_parallel_backends.py\", line 208, in apply_async\n",
      "    result = ImmediateResult(func)\n",
      "  File \"c:\\Users\\bhavika\\AppData\\Local\\Programs\\Python\\Python310\\lib\\site-packages\\joblib\\_parallel_backends.py\", line 597, in __init__\n",
      "    self.results = batch()\n",
      "  File \"c:\\Users\\bhavika\\AppData\\Local\\Programs\\Python\\Python310\\lib\\site-packages\\joblib\\parallel.py\", line 288, in __call__\n",
      "    return [func(*args, **kwargs)\n",
      "  File \"c:\\Users\\bhavika\\AppData\\Local\\Programs\\Python\\Python310\\lib\\site-packages\\joblib\\parallel.py\", line 288, in <listcomp>\n",
      "    return [func(*args, **kwargs)\n",
      "  File \"c:\\Users\\bhavika\\AppData\\Local\\Programs\\Python\\Python310\\lib\\site-packages\\sklearn\\utils\\fixes.py\", line 117, in __call__\n",
      "    return self.function(*args, **kwargs)\n",
      "  File \"c:\\Users\\bhavika\\AppData\\Local\\Programs\\Python\\Python310\\lib\\site-packages\\sklearn\\model_selection\\_validation.py\", line 686, in _fit_and_score\n",
      "    estimator.fit(X_train, y_train, **fit_params)\n",
      "  File \"c:\\Users\\bhavika\\AppData\\Local\\Programs\\Python\\Python310\\lib\\site-packages\\sklearn\\pipeline.py\", line 378, in fit\n",
      "    Xt = self._fit(X, y, **fit_params_steps)\n",
      "  File \"c:\\Users\\bhavika\\AppData\\Local\\Programs\\Python\\Python310\\lib\\site-packages\\sklearn\\pipeline.py\", line 336, in _fit\n",
      "    X, fitted_transformer = fit_transform_one_cached(\n",
      "  File \"c:\\Users\\bhavika\\AppData\\Local\\Programs\\Python\\Python310\\lib\\site-packages\\joblib\\memory.py\", line 349, in __call__\n",
      "    return self.func(*args, **kwargs)\n",
      "  File \"c:\\Users\\bhavika\\AppData\\Local\\Programs\\Python\\Python310\\lib\\site-packages\\sklearn\\pipeline.py\", line 870, in _fit_transform_one\n",
      "    res = transformer.fit_transform(X, y, **fit_params)\n",
      "  File \"c:\\Users\\bhavika\\AppData\\Local\\Programs\\Python\\Python310\\lib\\site-packages\\sklearn\\feature_extraction\\text.py\", line 2079, in fit_transform\n",
      "    X = super().fit_transform(raw_documents)\n",
      "  File \"c:\\Users\\bhavika\\AppData\\Local\\Programs\\Python\\Python310\\lib\\site-packages\\sklearn\\feature_extraction\\text.py\", line 1338, in fit_transform\n",
      "    vocabulary, X = self._count_vocab(raw_documents, self.fixed_vocabulary_)\n",
      "  File \"c:\\Users\\bhavika\\AppData\\Local\\Programs\\Python\\Python310\\lib\\site-packages\\sklearn\\feature_extraction\\text.py\", line -1, in _count_vocab\n",
      "KeyboardInterrupt\n",
      "\n",
      "During handling of the above exception, another exception occurred:\n",
      "\n",
      "Traceback (most recent call last):\n",
      "  File \"c:\\Users\\bhavika\\AppData\\Local\\Programs\\Python\\Python310\\lib\\site-packages\\IPython\\core\\interactiveshell.py\", line 1997, in showtraceback\n",
      "    stb = self.InteractiveTB.structured_traceback(\n",
      "  File \"c:\\Users\\bhavika\\AppData\\Local\\Programs\\Python\\Python310\\lib\\site-packages\\IPython\\core\\ultratb.py\", line 1112, in structured_traceback\n",
      "    return FormattedTB.structured_traceback(\n",
      "  File \"c:\\Users\\bhavika\\AppData\\Local\\Programs\\Python\\Python310\\lib\\site-packages\\IPython\\core\\ultratb.py\", line 1006, in structured_traceback\n",
      "    return VerboseTB.structured_traceback(\n",
      "  File \"c:\\Users\\bhavika\\AppData\\Local\\Programs\\Python\\Python310\\lib\\site-packages\\IPython\\core\\ultratb.py\", line 859, in structured_traceback\n",
      "    formatted_exception = self.format_exception_as_a_whole(etype, evalue, etb, number_of_lines_of_context,\n",
      "  File \"c:\\Users\\bhavika\\AppData\\Local\\Programs\\Python\\Python310\\lib\\site-packages\\IPython\\core\\ultratb.py\", line 812, in format_exception_as_a_whole\n",
      "    frames.append(self.format_record(r))\n",
      "  File \"c:\\Users\\bhavika\\AppData\\Local\\Programs\\Python\\Python310\\lib\\site-packages\\IPython\\core\\ultratb.py\", line 730, in format_record\n",
      "    result += ''.join(_format_traceback_lines(frame_info.lines, Colors, self.has_colors, lvals))\n",
      "  File \"c:\\Users\\bhavika\\AppData\\Local\\Programs\\Python\\Python310\\lib\\site-packages\\stack_data\\utils.py\", line 145, in cached_property_wrapper\n",
      "    value = obj.__dict__[self.func.__name__] = self.func(obj)\n",
      "  File \"c:\\Users\\bhavika\\AppData\\Local\\Programs\\Python\\Python310\\lib\\site-packages\\stack_data\\core.py\", line 734, in lines\n",
      "    pieces = self.included_pieces\n",
      "  File \"c:\\Users\\bhavika\\AppData\\Local\\Programs\\Python\\Python310\\lib\\site-packages\\stack_data\\utils.py\", line 145, in cached_property_wrapper\n",
      "    value = obj.__dict__[self.func.__name__] = self.func(obj)\n",
      "  File \"c:\\Users\\bhavika\\AppData\\Local\\Programs\\Python\\Python310\\lib\\site-packages\\stack_data\\core.py\", line 681, in included_pieces\n",
      "    pos = scope_pieces.index(self.executing_piece)\n",
      "  File \"c:\\Users\\bhavika\\AppData\\Local\\Programs\\Python\\Python310\\lib\\site-packages\\stack_data\\utils.py\", line 145, in cached_property_wrapper\n",
      "    value = obj.__dict__[self.func.__name__] = self.func(obj)\n",
      "  File \"c:\\Users\\bhavika\\AppData\\Local\\Programs\\Python\\Python310\\lib\\site-packages\\stack_data\\core.py\", line 660, in executing_piece\n",
      "    return only(\n",
      "  File \"c:\\Users\\bhavika\\AppData\\Local\\Programs\\Python\\Python310\\lib\\site-packages\\executing\\executing.py\", line 190, in only\n",
      "    raise NotOneValueFound('Expected one value, found 0')\n",
      "executing.executing.NotOneValueFound: Expected one value, found 0\n"
     ]
    }
   ],
   "source": [
    "scores_2 = []\n",
    "\n",
    "for text_rep, text_rep_obj in text_reps_2.items():\n",
    "    for classifier, classifier_obj  in classifiers.items():\n",
    "        print(classifier, text_rep)\n",
    "        pipe = make_pipeline(text_rep_obj, classifier_obj)\n",
    "        print(pipe)\n",
    "        grid_search = GridSearchCV(estimator=pipe, param_grid={**params[text_rep], **params[classifier]}, cv=10, scoring='accuracy')\n",
    "        grid_search.fit(X, y)\n",
    "        scores_2.append({\n",
    "            'model': classifier,\n",
    "            'text_representation': text_rep,\n",
    "            'scores': grid_search.cv_results_\n",
    "        })"
   ]
  },
  {
   "cell_type": "code",
   "execution_count": 51,
   "metadata": {},
   "outputs": [],

   "source": [
    "with open('scores_2.pkl', 'wb') as f:\n",
    "    pickle.dump(scores_2, f)"

   "source": []
  },
  {
   "attachments": {},
   "cell_type": "markdown",
   "metadata": {},
   "source": [
    "# Topic Modelling"
   ]
  },
  {
   "cell_type": "code",
   "execution_count": 29,
   "metadata": {},
   "outputs": [],
   "source": [
    "# Required imports\n",
    "from gensim.corpora import Dictionary\n",
    "from gensim.models.ldamodel import LdaModel\n",
    "from gensim.models import CoherenceModel"
   ]
  },
  {
   "attachments": {},
   "cell_type": "markdown",
   "metadata": {},
   "source": [
    "For topic modelling, people mostly use lemmatization as it preserves the word. (SOURCE) Since stemming can generate words that do not exist, it is difficult to group them into topics."
   ]
  },
  {
   "cell_type": "code",
   "execution_count": 30,
   "metadata": {},
   "outputs": [],
   "source": [
    "# Builds a dictionary for each word in lemmatized\n",
    "review_dict = Dictionary(train['Lemmatized Reviews'])\n",
    "\n",
    "# Builds corpus - vectors that represent the occurence of each word \n",
    "corpus = [review_dict.doc2bow(review) for review in train['Lemmatized Reviews']]"
   ]
  },
  {
   "attachments": {},
   "cell_type": "markdown",
   "metadata": {},
   "source": [
    "Here we evaluate the coherence of topics found. Coherence is a measure of semantic similarity between words and is often used to help decide how many topics there are."
   ]
  },
  {
   "cell_type": "code",
   "execution_count": null,
   "metadata": {},
   "outputs": [],
   "source": [
    "# Computes coherence\n",
    "from tqdm import tqdm\n",
    "\n",
    "review_coherence = []\n",
    "for nb_topics in tqdm(range(1,20)):\n",
    "    lda = LdaModel(corpus, num_topics = nb_topics, id2word = review_dict, passes=10)\n",
    "    cohm = CoherenceModel(model=lda, corpus=corpus, dictionary=review_dict, coherence='u_mass')\n",
    "    coh = cohm.get_coherence()\n",
    "    review_coherence.append(coh)\n",
    "\n"
   ]
  },
  {
   "cell_type": "code",
   "execution_count": 33,
   "metadata": {},
   "outputs": [
    {
     "data": {
      "image/png": "iVBORw0KGgoAAAANSUhEUgAAA1oAAAHACAYAAAC7wBmSAAAAOXRFWHRTb2Z0d2FyZQBNYXRwbG90bGliIHZlcnNpb24zLjcuMSwgaHR0cHM6Ly9tYXRwbG90bGliLm9yZy/bCgiHAAAACXBIWXMAAA9hAAAPYQGoP6dpAABvkUlEQVR4nO3deVhUZePG8XuGXQQUUQFBFvddc9+1TG1R2yyzTDNNM8vS6s16e7Xf+5baatqiLS6V7WWWlZm5577gvqGoCCJubCLrnN8fGEUqMjpwBvh+rmuuYuacM/cwjnhzzvM8FsMwDAEAAAAAHMZqdgAAAAAAKGsoWgAAAADgYBQtAAAAAHAwihYAAAAAOBhFCwAAAAAcjKIFAAAAAA5G0QIAAAAAB6NoAQAAAICDuZodwNnZbDbFx8fLx8dHFovF7DgAAAAATGIYhlJTUxUcHCyrtfBzVhStK4iPj1doaKjZMQAAAAA4idjYWIWEhBS6DUXrCnx8fCTlfTN9fX1NTgMAAADALCkpKQoNDc3vCIWhaF3Bn5cL+vr6UrQAAAAAFGlIEZNhAAAAAICDUbQAAAAAwMEoWgAAAADgYBQtAAAAAHAwihYAAAAAOBhFCwAAAAAcjKIFAAAAAA5G0QIAAAAAB6NoAQAAAICDUbQAAAAAwMEoWgAAAADgYBQtAAAAAHAwilYpkpmTq8ycXLNjAAAAALgCilYp8taSA7pl2mptPnLG7CgAAAAACkHRKiXOZ+Xquy1xik5M010z1mrCgp1Ky8wxOxYAAACAS6BolRJe7i5a9ERn9W8ZIsOQ5q49op5vrNDSvSfMjgYAAADgHyhapUilCu56tX8zffpQW9X0r6D45AwNnbNJj3++VafTMs2OBwAAAOACilYp1KlOgH59oose7hIpq0X6YVu8eryxQt9tOSbDMMyOBwAAAJR7FK1SysvdRc/d3EDfP9pR9QN9dDY9W2O/2qbBszcq9ky62fEAAACAco2iVco1DamkHx/rpKd71ZO7q1Ur959UzzdX6qPVMcq1cXYLAAAAMANFqwxwc7Hq0e61tWhMZ7WJ8Nf57Fz9d+Fu3fHeGu1NSDE7HgAAAFDuULTKkMiqFfXF8HZ6+fYm8vFw1bbYJN06bbXeWLyPhY4BAACAEkTRKmOsVosGtq2p38Z21Y0NqyvHZmja0mjd/NYqbTrMQscAAABASaBolVGBfp56f1BLvXvfdQqo6KGDJ8/prhlr9cL3O5WakW12PAAAAKBMo2iVYRaLRTc3CdKSsV10d6sQSdIn646o55sr9fseFjoGAAAAigtFqxyoVMFdr9zVTPOG5S10fDw5Qw/N3aTHPt+qUyx0DAAAADgcRasc6Vg7b6HjERcWOv7xwkLH325moWMAAADAkSha5YyXu4vG39xACx7tpAZBvkpKz9a4r7fpgVkbWOgYAAAAcBCKVjnVJMRPP4zuqGd65y10vOrAKfV8c6U+XHWIhY4BAACAa0TRKsfcXKwa1a22fn2ii9peWOj4fz/t0R3v/qE9x1noGAAAALhapaZovfTSS+rQoYMqVKigSpUqFXm/PXv2qG/fvvLz85OPj4/atWuno0ePFl/QUigiwFufD2+nSXdcWOj4WLL6TF+t1xfvU0Y2Cx0DAAAA9io1RSsrK0v9+/fXI488UuR9Dh48qE6dOql+/fpavny5tm3bphdeeEGenp7FmLR0sloturdNTS0Z11U9Lyx0PH1ptG6ZtkobWegYAAAAsIvFKGXTzc2ZM0dPPPGEkpKSrrjtgAED5Obmpk8++eSqny8lJUV+fn5KTk6Wr6/vVR+ntPllx3H954ddOpmaN/37oHZheqZ3Pfl4upmcDAAAADCHPd2g1JzRspfNZtNPP/2kunXrqlevXqpWrZratm2r77//vtD9MjMzlZKSUuBWHt3UJEhLnuyqe1qFSspb6PjGN1ZqyW4WOgYAAACupMwWrcTERKWlpWny5Mnq3bu3Fi9erNtvv1133HGHVqxYcdn9Jk2aJD8/v/xbaGhoCaZ2Ln4V3DTlrqb6bFhbhVWpoISUDA37eJNGf7Yl/0wXAAAAgIuZWrQmTpwoi8VS6G3Tpk1XdWybzSZJ6tevn5588kk1b95czz77rG699VbNmDHjsvuNHz9eycnJ+bfY2Nirev6ypEPtAC0a00UjukbKxWrRwu3H1eONFfqGhY4BAACAS3I188lHjx6tAQMGFLpNeHj4VR07ICBArq6uatiwYYH7GzRooNWrV192Pw8PD3l4eFzVc5ZlXu4uGn9TA/VpGqxnvtmu3cdT9NTX27QgKk4v395Eof4VzI4IAAAAOA1Ti1ZAQIACAgKK5dju7u5q3bq19u3bV+D+/fv3KywsrFieszxoXMNPC0Z31IerYjR1yf78hY7H9ayrBztGyMVqMTsiAAAAYLpSM0br6NGjioqK0tGjR5Wbm6uoqChFRUUpLS0tf5v69etr/vz5+V8//fTT+vLLL/XBBx8oOjpab7/9tn788UeNGjXKjJdQZri5WPVIt1pa9EQXtYssuNDx0dPpZscDAAAATFdqpncfMmSI5s6de9H9y5YtU7du3SRJFotFs2fP1pAhQ/IfnzVrliZNmqRjx46pXr16evHFF9WvX78iP295nd69qAzD0JcbY/XSz3uUmpGjqj4emvtgGzUM5nsFAACAssWeblBqipZZKFpFczz5vB6cvVF7E1Ll4+GqDwe3UtvIKmbHAgAAAByGdbRQ4oL8vPTliPZqE+6v1MwcDZq1QYt3JZgdCwAAADAFRQsO4+flpo8faqMeDaorK8emkZ9u1pcbj5odCwAAAChxFC04lKebi2bcf53ubhUimyH969sdend5NOttAQAAoFyhaMHhXF2smnJnUz3SrZYk6ZVF+/TfhXtks1G2AAAAUD5QtFAsLBaL/tW7vv59SwNJ0qw/YjT2qyhl59pMTgYAAAAUP4oWitWwzpF6855mcrVa9H1UvIbN3aT0rByzYwEAAADFiqKFYnd7ixB9MLiVPN2sWrH/pAZ+sF5nz2WZHQsAAAAoNhQtlIju9app3rB28vNyU1RskvrPXKv4pPNmxwIAAACKBUULJaZlWGV9M7K9gvw8FZ2YpjvfW6PoxFSzYwEAAAAOR9FCiapT3UffPNJBtap663hyhu6asVZbj541OxYAAADgUBQtlLgalbz09cgOah5aSUnp2Rr4wXot35dodiwAAADAYShaMIW/t7vmDWurLnWr6nx2robN3aQFUXFmxwIAAAAcgqIF03h7uOrDB1qpb7Ng5dgMjfkiSrNWx5gdCwAAALhmFC2Yyt3Vqqn3NNeDHcMlSf+3cLde/XWvDMMwNxgAAABwDShaMJ3VatF/bm2op3vVkyS9s+ygxn+3Qzm5NpOTAQAAAFfH1ewAgCRZLBY92r22qni767n5O/TFxlidOZelafe2kKebi9nxikV2rk0Lt8dr4bbjCvWvoFuaBqllzcqyWi1mRwMAAMA1shhco1WolJQU+fn5KTk5Wb6+vmbHKRd+3ZWgxz7fqqwcm9pE+OvDwa3k6+lmdiyHSc3I1hcbYjXrjxgdT84o8FiQn6dubhKkW5oGqUVoJVkslC4AAABnYU83oGhdAUXLHOsOndbwuZuUmpmjBkG+mvtga1Xz9TQ71jVJSM7Q7DUx+mzdUaVm5kiSAip6aGCbUB1LOq/fdp3Iv1/Kmwb/1qZ5patJDT9KFwAAgMkoWg5E0TLPrvhkDZ61UafSMlXTv4I+eaiNwqp4mx3LbnsTUvTByhj9sC1O2bl5H7daVb31cJdI9WteI//SyIzsXK3cf1I/7TiuJbtP6FxWbv4xwqpU0C0XznQ1DPKldAEAAJiAouVAFC1zHT2drkGz1uvI6XQFVHTXnAfbqHENP7NjXZFhGFp78LRmrjykFftP5t/fJsJfI7pEqnu9aoWOxcrIztWyvYlauOO4ft9zQhnZf00MEhngfeFMV7DqBfoU6+sAAADAXyhaDkTRMt/J1EwNnrVBu4+nqKKHqz54oJXa16pidqxLysm16acdx/XBqkPaGZciSbJapJsaB2l4l0g1D61k9zHTs3L0+55ELdwer2X7Tior56/SVadaRd3aNFi3NgtSraoVHfUyAAAAcAkULQeiaDmHlIxsPfzxJq07dEbuLlZNu7e5ejcOMjtWvrTMHH25MVazVscoLum8JMnTzap7WoVqaKcIh13ymJaZoyW7T2jh9nit3H9KWX+bAr9+oI/6NAvWLU2CFB5Q+i6xBAAAcHYULQeiaDmPjOxcPfFFlBbtSpDVIv3vtiYa2LamqZkSUzI0e81hzVt3RCkZeRNZVPF21+AO4RrULkyVvd2L7bmTz2frtwula/WBU8qx/fVRblzDV7c2zStdof4Vii0DAABAeULRciCKlnPJtRn69/c79fmGo5KkcTfW1ejra5f45BAHTqTq/ZWHtCAqPv+sUmSAt4Z1jtQd19Uo8bW/ktKz9OuuBC3cflxrDp5W7t9KV7PQSurTNEg3NwlScCWvEs0FAABQllC0HIii5XwMw9Cbv+3XtKXRkqTB7cM0oU+jYl/o1zAMrTt0Rh+sOqSlexPz728VVlkPd4lUjwbVnWKx4dNpmVq0K0ELtx3X+pjT+lvnUsuwyrr1QumqXsqnywcAAChpFC0Homg5rzl/xOjFhbtlGFKfZsF6vX8zubtaHf48Obk2LdqVoPdXHtL2Y8mSJItF6tUwUMO7RKplWGWHP6ejJKZmaNHOvNK18cgZ/flpt1ik1uH+6tM0SL0bB6mqj4e5QQEAAEoBipYDUbSc2w/b4jXuqyhl5xrqXCdAM+5vKW8PV4ccOz0rR19tjNVHf8Qo9kzeBBcerlbd1TJEwzpHKqKUTTiRkJyhn3cc18Lt8dpyNCn/fqtFahdZRbc2DVbvxoHyL8ZxZQAAAKUZRcuBKFrOb+X+kxr56WalZ+WqWYifZj/Y5prKwsnUTM1dc1ifrDui5PPZkqTKFdz0QPtwPdA+TFUqlv6zP3FJ5/Xz9rzSte3CWTpJcrFa1KFWFfVpGqxejQLlV8HNxJQAAADOhaLlQBSt0iEqNkkPzt6gs+nZiqzqrY+HtlFIZftm24tOTNNHqw/p2y1x+WtVhVWpoGGdI3XXdSHyci/ZCS5KytHT6frpwpmuXfEp+fe7uVjUqXaAhneJVIdaASYmBAAAcA4ULQeiaJUe0YlpGjxrg+KSzivQ11MfP9RGdav7FLqPYRjadOSsZq44pCV7TuTf36JmJY3oEqkbGwbKxQkmuCgph06mXbi88Lj2JqRKyjvL9cbdzdSveQ2T0wEAAJiLouVAFK3S5XjyeQ2etUH7T6TJz8tNs4a0Ussw/4u2y7UZWrwrQTNXHlJUbJKkvAkiejSorhEXJrgo6SnjnU10Yqre+j1aP26Ll8Ui/bdfY93fLszsWAAAAKahaDkQRav0SUrP0tA5G7XlaJI83ax6977rdH396pKk81m5+mZzrD5cHaMjp9MlSe6uVt15XYiGdY5QraoVzYzudGw2QxN/3KWP1x6RJP2rd3090q2WyakAAADMQdFyIIpW6XQ+K1ej5m3Wsn0n5WK1aGLfRjqZmqlP1h7W2fS8CS4qVXDToHZheqB9ONObF8IwDL22eJ/eWXZQkjSqWy093ateuT/jBwAAyh+KlgNRtEqv7Fyb/vXtdn23Ja7A/aH+XhrWKVL9W4WogrtjpoIvD2asOKjJv+yVJA1qF6YX+xb/ItEAAADOxJ5uwL8yUWa5uVj12l3NVLWih2auPKRmIX56uEst9W5cvia4cJSRXWvJx9NV//5+pz5Zd0RpmTl69a6mcnVx/CLRAAAApR1ntK6AM1plQ0pGtnw8XLnczQEWRMVp7FfblGszdGPD6pp+bwt5upXNqe8BAAD+zp5uwK+iUS74erpRshykX/Mamnl/S7m7WvXb7hN6aO5GncvMMTsWAACAU6FoAbBbj4bVNefB1vJ2d9Ef0ad1/0frlXxhkhEAAABQtABcpQ61AvTpsLby83LT1qNJuuf9tTqZmml2LAAAAKdA0QJw1VrUrKyvRrRXVR8P7U1I1d0z1you6bzZsQAAAExH0QJwTeoF+ujrEe1Vo5KXYk6dU//31ujQyTSzYwEAAJiKogXgmoUHeOubR9qrVlVvxSdn6O6Za7U7PsXsWAAAAKahaAFwiCA/L301or0aBfvqVFqWBry/VpuPnDE7FgAAgCkoWgAcpkpFD302vJ1ahVVWSkaO7v9wg1YfOGV2LAAAgBJH0QLgUH5ebvrkobbqUreqzmfnauicjfp1V4LZsQAAAEoURQuAw3m5u+iDB1rqpsaBysq1adS8LfpuyzGzYwEAAJQYihaAYuHh6qLp97bQXS1DlGszNParbfp47WGzYwEAAJQIihaAYuPqYtUrdzbVkA7hkqT/LNild5ZFyzAMc4MBAAAUM4oWgGJltVo0oU9DPX5DHUnSq7/u0+RFeylbAACgTKNoASh2FotFY2+sq3/f0kCSNHPFIT3//U7l2ihbAACgbCo1Reull15Shw4dVKFCBVWqVKlI+6SlpWn06NEKCQmRl5eXGjRooPfee694gwK4rGGdIzX5jiayWKTP1h/V2K+ilJ1rMzsWAACAw5WaopWVlaX+/fvrkUceKfI+Tz75pBYtWqRPP/1Ue/bs0ZNPPqnHHntMCxYsKMakAAozoE1NTRvQQq5WixZExeuRTzcrIzvX7FgAAAAOVWqK1osvvqgnn3xSTZo0KfI+a9eu1eDBg9WtWzeFh4fr4YcfVrNmzbRp06ZiTArgSvo0C9b7D7SUh6tVS/Yk6sHZG5WWmWN2LAAAAIcpNUXranTq1Ek//PCD4uLiZBiGli1bpv3796tXr16X3SczM1MpKSkFbgAc7/r61TV3aBtV9HDV2kOndd+H65WUnmV2LAAAAIco00Vr2rRpatiwoUJCQuTu7q7evXvr3XffVadOnS67z6RJk+Tn55d/Cw0NLcHEQPnSLrKKPhveVpUquGlbbJLumblOiSkZZscCAAC4ZqYWrYkTJ8pisRR6u5bL/KZNm6Z169bphx9+0ObNm/X6669r1KhRWrJkyWX3GT9+vJKTk/NvsbGxV/38AK6saUglfTWivar5eGjfiVT1n7lWsWfSzY4FAABwTSyGiYvZnDp1SqdOnSp0m/DwcHl6euZ/PWfOHD3xxBNKSkoqdL/z58/Lz89P8+fP1y233JJ//7Bhw3Ts2DEtWrSoSBlTUlLk5+en5ORk+fr6FmkfAPY7ejpd9320TrFnzivQ11OfDmur2tUqmh3Lblk5Nu05nqIK7i6qU93H7DgAAMCB7OkGriWU6ZICAgIUEBBQLMfOzs5Wdna2rNaCJ+1cXFxkszGdNOBsalapoK9HdND9H61XdGKa7p65Vh8PbaPGNfzMjlao48nnteVIkrYePautsUnaEZesrBybXK0WfTeqg5qGVDI7IgAAMIGpRcseR48e1ZkzZ3T06FHl5uYqKipKklS7dm1VrJj3W+/69etr0qRJuv322+Xr66uuXbvq6aeflpeXl8LCwrRixQp9/PHHeuONN0x8JQAuJ9DPU1+NaK/BszZoR1yy7n1/nWY92Fqtw/3NjiZJysjO1Y645LxSdTRJW48mKeESY8rcXCzKzjX0/Pyd+v7RjnKxWkxICwAAzGTqpYP2GDJkiObOnXvR/cuWLVO3bt0kSRaLRbNnz9aQIUMkSQkJCRo/frwWL16sM2fOKCwsTA8//LCefPJJWSxF+4cPlw4CJS81I1sPzd2kDTFn5Olm1cxBrdS1btUSzWAYho6eSb9QqPLOVu2OT1GOreBfmS5WixoE+ahFaGW1qFlJLWpWlreHi3q8vkIpGTma0KehHuwYUaLZAQBA8bCnG5SaomUWihZgjvNZuXpk3mYt33dSbi4WTRvQQjc1CSq250vLzNH22CRtjU3KP2N1+tzF081X9fHQdRcKVYvQSmoS4qcK7hdfHDBv/RE9P3+nKnq4asnYrgr087xoGwAAULpQtByIogWYJyvHpie/jNJPO47LapGm3NlU/Vtd+5ILNpuhQ6fStOXC5X9bj57V/hOp+sfJKrm7WNWohu/fzlZVUo1KXkU6I26zGbprxhptOZqkmxoH6r37W15zbgAAYK5SMxkGABTG3dWqafe2UEUPV325KVZPf7NdaZk5dl+Kl5SepajYvFK15ehZRcUmKTUj56LtalTyyr/877qaldQw2Fceri5Xld1qtejlO5ro1mmr9cvOBP2+54RuaFD9qo4FAABKH4oWAKfmYrVo8p1NVNHTVR+tjtGLP+5WakaOHru+9iXPLOXk2rT/RJq2/DlhRexZHTp57qLtPN2sahqSd5bquguXAVbzdezlffUDffVQ5wjNXHFI/1mwS+1rVbnkZYYAAKDs4Sc+AKdnsVj071sayNfTTW8u2a83ftuv1IxsPXdzA51Ky8qfrGLr0bPafixZ6Vm5Fx0jIsA7/2xVi9BKqhfoIzeX4l+zfcwNdbRw23HFJZ3XW0sOaPzNDYr9OQEAgPkYo3UFjNECnMus1TH6v4W7JUkBFd11Ku3iCSt8PFzVvGYltQjNK1bNQyupsrd7SUfNt3TvCQ2ds0kuVosWPtZJDYL4uwQAgNKIMVoAyqyhnSJU0cNVz363XafSsmSxSHWr+eRPVtGiZmXVqlrRqdauur5+dd3UOFC/7EzQc/N36NuRHWR1onwAAMDxKFoASp27W4eqYbCvktKz1TTUT76ebmZHuqIJfRpp1YFT2no0SZ9vPKr72oaZHQkAABSj4h+gAADFoHENP3WqE1AqSpYkBfp5alzPupKkKb/sVWJqhsmJAABAcaJoAUAJeaB9uJrU8FNKRo7+t3CP2XEAAEAxomgBQAlxsVr08u1NZLVIP2yL18r9J82OBAAAiglFCwBKUJMQPw3uEC5JemHBTmVkXzwVPQAAKP0oWgBQwsb1rKdAX08dOZ2ud5ZFmx0HAAAUA4oWAJSwih6umti3oSRpxoqDik5MNTkRAABwNIoWAJigV6NA3VC/mrJzDT03f6dYOx4AgLKFogUAJrBYLHqxXyN5ubloQ8wZfb35mNmRAACAA1G0AMAkIZUr6IkedSRJk37eozPnskxOBAAAHIWiBQAmGtopQvUDfXQ2PVsv/8zaWgAAlBUULQAwkZuLVS/d3kQWi/TN5mNad+i02ZEAAIADULQAwGQtwyprYJuakqTn5+9QZg5rawEAUNpRtADACTzTu74CKnro4Mlzen/FIbPjAACAa0TRAgAn4OflphdubSBJmr4sWodPnTM5EQAAuBYULQBwEn2bBatznQBl5dj07+9ZWwsAgNKMogUATsJisei//RrL3dWq1dGn9MO2eLMjAQCAq0TRAgAnEh7grce615Yk/XfhbiWnZ5ucCAAAXA2KFgA4mYe7RqpWVW+dSsvSlF/3mh0HAABcBYoWADgZD1cXvXx7E0nSZ+uPavORsyYnAgAA9qJoAYATahtZRf1bhkjKW1srO9dmciIAAGAPihYAOKnxNzdQ5Qpu2puQqlmrY8yOAwAA7EDRAgAn5e/truduzltb680l+xV7Jt3kRAAAoKgoWgDgxO5qGaK2Ef7KyLZpwg+7WFsLAIBS4qqK1ieffKKOHTsqODhYR44ckSRNnTpVCxYscGg4ACjvLBaLXrq9idxcLFq6N1GLdiaYHQkAABSB3UXrvffe09ixY3XzzTcrKSlJubm5kqRKlSpp6tSpjs4HAOVe7WoVNbJrLUnSxB93KTWDtbUAAHB2dhet6dOn64MPPtDzzz8vFxeX/PtbtWqlHTt2ODQcACDPo91rK7xKBZ1IydTri/ebHQcAAFyB3UUrJiZGLVq0uOh+Dw8PnTt3ziGhAAAFebq56H+35a2t9fHaw9pxLNnkRAAAoDB2F62IiAhFRUVddP8vv/yihg0bOiITAOASOtUJUL/mwbIZ0vj525XD2loAADgtV3t3ePrpp/Xoo48qIyNDhmFow4YN+vzzzzVp0iR9+OGHxZERAHDBv29pqGV7E7UzLkUfrz2ioZ0izI4EAAAuwe6i9eCDDyonJ0fPPPOM0tPTNXDgQNWoUUNvvfWWBgwYUBwZAQAXVPXx0L9uqq/n5+/U64v36aYmgQry8zI7FgAA+Ae7Lh3MycnR3Llz1adPHx05ckSJiYlKSEhQbGysHnrooeLKCAD4m3tb19R1NSvpXFauXvxht9lxAADAJdhVtFxdXfXII48oMzNTkhQQEKBq1aoVSzAAwKVZrXlra7lYLVq0K0G/7zlhdiSYKDE1Q/9ZsFMbD58xOwoA4G/sngyjbdu22rp1a3FkAQAUUYMgXw27MD7rPwt2KT0rx+REMENSepYGfbhBH689onFfbWOCFABwInaP0Ro1apTGjRunY8eOqWXLlvL29i7weNOmTR0WDgBweWN61NHC7ccVl3Reby05oPE3NzA7EkpQWmaOBs/aoH0nUiVJR8+k65edCerTLNjkZAAASbIYhmHYs4PVevFJMIvFIsMwZLFYlJub67BwziAlJUV+fn5KTk6Wr6+v2XEAoICle09o6JxNcrFatPCxTmoQxN9T5UFGdq4Gz9qg9TFnVLmCm7rXr6bvtsSpcQ1f/Ti6kywWi9kRAaBMsqcb2H1GKyYm5qqDAQAc6/r61XVT40D9sjNBz83foW9HdpDVyj+yy7KsHJtGzdui9TFnVNHDVR8PbauQyl76ZUeCdsal6I/o0+pUJ8DsmABQ7tldtMLCwoojBwDgKk3o00irDpzS1qNJ+mzDUd3fjr+ny6pcm6Env4rS0r2J8nSzataQ1moS4idJuqd1qOasOayZKw9StADACdg9GYYkHTx4UI899ph69OihG2+8UY8//rgOHjzo6GwAgCII9PPUuJ51JUlTFu1VYmqGyYlQHAzD0HPf7dBP24/LzcWiGfe3VJsI//zHH+oUIRerRasOnNLOuGQTkwIApKsoWr/++qsaNmyoDRs2qGnTpmrcuLHWr1+vRo0a6bfffiuOjACAK3igfbia1PBTakaO/rdwj9lx4GCGYeh/P+3Rl5tiZbVI0wa0ULd6BZdXCfWvoD5NgyRJM1bwy08AMJvdk2G0aNFCvXr10uTJkwvc/+yzz2rx4sXasmWLQwOajckwAJQWO44lq987q2UzpI+HtlGXulXNjgQHmbpkv6YuOSBJevWupurfKvSS2+05nqKb3lolq0Va/lR31axSoSRjAkCZZ083sPuM1p49e/TQQw9ddP/QoUO1e/duew8HAHCQJiF+eqB9uCTphQU7lZFdtmaBLa8+XHUov2RN7NPwsiVLyltfrWvdqrIZ0gerDpVURADAJdhdtKpWraqoqKiL7o+KilK1atUu3gEAUGLG9ayrQF9PHTmdrneWRZsdB9foiw1H9b+f8i4FfapnXQ3pGHHFfUZ2rSVJ+mpTrE6nZRZrPgDA5dldtIYPH66HH35YU6ZM0apVq7R69WpNnjxZI0aM0MMPP1wcGQEAReTj6aaJfRtKyhunE52YanIiXK0ft8Vr/PwdkqQRXSL1aPfaRdqvXaS/moX4KTPHprlrDhdjQgBAYeweo2UYhqZOnarXX39d8fHxkqTg4GA9/fTTevzxx8vcIomM0QJQ2hiGoWFzN+n3vYlqE+GvLx9uV+b+bi7rlu49oYc/3qwcm6H72tbU/25rbNd7+MuO43pk3hb5eblpzbPXy9vD7tVcAACXUKxjtCwWi5588kkdO3ZMycnJSk5O1rFjxzRmzJhi+0F++PBhPfTQQ4qIiJCXl5dq1aqlCRMmKCsrq9D9DMPQxIkTFRwcLC8vL3Xr1k27du0qlowA4CwsFote7NdIXm4u2hBzRl9vPmZ2JNhhzcFTGvnpFuXYDPVrHqz/9rOvZElSz0aBigjwVvL5bH25MbaYkgIACmN30YqJidGBA3mDcn18fOTj4yNJOnDggA4fPuzQcH/au3evbDabZs6cqV27dunNN9/UjBkz9NxzzxW63yuvvKI33nhDb7/9tjZu3KjAwEDdeOONSk3lUhoAZVtI5Qp6okcdSdKkn/fozLnCfzEF57D16FkNn7tJWTk29WhQXa/1byar1f5fYrpYLRreOVKS9NHqGGXn2hwdFQBwBXYXrSFDhmjNmjUX3b9+/XoNGTLEEZku0rt3b82ePVs9e/ZUZGSk+vbtq6eeekrffffdZff58xLH559/XnfccYcaN26suXPnKj09XZ999lmx5AQAZzK0U4TqB/robHq2Xv6ZtbWc3d6EFA2ZvVHnsnLVsXYVvT2whdxc7P4xne+O62oooKKH4pLOa+H2eAcmBQAUhd1/g2/dulUdO3a86P527dpdcjbC4pKcnCx/f//LPh4TE6OEhAT17Nkz/z4PDw917dr1kkXxT5mZmUpJSSlwA4DSyM3FqpdubyKLRfpm8zGtO3Ta7Ei4jJhT53T/hxuUfD5bLWpW0vuDWsnTzeWajunp5qIHO4ZLkmauOCQ7h2QDAK7RVY3RutSld8nJycrNLZk1Ww4ePKjp06dr5MiRl90mISFBklS9evUC91evXj3/sUuZNGmS/Pz88m+hoZdfrwQAnF3LsMq6t01NSdLz83coM4e1tZxNfNJ53f/hep1Ky1SDIF/NGdLGYZNX3N82TN7uLtqbkKrl+0865JgAgKKxu2h17txZkyZNKlCqcnNzNWnSJHXq1MmuY02cOFEWi6XQ26ZNmwrsEx8fr969e6t///4aNmzYFZ/jnwOIDcModFDx+PHj8yf5SE5OVmwsg4gBlG7/6lVfARU9dPDkOc1cwSK2zuRkaqbu/3C94pLOKzLAWx8PbSO/Cm4OO75fBTcNbJtXtGeuOOiw4wIArszuX5m98sor6tKli+rVq6fOnTtLklatWqWUlBQtXbrUrmONHj1aAwYMKHSb8PDw/P+Pj49X9+7d1b59e73//vuF7hcYGCgp78xWUFBQ/v2JiYkXneX6Ow8PD3l4eBQhPQCUDn4V3PTCrQ005osovb0sWn2aBSsiwNvsWOVecnq2Bn20XodOnVONSl76dFhbVfVx/M+foZ0iNGfNYa07dEZRsUlqHlrJ4c8BALiY3We0GjZsqO3bt+vuu+9WYmKiUlNT9cADD2jv3r1q3LixXccKCAhQ/fr1C715enpKkuLi4tStWzddd911mj17tqzWwqNHREQoMDBQv/32W/59WVlZWrFihTp06GDvywaAUq1vs2B1rhOgrBybnp+/Q7Fn0hmzY6JzmTkaMmeD9iakKqCihz4d1lbBlbyK5bmC/LzUr3kNSZzVAoCSZPeCxWaIj49X165dVbNmTX388cdycflrgPCfZ64kqX79+po0aZJuv/12SdKUKVM0adIkzZ49W3Xq1NHLL7+s5cuXa9++ffnT0l8JCxYDKCsOnzqnnlNXKisnb6pvPy83Na7hq8bBfmpUw0+Ng30VXsX7qqYTR9FlZOdq6JyNWnPwtPy83PTliHaqH1i8P18OnEjVjW+ulMUi/T62qyKrVizW5wOAssqeblDkSwfPnDmj9PR0hYSE5N+3a9cuvfbaazp37pxuu+02DRw48OpTF2Lx4sWKjo5WdHR0geeXVOA3svv27VNycnL+188884zOnz+vUaNG6ezZs2rbtq0WL15c5JIFAGVJeIC3pg1ooelLD2j/iVQln8/WH9Gn9Uf0X7MReru7qFGwnxpdKGCNa/ipVlVvuV7DNOP4S3auTaM/26o1B0/L291Fc4e2KfaSJUl1qvuoR4NqWrInUR+sitGkO5oU+3MCQHlX5DNa9957r4KCgvTGG29IyhvrVL9+fQUHB6tWrVr65Zdf9NFHH2nQoEHFGrikcUYLQFmUlWPT/hOp2hWfrJ1xKdoZn6w9x1OUkX3xwrYerlY1CPLNP/vVuIaf6lSvKA/Xa5t+vLyx2Qw9+VWUFkTFy8PVqjkPtlH7WlVK7Pk3HT6ju2aslburVav/1V3VfDxL7LkBoKwoljNa69at0+zZs/O//vjjj+Xv76+oqCi5urrqtdde0zvvvFPmihYAlEXurlY1rpFXmu5pnXdfTq5Nh06d0864v8rX7vgUpWXmKCo2SVGxSfn7u7lYVLe6z4Xi5atGNfzUINBXXu6Ur0sxDEP/XrBTC6Li5Wq16L37ryvRkiVJrcL91TKssjYfOavZfxzWv3rXL9HnB4DypshntLy8vLR3716FhYVJkm6++WY1atRIr776qiRp//79at++vU6fLlsLYnJGC0B5ZrMZOnImPa98xSdr14UClpSefdG2VotUu1rFAmO+Ggb7ysfTcdOVl0aGYWjyL3s1c+UhWSzStAEt1KdZsClZftt9QsM/3iQfT1etefb6cv/eAIC9iuWMlq+vr5KSkvKL1oYNG/TQQw/lP26xWJSZmXmVkQEAzshqtSgiwFsRAd755cAwDMUlndfOuJQLlx4ma0dcik6lZWr/iTTtP5Gm77bG5R8jIsBbjYJ9886gBfupUbCvKnu7m/WSStw7y6I1c2Xe+mWTbm9iWsmSpBvqV1PtahUVnZimzzcc1cNdapmWBQDKuiIXrTZt2mjatGn64IMP9N133yk1NVXXX399/uP79+9XaGhosYQEADgPi8WikMoVFFK5gno3/mvm18SUDO38c8xXXLJ2xacoLum8Yk6dU8ypc1q4/Xj+tjUqef1Vvi6M/armW/bGDM3+I0avLd4vSfr3LQ00oE1NU/NYrRY93CVSz3yzXR+tjtGQDhFyd2WiEwAoDkW+dDAqKko9evRQamqqcnJy9Nxzz+m///1v/uODBg2St7e3ZsyYUWxhzcClgwBw9c6cyyow4cauuGQdPp1+yW2r+nioaQ0/9WxUXb0bBcmvQum+rO2rTbF65pvtkqQxN9TRkzfWNTlRnsycXHV5ZZlOpGTqlbua6u5W/JIUAIrKnm5g1zpaJ0+e1Jo1axQYGKi2bdsWeOynn35Sw4YNFRERcXWpnRRFCwAcKyUjW7vj/zrrtTMuWQdPpsn2t59Gbi4Wda1bVX2aBatHg+ry9ijyBRhO4ecdxzX6sy2yGdJDnSL071sayGJxnvXJ3l95UC//vFe1q1XU4ie6sHYaABRRsRWt8oiiBQDFLz0rR3uOp2rtwVNauP249iak5j/m6WbVDQ2qq0/TYHWrV1Webs49s+HyfYka/vEmZecauqdVqCbf2cSpSpYkpWZkq8PkpUrNyNEHD7TSjQ2rmx0JAEoFipYDUbQAoOTtP5GqH7fF64dt8Tryt0sNfTxc1bNRoPo0C1LH2gFyc7KFlNcfOq3BszcoI9umW5oGadqAFnJx0rNFUxbt1XvLD6pVWGV980gHs+MAQKlA0XIgihYAmMcwDO2IS9aP2+K1cPtxHU/OyH/M39tdNzUOVN9mwWod7m/65W/bjyVp4AfrlZaZo+71qmrmoFZOPdFEYkqGOk1Zpqxcm74Z2V6twv3NjgQATo+i5UAULQBwDjaboU1HzurHbfH6ecdxnT6Xlf9YoK+nbm0apD7NgtU0xK/EL9XbfyJV98xcq7Pp2Wob4a+5Q9s4/SWOkjT+u+36fEOsejSorg8HtzI7DgA4PYqWA1G0AMD55OTatObgaf2wLV6/7kxQamZO/mNhVSqoT9Ng9WkWrHqBPsWe5ejpdN01Y40SUzPVLMRP84a3U8VSMnnHoZNpuuGNFTIM6bcnu6hO9eL/fgFAaVbsRevgwYOaPXu2Dh48qLfeekvVqlXTokWLFBoaqkaNGl11cGdE0QIA55aRnauV+0/qh23xWrLnhDKybfmP1avuoz7N8s50hVXxdvhzJyRn6K4Za3Ts7HnVq+6jLx5uV+oWYx75yWYt2pWg/i1D9Gr/ZmbHAQCnVqxFa8WKFbrpppvUsWNHrVy5Unv27FFkZKReeeUVbdiwQd988801hXc2FC0AKD3OZeZoyZ4T+nHbca3Yn6js3L9+xDUL8VOfZsG6tWmwAv2ufXHk02mZunvmWh08eU5hVSro6xHtS+Wiy1uPntXt766Rm4tFK5/priA/L7MjAYDTKtai1b59e/Xv319jx46Vj4+Ptm3bpsjISG3cuFG33Xab4uLirim8s6FoAUDplJyerV93JejH7fH6I/pU/jpdFovUOtxffZoF6+bGgapS0cP+Y5/P1sAP1mlXfIqC/Dz11Yj2CvWv4OBXUHLumblW62PO6OEukXru5gZmxwEAp1WsRatixYrasWOHIiIiChStw4cPq379+srIyLjyQUoRihYAlH4nUzP1y87j+nFbvDYePpt/v4vVoo61A9S3WbB6NqouX0+3Kx4rPStHD3y0QZuOnFUVb3d9NbK9alWtWJzxi92yfYl6cPZGVfRw1R/PXi8/ryt/HwCgPLKnG9g9WrdSpUo6fvy4IiIiCty/detW1ahRw97DAQBQ7Kr6eOiB9uF6oH244pLO66fteWt07YxL0cr9J7Vy/0m5z7eqe72q6tMsWDfUry4v94tnDczMydWITzZr05Gz8vF01ccPtSn1JUuSutWtqvqBPtqbkKp5649oVLfaZkcCgFLP7gU+Bg4cqH/9619KSEiQxWKRzWbTH3/8oaeeekoPPPBAcWQEAMBhalTy0sNdamnhY521dFxXjb2xrmpXq6isHJt+3XVCoz/bqpb/+01jvtiqJbtPKCsnb3KNnFybHv98q1YdOKUK7i6a82AbNQr2M/nVOIbFYtGIrpGSpFmrDysjO9fkRABQ+tl96WB2draGDBmiL774QoZhyNXVVbm5uRo4cKDmzJkjFxfnXzfEHlw6CABln2EY2puQqh+2xevHbfE6dvZ8/mO+nq66qXGQUjOz9fOOBLm7WDVrSGt1qhNgYmLHy861qduryxWXdF4v395EA9vWNDsSADidEllH69ChQ9qyZYtsNptatGihOnXqXFVYZ0fRAoDyxTAMbY1N0o/b4vXT9uNKTM3Mf8zFatF7912nno0CTUxYfGatjtH/LdytiABvLRnbVS7Wkl34GQCcHQsWOxBFCwDKr1ybofUxp/XjtuPadPiMxvSoo1ubBpsdq9icy8xRh8lLlXw+W+/dd51uahJkdiQAcCr2dAO7x2jdddddmjx58kX3v/rqq+rfv7+9hwMAwGm5WC3qUCtAk+5oot/Gdi3TJUuSvD1cNbh9mCRpxoqD4nexAHD17C5aK1as0C233HLR/b1799bKlSsdEgoAAJjjgQ7h8nC1atuxZK07dMbsOABQatldtNLS0uTu7n7R/W5ubkpJSXFIKAAAYI6Aih66u1WoJGnmyoMmpwGA0svuotW4cWN9+eWXF93/xRdfqGHDhg4JBQAAzDO8c6SsFmn5vpPac5xfogLA1bB7weIXXnhBd955pw4ePKjrr79ekvT777/r888/19dff+3wgAAAoGTVrFJBNzcJ0sLtx/X+ykN6857mZkcCgFLH7jNaffv21ffff6/o6GiNGjVK48aN07Fjx7RkyRLddtttxRARAACUtJFda0mSftgWr2Nn001OAwClD9O7XwHTuwMAyqv7P1yv1dGn9GDHcE3o08jsOABgumKd3v1PWVlZOnbsmI4ePVrgBgAAyoY/z2p9sSFWZ89lmZwGAEoXu4vWgQMH1LlzZ3l5eSksLEwRERGKiIhQeHi4IiIiiiMjAAAwQcfaVdQo2Ffns3P1ybojZscBgFLF7skwhgwZIldXVy1cuFBBQUGyWCzFkQsAAJjMYrFoZNdaeuzzrZqz5rCGd46Ul7uL2bEAoFSwu2hFRUVp8+bNql+/fnHkAQAATuSmxoEK9fdS7Jnz+mZzrAa1Dzc7EgCUCnZfOtiwYUOdOnWqOLIAAAAn4+pi1cOdIyVJ7686pJxcm8mJAKB0sLtoTZkyRc8884yWL1+u06dPKyUlpcANAACULXe1DJW/t7tiz5zXLzsTzI4DAKWC3dO7W6153eyfY7MMw5DFYlFubq7j0jkBpncHAECa9vsBvfHbfjUK9tXCxzoxRhtAuWRPN7B7jNayZcuuOhgAACidBrUL03vLD2pXfIpWR59S5zpVzY4EAE7N7qLVtWvX4sgBAACcWGVvdw1oE6rZfxzWzBWHKFoAcAVXtWDxqlWrdP/996tDhw6Ki4uTJH3yySdavXq1Q8MBAADn8VCnCLlYLVodfUo7jiWbHQcAnJrdRevbb79Vr1695OXlpS1btigzM1OSlJqaqpdfftnhAQEAgHMIqVxBfZsFS5JmrjxochoAcG52F63//e9/mjFjhj744AO5ubnl39+hQwdt2bLFoeEAAIBzebhL3lTvP+84riOnz5mcBgCcl91Fa9++ferSpctF9/v6+iopKckRmQAAgJNqEOSrbvWqymZIH66KMTsOADgtu4tWUFCQoqOjL7p/9erVioyMdEgoAADgvEZ0qSVJ+mpTrE6lZZqcBgCck91Fa8SIERozZozWr18vi8Wi+Ph4zZs3T0899ZRGjRpVHBkBAIATaRfpr2ahlZSZY9PHaw6bHQcAnJLdReuZZ57Rbbfdpu7duystLU1dunTRsGHDNGLECI0ePbo4MgIAACdisVj0SNe8q1jmrj2ic5k5JicCAOdjMQzDKOrGubm5Wr16tZo0aSJPT0/t3r1bNptNDRs2VMWKFYszp2nsWf0ZAIDyItdmqMcbKxRz6pz+c2tDDe0UYXYkACh29nQDu85oubi4qFevXkpOTlaFChXUqlUrtWnTpsyWLAAAcGkuVkv+DIQfrY5Rdq7N5EQA4FzsvnSwSZMmOnToUHFkAQAApcjtLWoooKKH4pLOa+H2eLPjAIBTsbtovfTSS3rqqae0cOFCHT9+XCkpKQVuAACgfPB0c9HQTuGSpJkrDsmO0QgAUObZNUZLkqzWv7qZxWLJ/3/DMGSxWJSbm+u4dE6AMVoAAFxe8vlsdZy8VGmZOZr9YGt1r1fN7EgAUGzs6Qau9h582bJlVx0MAACULX5ebhrYtqbeX3lIM5YfpGgBwAV2F62uXbsWRw4AAFBKDe0Yodl/xGh9zBltPXpWLWpWNjsSAJjO7jFakrRq1Srdf//96tChg+Li4iRJn3zyiVavXu3QcH86fPiwHnroIUVERMjLy0u1atXShAkTlJWVddl9srOz9a9//UtNmjSRt7e3goOD9cADDyg+nsG6AAA4UqCfp25rXkNS3lgtZ5aaka1fdyXo+fk7dP3ry/XoZ1sYWwagWNh9Ruvbb7/VoEGDdN9992nLli3KzMyUJKWmpurll1/Wzz//7PCQe/fulc1m08yZM1W7dm3t3LlTw4cP17lz5/Taa69dcp/09HRt2bJFL7zwgpo1a6azZ8/qiSeeUN++fbVp0yaHZwQAoDwb0TVSX28+pl93J+jgyTTVquocS7/k2gztjEvWyv0ntfLASW05mqRc21/F6tDJcxrcPlxtIvxNTAmgLLJ7MowWLVroySef1AMPPCAfHx9t27ZNkZGRioqKUu/evZWQkFBcWQt49dVX9d5779k11fzGjRvVpk0bHTlyRDVr1izSPkyGAQBA0Qybu0lL9pzQvW1CNemOpqblSEjO0MoDJ7Vy/0n9EX1KZ9OzCzweGeCtznUCdPh0ulbsP6nbmgdr6oAWJqUFUJoU62QY+/btU5cuXS6639fXV0lJSfYe7qolJyfL39++3z4lJyfLYrGoUqVKl90mMzMz/yydJKasBwCgiEZ2jdSSPSf07eY4Pdmjrqr5epbI82Zk52pDzJn8s1b7T6QVeNzH01UdawWoc90AdalTVaH+FSRJ22KTtGL/Sf28M0ETzmWpsrd7ieQFUD7YXbSCgoIUHR2t8PDwAvevXr1akZGRjspVqIMHD2r69Ol6/fXXi7xPRkaGnn32WQ0cOLDQ9jlp0iS9+OKLjogJAEC50ircX63CKmvTkbOaveaw/tW7frE8j2EY2n8iTasOnNSK/Se1IeaMMnNs+Y9bLFKzkErqUidAXepWVfPQSnJ1uXhYetMQPzUK9tWu+BR9u+WYhnUumX/HACgf7L508JVXXtHcuXM1a9Ys3Xjjjfr555915MgRPfnkk/rPf/6j0aNHF/lYEydOvGKp2bhxo1q1apX/dXx8vLp27aquXbvqww8/LNLzZGdnq3///jp69KiWL19eaNG61Bmt0NBQLh0EAKAIftt9QsM/3iQfT1etefZ6+Xi6OeS4Z89laVX0Ka3cf1KrDpzUiZTMAo8H+XmqS52q6lw3QJ1qB6hShaKdnZq3/oien79TkVW99fvYrgXWCAWAf7Ln0kG7i5YkPf/883rzzTeVkZEhSfLw8NBTTz2l//73v3Yd59SpUzp16lSh24SHh8vTM+/Sg/j4eHXv3l1t27bVnDlzCiyefDnZ2dm6++67dejQIS1dulRVqlSxKyNjtAAAKDqbzVCvqSt1IDFNz91cXw93qXVVx8nOtWnr0aT8YrU9Lll//xeLp5tVbSOqqHOdAHWtW1W1q1W8qpKUlpmjti8t0bmsXH0+vJ3a17Lv3wkAypdiL1pS3qx+u3fvls1mU8OGDVWxYvHOLhQXF6fu3burZcuW+vTTT+Xi4nLFff4sWQcOHNCyZctUtWpVu5+XogUAgH2+3hSrp7/Zruq+Hlr5THd5uF75Z7YkHT2drhUXJrFYe/C00jJzCjxeP9BHXepWVec6AWod7i9Pt6Id90rGf7dDn284qj7NgjX9XibFAHB5xToZxp8qVKhQ4JK+4hQfH69u3bqpZs2aeu2113Ty5Mn8xwIDA/P/v379+po0aZJuv/125eTk6K677tKWLVu0cOFC5ebm5s+I6O/vL3d3BrwCAFAc+jWvodcX71dCSoYWRMXr7lahl9wuLTNHaw+ezp/E4sjp9AKP+3u7q1PtgPxyVb2YJte4r21Nfb7hqBbtPK7TaQ1VpaJHsTwPgPLF7qJ17tw5TZ48Wb///rsSExNls9kKPG7PdOtFtXjxYkVHRys6OlohISEFHvv7Cbl9+/YpOTlZknTs2DH98MMPkqTmzZsX2GfZsmXq1q2bw3MCAADJ3dWqhzpF6KWf92jmioO667oQWa0W2WyGdsWnaOWFSSy2HDmrnL+taeVqtei6sMrqWrequtSpqkbBvrJai3/MVOMafmoa4qftx5L1zeZjGtH16i53BIC/s/vSwXvvvVcrVqzQoEGDFBQUdNH10GPGjHFoQLNx6SAAAPZLzchWh8lLlZqRo4e7RCohOUOro0/pzLmsAtuFVamgLnWqqkvdqmoX6e+wyTPs9cWGo3r2ux0Kr1JBS8d1K5GCB6D0KdYxWpUqVdJPP/2kjh07XlPI0oKiBQDA1Xll0V69u/xggfsqeriqfa0q6lK3qrrUCVBYFW+T0hV0LjNHbV/+XWmZOZo3rK061g4wOxIAJ1SsY7QqV65s90LBAACg/HmoU4RWHTgli0X5Z61a1Kwkt0usaWU2bw9X3dYiWJ+uO6rP1h+laAG4Znaf0fr000+1YMECzZ07VxUqVCiuXE6DM1oAAJQPu+NTdPO0VXK1WrR2/A2q6sOkGAAKcvgZrRYtWhQYixUdHa3q1asrPDxcbm4Fr6XesmXLVUQGAAAwV8NgXzUPraSo2CR9vTlWo7rVNjsSgFKsSEXrtttuK+YYAAAA5hvYtqaiYpP0xYZYjexSi0kxAFy1q16wuLzg0kEAAMqP81m5avPyEqVm5OjjoW3UpW5VsyMBcCL2dIOrHo26efNmffrpp5o3b562bt16tYcBAABwGl7uLrrzurw1Oz9bf9TkNABKM7tnHUxMTNSAAQO0fPlyVapUSYZhKDk5Wd27d9cXX3yhqlX5zQ8AACi9BratqTlrDuu3PSeUmJKhar6eZkcCUArZfUbrscceU0pKinbt2qUzZ87o7Nmz2rlzp1JSUvT4448XR0YAAIASU7e6j1qFVVauzdBXm2LNjgOglLK7aC1atEjvvfeeGjRokH9fw4YN9c477+iXX35xaDgAAAAzDGxbU5L0+YZY5doYzg7AfnYXLZvNdtGU7pLk5uYmm83mkFAAAABmurlJkPy83BSXdF4rD5w0Ow6AUsjuonX99ddrzJgxio+Pz78vLi5OTz75pG644QaHhgMAADCDpxuTYgC4NnYXrbffflupqakKDw9XrVq1VLt2bUVERCg1NVXTp08vjowAAAAlbmDbUEnS0r2JOp583uQ0AEobu2cdDA0N1ZYtW/Tbb79p7969MgxDDRs2VI8ePYojHwAAgClqV/NRmwh/bYg5oy83xuqJHnXNjgSgFGHB4itgwWIAAMqvBVFxGvNFlIL8PLXqme5ydbnqJUgBlAHFsmDx0qVL1bBhQ6WkpFz0WHJysho1aqRVq1bZnxYAAMBJ9W4cqMoV3HQ8OUPL9zEpBoCiK3LRmjp1qoYPH37J5ubn56cRI0bojTfecGg4AAAAM3m4uuiulhcmxdjApBgAiq7IRWvbtm3q3bv3ZR/v2bOnNm/e7JBQAAAAzuLeNnlrai3fl6i4JCbFAFA0RS5aJ06cuOT6WX9ydXXVyZOcUgcAAGVLZNWKah9ZRTZD+pKzWgCKqMhFq0aNGtqxY8dlH9++fbuCgoIcEgoAAMCZDGybd1bry02xysm1mZwGQGlQ5KJ188036z//+Y8yMjIueuz8+fOaMGGCbr31VoeGAwAAcAa9GgWqire7TqRk6ve9iWbHAVAKFHl69xMnTui6666Ti4uLRo8erXr16slisWjPnj165513lJubqy1btqh69erFnblEMb07AACQpEm/7NHMFYfUtW5VzR3axuw4AExgTzco8oLF1atX15o1a/TII49o/Pjx+rOfWSwW9erVS++++26ZK1kAAAB/urd1Tc1ccUgrD5xU7Jl0hfpXMDsSACdW5KIlSWFhYfr555919uxZRUdHyzAM1alTR5UrVy6ufAAAAE4hPMBbnWoHaHX0KX2x8aie7lXf7EgAnNhVLW9euXJltW7dWm3atKFkAQCAcuPPSTG+2nRM2UyKAaAQV1W0AAAAyqMbG1ZXQEUPnUzN1JLdJ8yOA8CJUbQAAACKyM3FqrtbhUiSPmNNLQCFoGgBAADY4d42NWWxSKsOnNKR0+fMjgPASVG0AAAA7BDqX0Gd61SVJH2+IdbkNACcFUULAADATgPb5E2K8c3mWGXlMCkGgItRtAAAAOx0Q4NqqubjoVNpWVq8O8HsOACcEEULAADATm4uVt3TOlSS9Nl6JsUAcDGKFgAAwFW4p3WoLBZpzcHTijnFpBgACqJoAQAAXIWQyhXUre6fk2JwVgtAQRQtAACAqzSwbZgk6ZvNx5SZk2tyGgDOhKIFAABwlbrXq6pAX0+dOZelRTuZFAPAXyhaAAAAV8mVSTEAXAZFCwAA4BoMaBMqq0VaH3NG0YlpZscB4CQoWgAAANcgyM9L19evJolJMQD8haIFAABwjQa2rSlJ+nbLMWVkMykGAIoWAADANetat5pqVPJSUnq2ftl53Ow4AJwARQsAAOAauVgtTIoBoACKFgAAgAPc0zpULlaLNh4+q/0nUs2OA8BkFC0AAAAHqO7rqRsuTIrBWS0AFC0AAAAHua9dmCTpOybFAMo9ihYAAICDdK4doFB/L6Vk5GjhdibFAMozihYAAICDWK0WDWidN9X7Z+uPmJwGgJkoWgAAAA7Uv1WIXK0WbTmapL0JKWbHAWASihYAAIADVfPxVM9G1SUxKQZQnlG0AAAAHGxgm7xJMeZviVN6Vo7JaQCYgaIFAADgYB1qVVFYlQpKzczRwm1MigGUR6WiaB0+fFgPPfSQIiIi5OXlpVq1amnChAnKysoq8jFGjBghi8WiqVOnFl9QAAAA5U2KcW+bvEkx5m3g8kGgPCoVRWvv3r2y2WyaOXOmdu3apTfffFMzZszQc889V6T9v//+e61fv17BwcHFnBQAACDPXS1D5OZi0bbYJO2KTzY7DoASViqKVu/evTV79mz17NlTkZGR6tu3r5566il99913V9w3Li5Oo0eP1rx58+Tm5lYCaQEAAKSAih7q1ShQEpNiAOVRqShal5KcnCx/f/9Ct7HZbBo0aJCefvppNWrUqEjHzczMVEpKSoEbAADA1RjYNu/ywQVR8TqXyaQYQHlSKovWwYMHNX36dI0cObLQ7aZMmSJXV1c9/vjjRT72pEmT5Ofnl38LDQ291rgAAKCcah9ZRZEB3krLzNEP2+LNjgOgBJlatCZOnCiLxVLobdOmTQX2iY+PV+/evdW/f38NGzbsssfevHmz3nrrLc2ZM0cWi6XImcaPH6/k5OT8W2xs7FW/PgAAUL5ZLH9NisHlg0D5YjEMwzDryU+dOqVTp04Vuk14eLg8PT0l5ZWs7t27q23btpozZ46s1sv3xKlTp2rs2LEFtsnNzZXValVoaKgOHz5cpIwpKSny8/NTcnKyfH19i7QPAADAn86cy1K7l39XVq5NP47upCYhfmZHAnCV7OkGriWU6ZICAgIUEBBQpG3j4uLUvXt3tWzZUrNnzy60ZEnSoEGD1KNHjwL39erVS4MGDdKDDz541ZkBAADs4e/trpuaBGpBVLw+23BEk0Kamh0JQAkoFWO04uPj1a1bN4WGhuq1117TyZMnlZCQoISEhALb1a9fX/Pnz5ckValSRY0bNy5wc3NzU2BgoOrVq2fGywAAAOXUwDZ/TYqRmpFtchoAJcHUM1pFtXjxYkVHRys6OlohISEFHvv7lY/79u1TcjLrVAAAAOfSJsJftatVVHRimhZExev+dmFmRwJQzEwdo1UaMEYLAAA4wkerY/TfhbvVMMhXPz3eya7JugA4B3u6Qam4dBAAAKC0u/O6GnJ3tWr38RRtO8YVOMXhzLksLd17Qlk5NrOjABQtAACAklCpgrtubRIkSfps/RGT05QthmHo283HdMPryzV0zib1fmulVh04aXYslHMULQAAgBIysG3epBg/bjuuFCbFcIijp9P1wKwNGvf1Np1Nz5aL1aJDJ89p0EcbNGreZsUnnTc7IsopihYAAEAJaRlWWXWrV9T57Fx9vzXO7DilWk6uTe+vPKieU1do1YFT8nC16pne9bTx+R56sGO4XKwW/bwjQTe8vkLvLo/mckKUOIoWAABACbFYLPlTvc9bd1TMSXZ1dsYl67Z3/9DLP+9VRrZN7SOraNETXTSqW235e7trQp9GWvhYJ7UOr6zz2bl6ZdE+9Z66Uiv3czkhSg6zDl4Bsw4CAABHSj6frbYvL1FGtk3fPtJeLcP8zY5UapzPytXUJfv14eoY5doM+Xm56flbGqh/y5BLzuJoGIa+j4rTSz/t1am0TEnSTY0D9e9bG6pGJa+Sjo8ygFkHAQAAnJSfl5tubRosSZq3/qjJaUqP1QdOqdfUlZq58pBybYZubRqkJWO76u5WoZedKt9isej2FiFa+lRXDe0YIRerRb/sTFCP11fonWXRyszJLeFXgfKEM1pXwBktAADgaFuOntUd766Rh6tVG57rIb8KbmZHclpnz2Xpfz/t0bdbjkmSgvw89b/bGuuGBtXtPtbehBT95/td2nD4jCQpIsBbE/s2Ute6VR2aGWUXZ7QAAACcWIvQSqof6KPMHFt+gUBBhmFoQVSceryxQt9uOSaLRRrcPky/je16VSVLkuoH+urLEe009Z7mqurjoZhT5zR41gaN/GSz4pidEA5G0QIAAChhFotF912Y6v2zDUyK8U/HzqbrwTkbNeaLKJ0+l6W61Svqm5Ed9GK/xqro4XpNx7ZYLLqtRQ0tHddVD3XKu5xw0a4E3fD6ci4nhENRtAAAAEzQr0UNebm5KDoxTRsPnzU7jlPItRmatTpGPd9cqeX7TsrdxaqxN9bVwsc6q2VYZYc+l4+nm164taF+fryz2kT4KyPbpld/3afeU1dpBbMTwgEoWgAAACbw9XRT32Z5k2J8tv6IyWnMt+d4iu54b43+b+FupWflqnV4Zf08prMev6GO3F2L75+s9QJ99OXD7fTWAC4nhGMxGcYVMBkGAAAoLttik9TvnT/k7mrV+vE3qLK3u9mRSlxGdq6mLz2gmSsOKcdmyMfDVc/eXF/3tq4pq/XSswkWl9SMbL215IBmrzmsXJshTzerRnevreFdIuXh6lKiWeCcmAwDAACgFGga4qdGwb7KKqeTYqw7dFo3vbVK7yw7qBybod6NArVkXFfd1zasxEuWlHc54b8vXE7Y9sLlhK8t3q9eb67U8n2JJZ4HpRtFCwAAwCQWi0UDy+GkGMnp2Xr22+0a8P46xZw6p2o+Hppxf0vNGNRS1X09zY6neoE++uLC5YTVfDx0+HS6hszeqIc/3qTYM+lmx0MpQdECAAAwUb/mNeTt7qJDJ89p3aEzZscpVoZh6Ocdx9XjzRX6YmOsJGlg25r6bWxX9W4caHK6giwWi/o1r6Hfx3XVsAuzEy7efUI3vrlC038/oIxsZidE4ShaAAAAJqro4aq+zWtIyjurVVYdTz6v4R9v1qh5W3QyNVORVb311Yj2evn2JvLzct4Fm/+8nPCXMZ3VLjLvcsLXf9uv3lNXahmXE6IQFC0AAACT/bmm1qKdx3U6LdPkNI5lsxn6ZO1h3fjGSi3Zc0JuLhY9fn3t/GnVS4u61X30+fB2mnZvi/zLCR/kckIUgqIFAABgssY1/NQ0xE/ZuYa+2Vx2JsU4cCJV/Weu1QsLdiktM0ctalbSwsc6a2zPevJ0K32z+FksFvVtFqylT3XTw10i5XrhcsIeb3A5IS5G0QIAAHACA9vkndX6fMNR2Wyle1KMzJxcvfnbft08bZU2Hzkrb3cXvdi3kb4Z2UH1An3MjnfNKnq46rmbG+iXMZ3VPrKKMnPyLifsNXWllu3lckLkoWgBAAA4gT7NguXj4arDp9O19tBps+NctU2Hz+iWaav11u8HlJ1r6Ib61fTb2K4a3CFcLiZM2V6c6lT30WfD22ravS1U3ddDR06n68E5GzWcywkhihYAAIBT8PZw1W0tLkyKsb70TYqRkpGtf3+/Q3fNWKvoxDQFVHTX2wNb6MPBrRRcycvseMXmz8sJfx/31+WEv124nHAalxOWaxQtAAAAJ/Hnmlq/7krQydTSMynG4l0JuvGNFfp0XV5BvLtViJaM7apbmwbLYilbZ7Eu51KXE75x4XLCpXtPmB0PJqBoAQAAOIkGQb5qUbOScmyGvt4ca3acK0pMydAjn27Ww59s1omUTIVVqaDPhrXVK3c1U6UK7mbHM8WflxNO/9vlhEPnbNKwuVxOWN5YjPKyBPlVSklJkZ+fn5KTk+Xr62t2HAAAUMZ9vSlWT3+zXVW83dWpToA8XV3k4WaVp5uLPFz/+q/HP74uyn8dNUbKZjP05aZYvfzzHqVm5MjFatHDXSI15oY6pXI2weKSlpmj6b8f0EerY5RjM+ThatVbA5qrd+Mgs6PhKtnTDShaV0DRAgAAJel8Vq46TP5dZ9OzHX5sV6ulkMJmlYery0X/vai0uVn10/bjWh9zRpLUNMRPk+5ookbBfg7PW1ZEJ6bqhe93ae2h0/J2d9EPj3VSraoVzY5VamTn2uTm4hwX4lG0HIiiBQAAStr+E6laf+i0MnNsysyxKSM796//ZtuUkVP4fzP/9nV2bvH8U8/LzUXjetbVkA7hcnWSfwQ7s1ybofs+XKd1h86ofqCPvn+0I2f/iuBcZo7ufG+N7riuhoZ3jjR9zB9Fy4EoWgAAoDTLtRkFileB//69wF2q1OXYlPmPrzOyc1WpgptGdautUP8KZr+8UiUxJUM3T1ulU2lZurdNTU26o4nZkZyaYRga/dlW/bTjuKr7eujXJ7qYPvbPnm7gWkKZAAAAYAIXq0UV3F1VTuemcCrVfD019Z4WGjRrvT7fcFTtIv3Vr3kNs2M5rY9Wx+inHcfl5mLRu/e1NL1k2YvzvAAAAEAJ6VQnQI9dX0eSNP67HTp4Ms3kRM5p7cHTmvTLXknSC7c2VMuwyiYnsh9FCwAAAChBY26oo3aR/krPytWj87awqPE/HE8+r8c+36Jcm6E7WtTQoHZhZke6KhQtAAAAoAS5WC2aNqCFAip6aG9Cqib+sMvsSE4jMydXo+Zt0am0LDUI8tVLtzcxfQKMq0XRAgAAAEpYNV9PvTWguSwW6YuNsZq/9ZjZkZzCfxfu1tajSfLzctPM+1vKy730zsxI0QIAAABM0LF2gB6/MF7r+fk7FZ1YvsdrfbP5mD5dd1QWizR1QHPVrFK6Z7WkaAEAAAAmefyGOupQq0r+eK3zWeVzvNbOuGQ9P3+HpLwxbN3rVTM50bWjaAEAAAAmcbFaNHVAcwVU9NC+E+VzvFZSepYembdZmTk2XV+/Wv5ZvtKOogUAAACYqJqPp6YNaC6rRfpyU6y+21J+xmvl2gyN+SJKsWfOq6Z/Bb15d3NZraVz8ot/omgBAAAAJutQO0Bjbqgr6c/xWqkmJyoZby3ZrxX7T8rTzaqZg1rKr4Kb2ZEchqIFAAAAOIHR19dWx9pVdD47b4rzsj5ea8nuE5q2NFqSNOmOJmoQ5GtyIseiaAEAAABOwMVq0dR7Wqiqj4f2n0jTfxbsNDtSsTl86pye/CpKkjS4fZhubxFibqBiQNECAAAAnERVHw+9dWG81tebj+mbzWVvvFZ6Vo5GfrpZqRk5ahlWWc/f0tDsSMWCogUAAAA4kQ61AvREj7zxWi98v1MHTpSd8VqGYWj8dzu0NyFVVX089O5918ndtWxWkrL5qgAAAIBS7NHutdWpdkD+eK30rByzIznEnDWHtSAqXq5Wi94ZeJ2q+3qaHanYULQAAAAAJ/Pn+lrVfDx0IDFN/1lQ+tfX2nj4jF76aY8k6bmbG6hNhL/JiYoXRQsAAABwQgEVPTTt3hayWqRvNh/T15tizY501RJTMjRq3hbl2Az1aRasBzuGmx2p2FG0AAAAACfVLrKKxt54YbzWgp3aXwrHa2Xl2DRq3hadTM1Uveo+mnJnE1ksZWNR4sJQtAAAAAAnNqpbbXWuE6CMbFupHK/18s97tOnIWfl4uGrGoJaq4O5qdqQSQdECAAAAnJjVatGb9zRXdV8PRSem6YXvS894rQVRcZqz5rAk6c17misiwNvcQCWIogUAAAA4uYCKHpo2IG+81rdbjumrUjBea8/xFP3r2+2SpMeur60eDaubnKhkUbQAAACAUqBtZBWN61lPkvSfBTu1L8F5x2sln8/WyE83KyPbpi51q+avC1aelIqidfjwYT300EOKiIiQl5eXatWqpQkTJigrK+uK++7Zs0d9+/aVn5+ffHx81K5dOx09erQEUgMAAACO9UjXWupSt+qF8VqbdS7T+cZr2WyGxn4ZpSOn0xVS2Utv3dNcLtayP/nFP5WKorV3717ZbDbNnDlTu3bt0ptvvqkZM2boueeeK3S/gwcPqlOnTqpfv76WL1+ubdu26YUXXpCnZ9ldGA0AAABll9Vq0Zt3N1N1Xw8dPHlOL3y/U4ZhmB2rgOlLo/X73kR5uFo14/6WquztbnYkU1gMZ3tniujVV1/Ve++9p0OHDl12mwEDBsjNzU2ffPLJVT9PSkqK/Pz8lJycLF9f36s+DgAAAOAoG2LO6N4P1inXZuiVO5vq7tahZkeSJC3bl6ihczbKMKRX72qq/q2cI5ej2NMNSsUZrUtJTk6Wv//lV5O22Wz66aefVLduXfXq1UvVqlVT27Zt9f3335dcSAAAAKAYtInw17ief62vtTchxeRE0tHT6XriiygZhnRf25plrmTZq1QWrYMHD2r69OkaOXLkZbdJTExUWlqaJk+erN69e2vx4sW6/fbbdccdd2jFihWX3S8zM1MpKSkFbgAAAICzGdmllrrWrarMCwsCmzle63xWrkZ+ulnJ57PVPLSS/tOnoWlZnIWpRWvixImyWCyF3jZt2lRgn/j4ePXu3Vv9+/fXsGHDLntsm80mSerXr5+efPJJNW/eXM8++6xuvfVWzZgx47L7TZo0SX5+fvm30NDy3cQBAADgnP5cXyvQ11OHTp7Tv00ar2UYhp7/fod2H09RFW93vXf/dfJwdSnxHM7G1GWZR48erQEDBhS6TXh4eP7/x8fHq3v37mrfvr3ef//9QvcLCAiQq6urGjYs2KYbNGig1atXX3a/8ePHa+zYsflfp6SkULYAAADglPy93TV9YAsNeH+d5m+NU9sIfw1oU7NEM3y67oi+2xInq0WaPrCFgvy8SvT5nZWpRSsgIEABAQFF2jYuLk7du3dXy5YtNXv2bFmthZ+Mc3d3V+vWrbVv374C9+/fv19hYWGX3c/Dw0MeHh5FygQAAACYrXW4v57qWU9TFu3VhB92qVloJTUIKplJ3DYfOav/W7hbkvTsTfXVoVbR/m1fHpSKMVrx8fHq1q2bQkND9dprr+nkyZNKSEhQQkJCge3q16+v+fPn53/99NNP68svv9QHH3yg6Ohovf322/rxxx81atSokn4JAAAAQLEZ0SVS3evljdd6dN4WpZXAeK2TqZkaNW+zsnMN3dIkSMM7Rxb7c5YmpaJoLV68WNHR0Vq6dKlCQkIUFBSUf/u7ffv2KTk5Of/r22+/XTNmzNArr7yiJk2a6MMPP9S3336rTp06lfRLAAAAAIqN1WrR63c3V5Cfpw6dOqfn5+8o1vFaObk2jf5si06kZKp2tYqacldTWSzlb1HiwpTadbRKCutoAQAAoLTYdPiM7nk/b32tSXc00b3FNF7rfwt368PVMaro4arvH+2o2tUqFsvzOJtysY4WAAAAgIJahfvrmV71JEkTftil3fGOX6rox23x+nB1jCTptf5Ny03JshdFCwAAAChDhneO1PX1qykrJ+/yPkeO19p/IlX/+na7JGlk11rq3TjoCnuUXxQtAAAAoAyxWi16vX8zBV8Yr/Xcd44Zr5WSka0Rn2xWelauOtauoqd61nVA2rKLogUAAACUMZW93TV94HVytVr0w7Z4fb4h9pqOZ7MZGvfVNsWcOqdgP09NG9BCri5UicLw3QEAAADKoJZhlfVM77zxWhN/3KVd8clX2OPy3ltxUL/tPiF3F6veu7+lqlRk3dkroWgBAAAAZdSwTpG6IX+81lalZmTbfYxVB07q9cX7JEkv9mukZqGVHJyybKJoAQAAAGVU3vpazVSjkpdiTp3TeDvHax07m67HP98qmyHd0yq02KaLL4soWgAAAEAZVqmCu6bd20KuVosWbj+ueeuPFmm/jOxcPfLpFp1Nz1bTED+92K9RMSctWyhaAAAAQBnXMqyy/tW7viTp/xbu1s64wsdrGYah/yzYqR1xyapcwU3v3nedPN1cSiJqmUHRAgAAAMqBYZ0j1KPBX+trFTZe64uNsfpq0zFZLdK0e1sopHKFEkxaNlC0AAAAgHLAYrHotf5547UOn07Xs5cZrxUVm6QJC3ZJksb1rKfOdaqWdNQygaIFAAAAlBOVKrjr7YF547V+2n5cn/5jvNbptEyN+nSzsnJt6tmwukZ1q2VS0tKPogUAAACUIy1qVtazN+WN1/rvj3+N18rJtemxz7cqPjlDkQHeev3uZrJYLGZGLdUoWgAAAEA581CnCN3YsLqycm169LMtSsnI1quL92nNwdOq4O6imYNaysfTzeyYpRpFCwAAAChnLBaLXrsrb7zWkdPpuvf9dZq54pAk6ZW7mqpOdR+TE5Z+FC0AAACgHPKr4KZ37rtObi4W7YpPkSQN6xShW5sGm5ysbKBoAQAAAOVU89BKev7mBpKkDrWq5I/dwrVzNTsAAAAAAPMM6Rih6+tXV43KXnKxMvmFo1C0AAAAgHKuZhUWJHY0Lh0EAAAAAAejaAEAAACAg1G0AAAAAMDBKFoAAAAA4GAULQAAAABwMIoWAAAAADgYRQsAAAAAHIyiBQAAAAAORtECAAAAAAejaAEAAACAg1G0AAAAAMDBKFoAAAAA4GAULQAAAABwMIoWAAAAADiYq9kBnJ1hGJKklJQUk5MAAAAAMNOfneDPjlAYitYVpKamSpJCQ0NNTgIAAADAGaSmpsrPz6/QbSxGUepYOWaz2RQfHy8fHx9ZLBaz45QbKSkpCg0NVWxsrHx9fc2OU27xPjgH3gfnwPtgPt4D58D74Bx4H8xhGIZSU1MVHBwsq7XwUVic0boCq9WqkJAQs2OUW76+vvzl4QR4H5wD74Nz4H0wH++Bc+B9cA68DyXvSmey/sRkGAAAAADgYBQtAAAAAHAwihackoeHhyZMmCAPDw+zo5RrvA/OgffBOfA+mI/3wDnwPjgH3gfnx2QYAAAAAOBgnNECAAAAAAejaAEAAACAg1G0AAAAAMDBKFoAAAAA4GAULZS4SZMmqXXr1vLx8VG1atV02223ad++fYXus3z5clkslotue/fuLaHUZc/EiRMv+n4GBgYWus+KFSvUsmVLeXp6KjIyUjNmzCihtGVXeHj4Jf9sP/roo5fcns+CY6xcuVJ9+vRRcHCwLBaLvv/++wKPG4ahiRMnKjg4WF5eXurWrZt27dp1xeN+++23atiwoTw8PNSwYUPNnz+/mF5B6VfYe5Cdna1//etfatKkiby9vRUcHKwHHnhA8fHxhR5zzpw5l/x8ZGRkFPOrKb2u9FkYMmTIRd/Pdu3aXfG4fBbsc6X34VJ/ri0Wi1599dXLHpPPg/koWihxK1as0KOPPqp169bpt99+U05Ojnr27Klz585dcd99+/bp+PHj+bc6deqUQOKyq1GjRgW+nzt27LjstjExMbr55pvVuXNnbd26Vc8995wef/xxffvttyWYuOzZuHFjgffgt99+kyT179+/0P34LFybc+fOqVmzZnr77bcv+fgrr7yiN954Q2+//bY2btyowMBA3XjjjUpNTb3sMdeuXat77rlHgwYN0rZt2zRo0CDdfffdWr9+fXG9jFKtsPcgPT1dW7Zs0QsvvKAtW7bou+++0/79+9W3b98rHtfX17fAZ+P48ePy9PQsjpdQJlzpsyBJvXv3LvD9/Pnnnws9Jp8F+13pffjnn+lZs2bJYrHozjvvLPS4fB5MZgAmS0xMNCQZK1asuOw2y5YtMyQZZ8+eLblgZdyECROMZs2aFXn7Z555xqhfv36B+0aMGGG0a9fOwcnKtzFjxhi1atUybDbbJR/ns+B4koz58+fnf22z2YzAwEBj8uTJ+fdlZGQYfn5+xowZMy57nLvvvtvo3bt3gft69eplDBgwwOGZy5p/vgeXsmHDBkOSceTIkctuM3v2bMPPz8+x4cqRS70PgwcPNvr162fXcfgsXJuifB769etnXH/99YVuw+fBfJzRgumSk5MlSf7+/lfctkWLFgoKCtINN9ygZcuWFXe0Mu/AgQMKDg5WRESEBgwYoEOHDl1227Vr16pnz54F7uvVq5c2bdqk7Ozs4o5aLmRlZenTTz/V0KFDZbFYCt2Wz0LxiYmJUUJCQoE/7x4eHuratavWrFlz2f0u9xkpbB8UXXJysiwWiypVqlTodmlpaQoLC1NISIhuvfVWbd26tWQClmHLly9XtWrVVLduXQ0fPlyJiYmFbs9noXidOHFCP/30kx566KErbsvnwVwULZjKMAyNHTtWnTp1UuPGjS+7XVBQkN5//319++23+u6771SvXj3dcMMNWrlyZQmmLVvatm2rjz/+WL/++qs++OADJSQkqEOHDjp9+vQlt09ISFD16tUL3Fe9enXl5OTo1KlTJRG5zPv++++VlJSkIUOGXHYbPgvFLyEhQZIu+ef9z8cut5+9+6BoMjIy9Oyzz2rgwIHy9fW97Hb169fXnDlz9MMPP+jzzz+Xp6enOnbsqAMHDpRg2rLlpptu0rx587R06VK9/vrr2rhxo66//nplZmZedh8+C8Vr7ty58vHx0R133FHodnwezOdqdgCUb6NHj9b27du1evXqQrerV6+e6tWrl/91+/btFRsbq9dee01dunQp7phl0k033ZT//02aNFH79u1Vq1YtzZ07V2PHjr3kPv88y2IYxiXvx9X56KOPdNNNNyk4OPiy2/BZKDmX+vN+pT/rV7MPCpedna0BAwbIZrPp3XffLXTbdu3aFZiooWPHjrruuus0ffp0TZs2rbijlkn33HNP/v83btxYrVq1UlhYmH766adC/6HPZ6H4zJo1S/fdd98Vx1rxeTAfZ7Rgmscee0w//PCDli1bppCQELv3b9euHb+VcSBvb281adLkst/TwMDAi34bmZiYKFdXV1WpUqUkIpZpR44c0ZIlSzRs2DC79+Wz4Fh/zr55qT/v//wt/T/3s3cfFC47O1t33323YmJi9NtvvxV6NutSrFarWrduzefDgYKCghQWFlbo95TPQvFZtWqV9u3bd1U/K/g8lDyKFkqcYRgaPXq0vvvuOy1dulQRERFXdZytW7cqKCjIwenKr8zMTO3Zs+ey39P27dvnz4j3p8WLF6tVq1Zyc3MriYhl2uzZs1WtWjXdcsstdu/LZ8GxIiIiFBgYWODPe1ZWllasWKEOHTpcdr/LfUYK2weX92fJOnDggJYsWXJVv9AxDENRUVF8Phzo9OnTio2NLfR7ymeh+Hz00Udq2bKlmjVrZve+fB5KHpcOosQ9+uij+uyzz7RgwQL5+Pjk/9bLz89PXl5ekqTx48crLi5OH3/8sSRp6tSpCg8PV6NGjfInDPj222+ZWvwaPPXUU+rTp49q1qypxMRE/e9//1NKSooGDx4s6eL3YOTIkXr77bc1duxYDR8+XGvXrtVHH32kzz//3MyXUSbYbDbNnj1bgwcPlqtrwb+W+SwUj7S0NEVHR+d/HRMTo6ioKPn7+6tmzZp64okn9PLLL6tOnTqqU6eOXn75ZVWoUEEDBw7M3+eBBx5QjRo1NGnSJEnSmDFj1KVLF02ZMkX9+vXTggULtGTJkiteGl1eFfYeBAcH66677tKWLVu0cOFC5ebm5v+s8Pf3l7u7u6SL34MXX3xR7dq1U506dZSSkqJp06YpKipK77zzTsm/wFKisPfB399fEydO1J133qmgoCAdPnxYzz33nAICAnT77bfn78Nn4dpd6e8kSUpJSdHXX3+t119//ZLH4PPghMyb8BDllaRL3mbPnp2/zeDBg42uXbvmfz1lyhSjVq1ahqenp1G5cmWjU6dOxk8//VTy4cuQe+65xwgKCjLc3NyM4OBg44477jB27dqV//g/3wPDMIzly5cbLVq0MNzd3Y3w8HDjvffeK+HUZdOvv/5qSDL27dt30WN8ForHn9Pk//M2ePBgwzDypnifMGGCERgYaHh4eBhdunQxduzYUeAYXbt2zd/+T19//bVRr149w83Nzahfv77x7bffltArKn0Kew9iYmIu+7Ni2bJl+cf453vwxBNPGDVr1jTc3d2NqlWrGj179jTWrFlT8i+uFCnsfUhPTzd69uxpVK1a1XBzczNq1qxpDB482Dh69GiBY/BZuHZX+jvJMAxj5syZhpeXl5GUlHTJY/B5cD4Ww7gwmh0AAAAA4BCM0QIAAAAAB6NoAQAAAICDUbQAAAAAwMEoWgAAAADgYBQtAAAAAHAwihYAAAAAOBhFCwAAAAAcjKIFACi1Dh8+LIvFoqioKLOj5Nu7d6/atWsnT09PNW/evMSf3xm/JwBQHlG0AABXbciQIbJYLJo8eXKB+7///ntZLBaTUplrwoQJ8vb21r59+/T7779f9LjFYin0NmTIkGt6/tDQUB0/flyNGze+puMAAK4NRQsAcE08PT01ZcoUnT171uwoDpOVlXXV+x48eFCdOnVSWFiYqlSpctHjx48fz79NnTpVvr6+Be576623riW6XFxcFBgYKFdX12s6DgDg2lC0AADXpEePHgoMDNSkSZMuu83EiRMvuoxu6tSpCg8Pz/96yJAhuu222/Tyyy+revXqqlSpkl588UXl5OTo6aeflr+/v0JCQjRr1qyLjr9371516NBBnp6eatSokZYvX17g8d27d+vmm29WxYoVVb16dQ0aNEinTp3Kf7xbt24aPXq0xo4dq4CAAN14442XfB02m03/93//p5CQEHl4eKh58+ZatGhR/uMWi0WbN2/W//3f/8lisWjixIkXHSMwMDD/5ufnJ4vFUuC+zz77TLVq1ZK7u7vq1aunTz75pMD+FotF7733nm666SZ5eXkpIiJCX3/9df7jl7p0cNeuXbrlllvk6+srHx8fde7cWQcPHpQkLV++XG3atJG3t7cqVaqkjh076siRI5d8/QCAoqNoAQCuiYuLi15++WVNnz5dx44du6ZjLV26VPHx8Vq5cqXeeOMNTZw4UbfeeqsqV66s9evXa+TIkRo5cqRiY2ML7Pf0009r3Lhx2rp1qzp06KC+ffvq9OnTkvLOIHXt2lXNmzfXpk2btGjRIp04cUJ33313gWPMnTtXrq6u+uOPPzRz5sxL5nvrrbf0+uuv67XXXtP27dvVq1cv9e3bVwcOHMh/rkaNGmncuHE6fvy4nnrqKbte//z58zVmzBiNGzdOO3fu1IgRI/Tggw9q2bJlBbZ74YUXdOedd2rbtm26//77de+992rPnj2XPGZcXJy6dOkiT09PLV26VJs3b9bQoUOVk5OjnJwc3Xbbberatau2b9+utWvX6uGHHy63l30CgEMZAABcpcGDBxv9+vUzDMMw2rVrZwwdOtQwDMOYP3++8fcfMRMmTDCaNWtWYN8333zTCAsLK3CssLAwIzc3N/++evXqGZ07d87/Oicnx/D29jY+//xzwzAMIyYmxpBkTJ48OX+b7OxsIyQkxJgyZYphGIbxwgsvGD179izw3LGxsYYkY9++fYZhGEbXrl2N5s2bX/H1BgcHGy+99FKB+1q3bm2MGjUq/+tmzZoZEyZMuOKxDMMwZs+ebfj5+eV/3aFDB2P48OEFtunfv79x8803538tyRg5cmSBbdq2bWs88sgjhmH89T3ZunWrYRiGMX78eCMiIsLIysq66PlPnz5tSDKWL19epLwAgKLjjBYAwCGmTJmiuXPnavfu3Vd9jEaNGslq/etHU/Xq1dWkSZP8r11cXFSlShUlJiYW2K99+/b5/+/q6qpWrVrln+HZvHmzli1bpooVK+bf6tevL0n5l89JUqtWrQrNlpKSovj4eHXs2LHA/R07drzs2SR77dmzp0jH//vr/fPry2WIiopS586d5ebmdtFj/v7+GjJkiHr16qU+ffrorbfe0vHjx6/xVQAAJC4dBAA4SJcuXdSrVy8999xzFz1mtVplGEaB+7Kzsy/a7p9lwGKxXPI+m812xTx/Xv5ms9nUp08fRUVFFbgdOHBAXbp0yd/e29v7isf8+3H/ZBiGQy+1u9rjX24bLy+vQvebPXu21q5dqw4dOujLL79U3bp1tW7duqIHBgBcEkULAOAwkydP1o8//qg1a9YUuL9q1apKSEgoULYcuc7T34tBTk6ONm/enH/W6rrrrtOuXbsUHh6u2rVrF7gVtVxJkq+vr4KDg7V69eoC969Zs0YNGjRwyOto0KBBkY7/zyK0bt26/Nf7T02bNtWqVasuWWz/1KJFC40fP15r1qxR48aN9dlnn13lKwAA/ImiBQBwmCZNmui+++7T9OnTC9zfrVs3nTx5Uq+88ooOHjyod955R7/88ovDnvedd97R/PnztXfvXj366KM6e/ashg4dKkl69NFHdebMGd17773asGGDDh06pMWLF2vo0KHKzc2163mefvppTZkyRV9++aX27dunZ599VlFRURozZoxDXsfTTz+tOXPmaMaMGTpw4IDeeOMNfffddxdNqvH1119r1qxZ2r9/vyZMmKANGzZo9OjRlzzm6NGjlZKSogEDBmjTpk06cOCAPvnkE+3bt08xMTEaP3681q5dqyNHjmjx4sXav3+/w4ojAJRnFC0AgEP997//vegywQYNGujdd9/VO++8o2bNmmnDhg12z8hXmMmTJ2vKlClq1qyZVq1apQULFiggIECSFBwcrD/++EO5ubnq1auXGjdurDFjxsjPz6/AeLCiePzxxzVu3DiNGzdOTZo00aJFi/TDDz+oTp06Dnkdt912m9566y29+uqratSokWbOnKnZs2erW7duBbZ78cUX9cUXX6hp06aaO3eu5s2bp4YNG17ymFWqVNHSpUuVlpamrl27qmXLlvrggw/k5uamChUqaO/evbrzzjtVt25dPfzwwxo9erRGjBjhkNcDAOWZxfjnT0MAAOC0LBaL5s+fr9tuu83sKACAQnBGCwAAAAAcjKIFAAAAAA7manYAAABQdFzxDwClA2e0AAAAAMDBKFoAAAAA4GAULQAAAABwMIoWAAAAADgYRQsAAAAAHIyiBQAAAAAORtECAAAAAAejaAEAAACAg1G0AAAAAMDB/h+Rhn9ZSFXizwAAAABJRU5ErkJggg==",
      "text/plain": [
       "<Figure size 1000x500 with 1 Axes>"
      ]
     },
     "metadata": {},
     "output_type": "display_data"
    }
   ],
   "source": [
    "# visualize coherence\n",
    "plt.figure(figsize=(10,5))\n",
    "plt.plot(range(1,20),review_coherence)\n",
    "plt.xlabel(\"Number of Topics\")\n",
    "plt.ylabel(\"Coherence Score\");"
   ]
  },
  {
   "attachments": {},
   "cell_type": "markdown",
   "metadata": {},
   "source": [
    "Through the graph, the optimal number of topics should be 5. We use the graph to look for where the average coherence score plateaus, which would be around 3 - 6 topics on our graph."
   ]
  },
  {
   "cell_type": "code",
   "execution_count": 34,
   "metadata": {},
   "outputs": [
    {
     "data": {
      "image/png": "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",
      "text/plain": [
       "<Figure size 2000x1500 with 5 Axes>"
      ]
     },
     "metadata": {},
     "output_type": "display_data"
    }
   ],
   "source": [
    "import math\n",
    "\n",
    "k = 5\n",
    "tweets_lda = LdaModel(corpus, num_topics = k, id2word = review_dict, passes=10)\n",
    "\n",
    "def plot_top_words(lda=tweets_lda, nb_topics=k, nb_words=10):\n",
    "    top_words = [[word for word,_ in lda.show_topic(topic_id, topn=50)] for topic_id in range(lda.num_topics)]\n",
    "    top_betas = [[beta for _,beta in lda.show_topic(topic_id, topn=50)] for topic_id in range(lda.num_topics)]\n",
    "\n",
    "    gs  = plt.GridSpec(round(math.sqrt(k))+1,round(math.sqrt(k))+1)\n",
    "    gs.update(wspace=0.5, hspace=0.5)\n",
    "    plt.figure(figsize=(20,15))\n",
    "    for i in range(nb_topics):\n",
    "        ax = plt.subplot(gs[i])\n",
    "        plt.barh(range(nb_words), top_betas[i][:nb_words], align='center',color='blue', ecolor='black')\n",
    "        ax.invert_yaxis()\n",
    "        ax.set_yticks(range(nb_words))\n",
    "        ax.set_yticklabels(top_words[i][:nb_words])\n",
    "        plt.title(\"Topic \"+str(i))\n",
    "        \n",
    "  \n",
    "plot_top_words()"
   ]
  }
 ],
 "metadata": {
  "kernelspec": {
   "display_name": "Python 3",
   "language": "python",
   "name": "python3"
  },
  "language_info": {
   "codemirror_mode": {
    "name": "ipython",
    "version": 3
   },
   "file_extension": ".py",
   "mimetype": "text/x-python",
   "name": "python",
   "nbconvert_exporter": "python",
   "pygments_lexer": "ipython3",
   "version": "3.10.2"
  },
  "orig_nbformat": 4
 },
 "nbformat": 4,
 "nbformat_minor": 2
}
