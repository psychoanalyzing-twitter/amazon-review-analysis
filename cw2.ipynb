{
 "cells": [
  {
   "attachments": {},
   "cell_type": "markdown",
   "metadata": {},
   "source": [
    "# F20AA Applied Text Analytics: Coursework 2"
   ]
  },
  {
   "cell_type": "code",
   "execution_count": 1,
   "metadata": {},
   "outputs": [],
   "source": [
    "# %pip install nltk\n",
    "# %pip install pandarallel"
   ]
  },
  {
   "cell_type": "code",
   "execution_count": 1,
   "metadata": {},
   "outputs": [
    {
     "name": "stdout",
     "output_type": "stream",
     "text": [
      "INFO: Pandarallel will run on 4 workers.\n",
      "INFO: Pandarallel will use standard multiprocessing data transfer (pipe) to transfer data between the main process and workers.\n",
      "\n",
      "WARNING: You are on Windows. If you detect any issue with pandarallel, be sure you checked out the Troubleshooting page:\n",
      "https://nalepae.github.io/pandarallel/troubleshooting/\n"
     ]
    },
    {
     "name": "stderr",
     "output_type": "stream",
     "text": [
      "[nltk_data] Downloading package averaged_perceptron_tagger to\n",
      "[nltk_data]     C:\\Users\\alora\\AppData\\Roaming\\nltk_data...\n",
      "[nltk_data]   Package averaged_perceptron_tagger is already up-to-\n",
      "[nltk_data]       date!\n",
      "[nltk_data] Downloading package stopwords to\n",
      "[nltk_data]     C:\\Users\\alora\\AppData\\Roaming\\nltk_data...\n",
      "[nltk_data]   Package stopwords is already up-to-date!\n"
     ]
    }
   ],
   "source": [
    "import pickle\n",
    "import bz2\n",
    "\n",
    "import matplotlib.pyplot as plt\n",
    "import pandas as pd\n",
    "\n",
    "# preprocessing\n",
    "import nltk\n",
    "from nltk.corpus import stopwords, wordnet\n",
    "from nltk.stem import WordNetLemmatizer, PorterStemmer\n",
    "from nltk.tokenize import word_tokenize\n",
    "from nltk.tag import pos_tag, pos_tag_sents\n",
    "nltk.download('averaged_perceptron_tagger')\n",
    "nltk.download('stopwords')\n",
    "\n",
    "import sklearn.metrics\n",
    "from sklearn.model_selection import train_test_split\n",
    "\n",
    "# optimization\n",
    "from pandarallel import pandarallel\n",
    "pandarallel.initialize()"
   ]
  },
  {
   "attachments": {},
   "cell_type": "markdown",
   "metadata": {},
   "source": [
    "## 1.   Data Exploration and Visualization"
   ]
  },
  {
   "cell_type": "code",
   "execution_count": 3,
   "metadata": {},
   "outputs": [
    {
     "data": {
      "text/plain": [
       "' Train.csv exceeds file size limit on GitHub '"
      ]
     },
     "execution_count": 3,
     "metadata": {},
     "output_type": "execute_result"
    }
   ],
   "source": [
    "# saving data in a pickle file\n",
    "\"\"\" Train.csv exceeds file size limit on GitHub \"\"\"\n",
    "\n",
    "# data = pd.read_csv(\"Train.csv\")\n",
    "# with bz2.BZ2File(\"train.pickle\", \"wb\") as f:\n",
    "#     pickle.dump(data, f)\n",
    "#     f.close()"
   ]
  },
  {
   "cell_type": "code",
   "execution_count": 2,
   "metadata": {},
   "outputs": [],
   "source": [
    "# loading data from pickle\n",
    "with bz2.BZ2File(\"train.pickle\", \"rb\") as f:\n",
    "    train = pickle.load(f)\n",
    "    f.close()"
   ]
  },
  {
   "cell_type": "code",
   "execution_count": 5,
   "metadata": {},
   "outputs": [
    {
     "data": {
      "text/html": [
       "<div>\n",
       "<style scoped>\n",
       "    .dataframe tbody tr th:only-of-type {\n",
       "        vertical-align: middle;\n",
       "    }\n",
       "\n",
       "    .dataframe tbody tr th {\n",
       "        vertical-align: top;\n",
       "    }\n",
       "\n",
       "    .dataframe thead th {\n",
       "        text-align: right;\n",
       "    }\n",
       "</style>\n",
       "<table border=\"1\" class=\"dataframe\">\n",
       "  <thead>\n",
       "    <tr style=\"text-align: right;\">\n",
       "      <th></th>\n",
       "      <th>overall</th>\n",
       "      <th>Review</th>\n",
       "    </tr>\n",
       "  </thead>\n",
       "  <tbody>\n",
       "    <tr>\n",
       "      <th>0</th>\n",
       "      <td>5</td>\n",
       "      <td>This a really cool (but time-tested) design. T...</td>\n",
       "    </tr>\n",
       "    <tr>\n",
       "      <th>1</th>\n",
       "      <td>5</td>\n",
       "      <td>I liked the first pair so well I bought severa...</td>\n",
       "    </tr>\n",
       "    <tr>\n",
       "      <th>2</th>\n",
       "      <td>4</td>\n",
       "      <td>I took them to the range to put them to the te...</td>\n",
       "    </tr>\n",
       "    <tr>\n",
       "      <th>3</th>\n",
       "      <td>5</td>\n",
       "      <td>What can you say about a yoga block?  These ar...</td>\n",
       "    </tr>\n",
       "    <tr>\n",
       "      <th>4</th>\n",
       "      <td>5</td>\n",
       "      <td>After reading many reviews I decided on this l...</td>\n",
       "    </tr>\n",
       "  </tbody>\n",
       "</table>\n",
       "</div>"
      ],
      "text/plain": [
       "   overall                                             Review\n",
       "0        5  This a really cool (but time-tested) design. T...\n",
       "1        5  I liked the first pair so well I bought severa...\n",
       "2        4  I took them to the range to put them to the te...\n",
       "3        5  What can you say about a yoga block?  These ar...\n",
       "4        5  After reading many reviews I decided on this l..."
      ]
     },
     "execution_count": 5,
     "metadata": {},
     "output_type": "execute_result"
    }
   ],
   "source": [
    "train.head()"
   ]
  },
  {
   "cell_type": "code",
   "execution_count": 6,
   "metadata": {},
   "outputs": [
    {
     "name": "stdout",
     "output_type": "stream",
     "text": [
      "<class 'pandas.core.frame.DataFrame'>\n",
      "RangeIndex: 222243 entries, 0 to 222242\n",
      "Data columns (total 2 columns):\n",
      " #   Column   Non-Null Count   Dtype \n",
      "---  ------   --------------   ----- \n",
      " 0   overall  222243 non-null  int64 \n",
      " 1   Review   222243 non-null  object\n",
      "dtypes: int64(1), object(1)\n",
      "memory usage: 3.4+ MB\n"
     ]
    }
   ],
   "source": [
    "train.info()"
   ]
  },
  {
   "cell_type": "code",
   "execution_count": 7,
   "metadata": {},
   "outputs": [
    {
     "data": {
      "text/html": [
       "<div>\n",
       "<style scoped>\n",
       "    .dataframe tbody tr th:only-of-type {\n",
       "        vertical-align: middle;\n",
       "    }\n",
       "\n",
       "    .dataframe tbody tr th {\n",
       "        vertical-align: top;\n",
       "    }\n",
       "\n",
       "    .dataframe thead th {\n",
       "        text-align: right;\n",
       "    }\n",
       "</style>\n",
       "<table border=\"1\" class=\"dataframe\">\n",
       "  <thead>\n",
       "    <tr style=\"text-align: right;\">\n",
       "      <th></th>\n",
       "      <th>overall</th>\n",
       "    </tr>\n",
       "  </thead>\n",
       "  <tbody>\n",
       "    <tr>\n",
       "      <th>count</th>\n",
       "      <td>222243.000000</td>\n",
       "    </tr>\n",
       "    <tr>\n",
       "      <th>mean</th>\n",
       "      <td>4.394771</td>\n",
       "    </tr>\n",
       "    <tr>\n",
       "      <th>std</th>\n",
       "      <td>0.985039</td>\n",
       "    </tr>\n",
       "    <tr>\n",
       "      <th>min</th>\n",
       "      <td>1.000000</td>\n",
       "    </tr>\n",
       "    <tr>\n",
       "      <th>25%</th>\n",
       "      <td>4.000000</td>\n",
       "    </tr>\n",
       "    <tr>\n",
       "      <th>50%</th>\n",
       "      <td>5.000000</td>\n",
       "    </tr>\n",
       "    <tr>\n",
       "      <th>75%</th>\n",
       "      <td>5.000000</td>\n",
       "    </tr>\n",
       "    <tr>\n",
       "      <th>max</th>\n",
       "      <td>5.000000</td>\n",
       "    </tr>\n",
       "  </tbody>\n",
       "</table>\n",
       "</div>"
      ],
      "text/plain": [
       "             overall\n",
       "count  222243.000000\n",
       "mean        4.394771\n",
       "std         0.985039\n",
       "min         1.000000\n",
       "25%         4.000000\n",
       "50%         5.000000\n",
       "75%         5.000000\n",
       "max         5.000000"
      ]
     },
     "execution_count": 7,
     "metadata": {},
     "output_type": "execute_result"
    }
   ],
   "source": [
    "train.describe()"
   ]
  },
  {
   "attachments": {},
   "cell_type": "markdown",
   "metadata": {},
   "source": [
    "These tables give us the initial information we need about the dataset - it has two columns, 'overall' which is like a likert scale between 1-5 and is to be used for multiclass classification, and 'Review' which adds onto 'overall' and is a brief subjective opinion of the reviewer on the product. There are only two columns and no missing values, therefore no direct modification needs to be done to the dataset other than preprocessing."
   ]
  },
  {
   "attachments": {},
   "cell_type": "markdown",
   "metadata": {},
   "source": [
    "**For explanation purposes, 1-2 will be assumed as negative, 3 as neutral, and 4-5 as positive reviews.**"
   ]
  },
  {
   "attachments": {},
   "cell_type": "markdown",
   "metadata": {},
   "source": [
    "### Distribution of data"
   ]
  },
  {
   "cell_type": "code",
   "execution_count": 8,
   "metadata": {},
   "outputs": [
    {
     "data": {
      "image/png": "[encoded data removed]",
      "text/plain": [
       "<Figure size 640x480 with 1 Axes>"
      ]
     },
     "metadata": {},
     "output_type": "display_data"
    }
   ],
   "source": [
    "# distribution of overall\n",
    "train.hist()\n",
    "plt.title(\"Distribution of overall\")\n",
    "plt.show()"
   ]
  },
  {
   "cell_type": "code",
   "execution_count": 9,
   "metadata": {},
   "outputs": [
    {
     "data": {
      "text/plain": [
       "5    141169\n",
       "4     48748\n",
       "3     17947\n",
       "2      7650\n",
       "1      6729\n",
       "Name: overall, dtype: int64"
      ]
     },
     "execution_count": 9,
     "metadata": {},
     "output_type": "execute_result"
    }
   ],
   "source": [
    "train['overall'].value_counts()"
   ]
  },
  {
   "cell_type": "code",
   "execution_count": 10,
   "metadata": {},
   "outputs": [
    {
     "data": {
      "image/png": "[encoded data removed]",
      "text/plain": [
       "<Figure size 640x480 with 1 Axes>"
      ]
     },
     "metadata": {},
     "output_type": "display_data"
    }
   ],
   "source": [
    "count = train['overall'].value_counts()\n",
    "plt.pie(count, labels=count.index, autopct=\"%1.1f\", startangle=90)\n",
    "plt.title(\"Distribution of overall\")\n",
    "plt.show()"
   ]
  },
  {
   "attachments": {},
   "cell_type": "markdown",
   "metadata": {},
   "source": [
    "The graphs show that this dataset is extremely unbalanced, with most of the data (~85%) in \"classes\" 4 and 5. This can prove challenging for our future text classifier, especially for a multi-classification task, as the model may be biased towards the class with the most data and will result to overfitting and inaccurate classification."
   ]
  },
  {
   "cell_type": "code",
   "execution_count": 11,
   "metadata": {},
   "outputs": [
    {
     "data": {
      "image/png": "[encoded data removed]",
      "text/plain": [
       "<Figure size 640x480 with 1 Axes>"
      ]
     },
     "metadata": {},
     "output_type": "display_data"
    }
   ],
   "source": [
    "plt.boxplot(train['overall'])\n",
    "plt.title(\"Distribution of overall\")\n",
    "plt.show()"
   ]
  },
  {
   "attachments": {},
   "cell_type": "markdown",
   "metadata": {},
   "source": [
    "A box plot is extremely helpful as it can help us detect any outliers. Here, the plot has marked the minimum and maximum values as 3 and 5 respectively, with most of the data concentrated in classes 4 and 5. As expected, 5 has also been marked as the median as it is the class with the most data. Classes 1 and 2 have been considered as outliers. In most cases, outliers can and should be removed to make sure the classification process can run smoothly and avoid any miss classifications. But, as classes 1 and 2 are the only \"negative\" classes in this dataset, these outliers cannot be removed, otherwise the data and classifier will render useless."
   ]
  },
  {
   "attachments": {},
   "cell_type": "markdown",
   "metadata": {},
   "source": [
    "### Text data"
   ]
  },
  {
   "cell_type": "code",
   "execution_count": 12,
   "metadata": {},
   "outputs": [
    {
     "data": {
      "image/png": "[encoded data removed]",
      "text/plain": [
       "<Figure size 640x480 with 1 Axes>"
      ]
     },
     "metadata": {},
     "output_type": "display_data"
    }
   ],
   "source": [
    "# checking word count\n",
    "train['Word Count'] = [len(i.split()) for i in list(train['Review'])]\n",
    "\n",
    "plt.hist(train['Word Count'], bins = range(10, 601, 10))\n",
    "plt.title(\"Reviews Word Count\")\n",
    "plt.show()"
   ]
  },
  {
   "cell_type": "code",
   "execution_count": 13,
   "metadata": {},
   "outputs": [
    {
     "data": {
      "image/png": "[encoded data removed]",
      "text/plain": [
       "<Figure size 640x480 with 1 Axes>"
      ]
     },
     "metadata": {},
     "output_type": "display_data"
    }
   ],
   "source": [
    "# checking character count\n",
    "train['Character Count'] = [len(i) for i in list(train['Review'])]\n",
    "\n",
    "plt.hist(train['Character Count'], bins = range(10, 2001, 10))\n",
    "plt.title(\"Reviews Character Count\")\n",
    "plt.show()"
   ]
  },
  {
   "attachments": {},
   "cell_type": "markdown",
   "metadata": {},
   "source": [
    "Most reviews seem to be short - approx. under 100 words and 500 characters."
   ]
  },
  {
   "attachments": {},
   "cell_type": "markdown",
   "metadata": {},
   "source": [
    "### Checking for correlation"
   ]
  },
  {
   "cell_type": "code",
   "execution_count": 14,
   "metadata": {},
   "outputs": [
    {
     "data": {
      "text/html": [
       "<div>\n",
       "<style scoped>\n",
       "    .dataframe tbody tr th:only-of-type {\n",
       "        vertical-align: middle;\n",
       "    }\n",
       "\n",
       "    .dataframe tbody tr th {\n",
       "        vertical-align: top;\n",
       "    }\n",
       "\n",
       "    .dataframe thead th {\n",
       "        text-align: right;\n",
       "    }\n",
       "</style>\n",
       "<table border=\"1\" class=\"dataframe\">\n",
       "  <thead>\n",
       "    <tr style=\"text-align: right;\">\n",
       "      <th></th>\n",
       "      <th>overall</th>\n",
       "      <th>Word Count</th>\n",
       "      <th>Character Count</th>\n",
       "    </tr>\n",
       "  </thead>\n",
       "  <tbody>\n",
       "    <tr>\n",
       "      <th>overall</th>\n",
       "      <td>1.000000</td>\n",
       "      <td>-0.072247</td>\n",
       "      <td>-0.069287</td>\n",
       "    </tr>\n",
       "    <tr>\n",
       "      <th>Word Count</th>\n",
       "      <td>-0.072247</td>\n",
       "      <td>1.000000</td>\n",
       "      <td>0.997638</td>\n",
       "    </tr>\n",
       "    <tr>\n",
       "      <th>Character Count</th>\n",
       "      <td>-0.069287</td>\n",
       "      <td>0.997638</td>\n",
       "      <td>1.000000</td>\n",
       "    </tr>\n",
       "  </tbody>\n",
       "</table>\n",
       "</div>"
      ],
      "text/plain": [
       "                  overall  Word Count  Character Count\n",
       "overall          1.000000   -0.072247        -0.069287\n",
       "Word Count      -0.072247    1.000000         0.997638\n",
       "Character Count -0.069287    0.997638         1.000000"
      ]
     },
     "execution_count": 14,
     "metadata": {},
     "output_type": "execute_result"
    }
   ],
   "source": [
    "train.corr(numeric_only=True)"
   ]
  },
  {
   "attachments": {},
   "cell_type": "markdown",
   "metadata": {},
   "source": [
    "Sadly, word and character count seem to have no correlation with the overall scale, therefore these counts will not provide help with classification."
   ]
  },
  {
   "attachments": {},
   "cell_type": "markdown",
   "metadata": {},
   "source": [
    "# Text Processing and Normalization"
   ]
  },
  {
   "attachments": {},
   "cell_type": "markdown",
   "metadata": {},
   "source": [
    "### Making it lowercase"
   ]
  },
  {
   "cell_type": "code",
   "execution_count": 3,
   "metadata": {},
   "outputs": [],
   "source": [
    "train['Cleaned Reviews'] = train['Review'].parallel_apply(lambda x: \" \".join(x.lower() for x in x.split()))"
   ]
  },
  {
   "attachments": {},
   "cell_type": "markdown",
   "metadata": {},
   "source": [
    "### Removing punctuation and numbers"
   ]
  },
  {
   "cell_type": "code",
   "execution_count": 4,
   "metadata": {},
   "outputs": [],
   "source": [
    "train['Cleaned Reviews'] = train['Cleaned Reviews'].str.replace('[^\\w\\s]|[0-9]+','', regex=True)"
   ]
  },
  {
   "cell_type": "code",
   "execution_count": 5,
   "metadata": {},
   "outputs": [
    {
     "data": {
      "text/plain": [
       "0    this a really cool but timetested design the c...\n",
       "1    i liked the first pair so well i bought severa...\n",
       "2    i took them to the range to put them to the te...\n",
       "3    what can you say about a yoga block these are ...\n",
       "4    after reading many reviews i decided on this l...\n",
       "Name: Cleaned Reviews, dtype: object"
      ]
     },
     "execution_count": 5,
     "metadata": {},
     "output_type": "execute_result"
    }
   ],
   "source": [
    "train['Cleaned Reviews'].head()"
   ]
  },
  {
   "attachments": {},
   "cell_type": "markdown",
   "metadata": {},
   "source": [
    "### Removing stopwords"
   ]
  },
  {
   "cell_type": "code",
   "execution_count": 6,
   "metadata": {},
   "outputs": [],
   "source": [
    "stopw = set(stopwords.words('english'))"
   ]
  },
  {
   "cell_type": "code",
   "execution_count": 7,
   "metadata": {},
   "outputs": [],
   "source": [
    "\n",
    "train['Cleaned Reviews'] = train['Cleaned Reviews'].apply(lambda rev: \" \".join([str for str in rev.split(' ') if str not in stopw]) )"
   ]
  },
  {
   "cell_type": "code",
   "execution_count": 8,
   "metadata": {},
   "outputs": [
    {
     "data": {
      "text/plain": [
       "0    really cool timetested design carbon steel bla...\n",
       "1    liked first pair well bought several found usu...\n",
       "2    took range put test adjust volume hear people ...\n",
       "3    say yoga block solid sturdy  namebrand feared ...\n",
       "4    reading many reviews decided light satisfied d...\n",
       "Name: Cleaned Reviews, dtype: object"
      ]
     },
     "execution_count": 8,
     "metadata": {},
     "output_type": "execute_result"
    }
   ],
   "source": [
    "train['Cleaned Reviews'].head()"
   ]
  },
  {
   "attachments": {},
   "cell_type": "markdown",
   "metadata": {},
   "source": [
    "### Splitting into tokens"
   ]
  },
  {
   "attachments": {},
   "cell_type": "markdown",
   "metadata": {},
   "source": [
    "Tokenizing is the method of splitting up a corpus into 'tokens' - usually achieved by spltting the text into individual components."
   ]
  },
  {
   "cell_type": "code",
   "execution_count": 9,
   "metadata": {},
   "outputs": [],
   "source": [
    "train['Tokenized Reviews'] = train['Cleaned Reviews'].parallel_apply(word_tokenize)"
   ]
  },
  {
   "cell_type": "code",
   "execution_count": 10,
   "metadata": {},
   "outputs": [
    {
     "data": {
      "text/plain": [
       "0    [really, cool, timetested, design, carbon, ste...\n",
       "1    [liked, first, pair, well, bought, several, fo...\n",
       "2    [took, range, put, test, adjust, volume, hear,...\n",
       "3    [say, yoga, block, solid, sturdy, namebrand, f...\n",
       "4    [reading, many, reviews, decided, light, satis...\n",
       "Name: Tokenized Reviews, dtype: object"
      ]
     },
     "execution_count": 10,
     "metadata": {},
     "output_type": "execute_result"
    }
   ],
   "source": [
    "train['Tokenized Reviews'].head()"
   ]
  },
  {
   "attachments": {},
   "cell_type": "markdown",
   "metadata": {},
   "source": [
    "The next step is to lemmatize the tokens, however..."
   ]
  },
  {
   "cell_type": "code",
   "execution_count": 11,
   "metadata": {},
   "outputs": [
    {
     "name": "stdout",
     "output_type": "stream",
     "text": [
      "liked\n"
     ]
    }
   ],
   "source": [
    "wnl = WordNetLemmatizer()\n",
    "print(wnl.lemmatize('liked'))"
   ]
  },
  {
   "attachments": {},
   "cell_type": "markdown",
   "metadata": {},
   "source": [
    "By default, NLTK's WordNetLemmatizer assumes every word is a noun and will lemmatize text incorrectly if POS-tagging (Parts-Of-Speech Tagging) is not done beforehand.\n",
    "\n",
    "Source: https://www.nltk.org/api/nltk.stem.wordnet.html?highlight=lemmatiz#nltk.stem.wordnet.WordNetLemmatizer.lemmatize"
   ]
  },
  {
   "cell_type": "code",
   "execution_count": 12,
   "metadata": {},
   "outputs": [],
   "source": [
    "train['Tagged Reviews'] = train['Tokenized Reviews'].parallel_apply(pos_tag)"
   ]
  },
  {
   "attachments": {},
   "cell_type": "markdown",
   "metadata": {},
   "source": [
    "However, the POS-tag given by NLTK's POS tagger is not an accepted format for NLTK's WordNetLemmatizer, so it needs to be mapped."
   ]
  },
  {
   "cell_type": "code",
   "execution_count": 13,
   "metadata": {},
   "outputs": [],
   "source": [
    "# From https://stackoverflow.com/questions/15586721/wordnet-lemmatization-and-pos-tagging-in-python/15590384#15590384\n",
    "\n",
    "def get_wordnet_pos(treebank_tag):\n",
    "    if treebank_tag.startswith('J'):\n",
    "        return wordnet.ADJ\n",
    "    elif treebank_tag.startswith('V'):\n",
    "        return wordnet.VERB\n",
    "    elif treebank_tag.startswith('N'):\n",
    "        return wordnet.NOUN\n",
    "    elif treebank_tag.startswith('R'):\n",
    "        return wordnet.ADV\n",
    "    else:\n",
    "        return None\n",
    "    \n",
    "def wordnet_format(text):\n",
    "    return [(word[0],get_wordnet_pos(word[1])) for word in text]\n",
    "\n",
    "\n",
    "train['Tagged Reviews'] = train['Tagged Reviews'].apply(wordnet_format)"
   ]
  },
  {
   "cell_type": "code",
   "execution_count": 14,
   "metadata": {},
   "outputs": [
    {
     "name": "stdout",
     "output_type": "stream",
     "text": [
      "Without POS-tag:\n",
      "['liked', 'first', 'pair', 'well', 'bought']\n",
      "With POS-tag: \n",
      "['like', 'first', 'pair', 'well', 'buy']\n"
     ]
    }
   ],
   "source": [
    "example1 = train['Tokenized Reviews'].iloc[1].copy()\n",
    "example1pos = train['Tagged Reviews'].iloc[1].copy()\n",
    "\n",
    "print(\"Without POS-tag:\")\n",
    "print([wnl.lemmatize(word) for word in example1[:5]])\n",
    "print(\"With POS-tag: \")\n",
    "print([wnl.lemmatize(word[0], pos=word[1]) for word in example1pos[:5]])"
   ]
  },
  {
   "attachments": {},
   "cell_type": "markdown",
   "metadata": {},
   "source": [
    "As shown above, without POS-tagging, NLTK's lemmatizer doesn't correctly lemmatize verbs. Now that the text has been tokenized and POS-tagged, it can be lemmatized."
   ]
  },
  {
   "attachments": {},
   "cell_type": "markdown",
   "metadata": {},
   "source": [
    "### Lemmatizing the tokens"
   ]
  },
  {
   "attachments": {},
   "cell_type": "markdown",
   "metadata": {},
   "source": [
    "Lemmatization is a text normalization technique used throughout NLP models. Oftentimes, it is the preferred normalization method over stemming, shown by SpaCy opting to drop stemming from its library entirely. "
   ]
  },
  {
   "cell_type": "code",
   "execution_count": 15,
   "metadata": {},
   "outputs": [
    {
     "data": {
      "text/plain": [
       "0    [really, cool, timetested, design, carbon, ste...\n",
       "1    [like, first, pair, well, buy, several, find, ...\n",
       "2    [take, range, put, test, adjust, volume, hear,...\n",
       "3    [say, yoga, block, solid, sturdy, namebrand, f...\n",
       "4    [read, many, review, decide, light, satisfied,...\n",
       "Name: Lemmatized Reviews, dtype: object"
      ]
     },
     "execution_count": 15,
     "metadata": {},
     "output_type": "execute_result"
    }
   ],
   "source": [
    "train['Lemmatized Reviews'] = train['Tagged Reviews'].apply(lambda x: [wnl.lemmatize(word[0], pos=word[1]) if word[1] is not None else wnl.lemmatize(word[0]) for word in x ])\n",
    "train['Lemmatized Reviews'].head()"
   ]
  },
  {
   "attachments": {},
   "cell_type": "markdown",
   "metadata": {},
   "source": [
    "### Stemming the tokens"
   ]
  },
  {
   "cell_type": "code",
   "execution_count": 18,
   "metadata": {},
   "outputs": [
    {
     "data": {
      "text/plain": [
       "0    [realli, cool, timetest, design, carbon, steel...\n",
       "1    [like, first, pair, well, bought, sever, found...\n",
       "2    [took, rang, put, test, adjust, volum, hear, p...\n",
       "3    [say, yoga, block, solid, sturdi, namebrand, f...\n",
       "4    [read, mani, review, decid, light, satisfi, da...\n",
       "Name: Stemmed Reviews, dtype: object"
      ]
     },
     "execution_count": 18,
     "metadata": {},
     "output_type": "execute_result"
    }
   ],
   "source": [
    "stem = PorterStemmer()\n",
    "train['Stemmed Reviews'] = train['Tokenized Reviews'].apply(\n",
    "    lambda rev: [stem.stem(text) for text in rev])\n",
    "train['Stemmed Reviews'].head()"
   ]
  },
  {
   "cell_type": "code",
   "execution_count": 19,
   "metadata": {},
   "outputs": [],
   "source": [
    "train.to_pickle('preproc.pkl')"
   ]
  },
  {
   "attachments": {},
   "cell_type": "markdown",
   "metadata": {},
   "source": [
    "### Evaluating Stemming vs Lemmatization"
   ]
  },
  {
   "attachments": {},
   "cell_type": "markdown",
   "metadata": {},
   "source": [
    "To evaluate which would perform better, stemming and lemmatization will be compared on their performance on a variety of text representation using a baseline classifier, logistic regression."
   ]
  },
  {
   "attachments": {},
   "cell_type": "markdown",
   "metadata": {},
   "source": [
    "### Stemming"
   ]
  },
  {
   "cell_type": "code",
   "execution_count": 20,
   "metadata": {},
   "outputs": [
    {
     "name": "stderr",
     "output_type": "stream",
     "text": [
      "c:\\Users\\alora\\anaconda3\\envs\\aa\\lib\\site-packages\\sklearn\\feature_extraction\\text.py:528: UserWarning: The parameter 'token_pattern' will not be used since 'tokenizer' is not None'\n",
      "  warnings.warn(\n"
     ]
    }
   ],
   "source": [
    "from sklearn.feature_extraction.text import CountVectorizer\n",
    "from sklearn.feature_extraction.text import TfidfVectorizer\n",
    "strings_Stemmed = train[\"Stemmed Reviews\"].map(' '.join)\n",
    "\n",
    "# Using Bag of Words, we represent the stemmed strings\n",
    "bow_converter = CountVectorizer(tokenizer=lambda doc: doc)\n",
    "x_bow = bow_converter.fit_transform(strings_Stemmed)\n"
   ]
  },
  {
   "cell_type": "code",
   "execution_count": 21,
   "metadata": {},
   "outputs": [
    {
     "ename": "KeyboardInterrupt",
     "evalue": "",
     "output_type": "error",
     "traceback": [
      "\u001b[1;31m---------------------------------------------------------------------------\u001b[0m",
      "\u001b[1;31mKeyboardInterrupt\u001b[0m                         Traceback (most recent call last)",
      "Cell \u001b[1;32mIn[21], line 7\u001b[0m\n\u001b[0;32m      4\u001b[0m x_bigram \u001b[39m=\u001b[39m bigram_converter\u001b[39m.\u001b[39mfit_transform(strings_Stemmed)\n\u001b[0;32m      5\u001b[0m trigram_converter \u001b[39m=\u001b[39m CountVectorizer(tokenizer\u001b[39m=\u001b[39m\u001b[39mlambda\u001b[39;00m doc: doc,\n\u001b[0;32m      6\u001b[0m ngram_range\u001b[39m=\u001b[39m(\u001b[39m3\u001b[39m,\u001b[39m3\u001b[39m))\n\u001b[1;32m----> 7\u001b[0m x_trigram \u001b[39m=\u001b[39m trigram_converter\u001b[39m.\u001b[39;49mfit_transform(strings_Stemmed)\n",
      "File \u001b[1;32mc:\\Users\\alora\\anaconda3\\envs\\aa\\lib\\site-packages\\sklearn\\feature_extraction\\text.py:1387\u001b[0m, in \u001b[0;36mCountVectorizer.fit_transform\u001b[1;34m(self, raw_documents, y)\u001b[0m\n\u001b[0;32m   1379\u001b[0m             warnings\u001b[39m.\u001b[39mwarn(\n\u001b[0;32m   1380\u001b[0m                 \u001b[39m\"\u001b[39m\u001b[39mUpper case characters found in\u001b[39m\u001b[39m\"\u001b[39m\n\u001b[0;32m   1381\u001b[0m                 \u001b[39m\"\u001b[39m\u001b[39m vocabulary while \u001b[39m\u001b[39m'\u001b[39m\u001b[39mlowercase\u001b[39m\u001b[39m'\u001b[39m\u001b[39m\"\u001b[39m\n\u001b[0;32m   1382\u001b[0m                 \u001b[39m\"\u001b[39m\u001b[39m is True. These entries will not\u001b[39m\u001b[39m\"\u001b[39m\n\u001b[0;32m   1383\u001b[0m                 \u001b[39m\"\u001b[39m\u001b[39m be matched with any documents\u001b[39m\u001b[39m\"\u001b[39m\n\u001b[0;32m   1384\u001b[0m             )\n\u001b[0;32m   1385\u001b[0m             \u001b[39mbreak\u001b[39;00m\n\u001b[1;32m-> 1387\u001b[0m vocabulary, X \u001b[39m=\u001b[39m \u001b[39mself\u001b[39;49m\u001b[39m.\u001b[39;49m_count_vocab(raw_documents, \u001b[39mself\u001b[39;49m\u001b[39m.\u001b[39;49mfixed_vocabulary_)\n\u001b[0;32m   1389\u001b[0m \u001b[39mif\u001b[39;00m \u001b[39mself\u001b[39m\u001b[39m.\u001b[39mbinary:\n\u001b[0;32m   1390\u001b[0m     X\u001b[39m.\u001b[39mdata\u001b[39m.\u001b[39mfill(\u001b[39m1\u001b[39m)\n",
      "File \u001b[1;32mc:\\Users\\alora\\anaconda3\\envs\\aa\\lib\\site-packages\\sklearn\\feature_extraction\\text.py:1274\u001b[0m, in \u001b[0;36mCountVectorizer._count_vocab\u001b[1;34m(self, raw_documents, fixed_vocab)\u001b[0m\n\u001b[0;32m   1272\u001b[0m \u001b[39mfor\u001b[39;00m doc \u001b[39min\u001b[39;00m raw_documents:\n\u001b[0;32m   1273\u001b[0m     feature_counter \u001b[39m=\u001b[39m {}\n\u001b[1;32m-> 1274\u001b[0m     \u001b[39mfor\u001b[39;00m feature \u001b[39min\u001b[39;00m analyze(doc):\n\u001b[0;32m   1275\u001b[0m         \u001b[39mtry\u001b[39;00m:\n\u001b[0;32m   1276\u001b[0m             feature_idx \u001b[39m=\u001b[39m vocabulary[feature]\n",
      "File \u001b[1;32mc:\\Users\\alora\\anaconda3\\envs\\aa\\lib\\site-packages\\sklearn\\feature_extraction\\text.py:118\u001b[0m, in \u001b[0;36m_analyze\u001b[1;34m(doc, analyzer, tokenizer, ngrams, preprocessor, decoder, stop_words)\u001b[0m\n\u001b[0;32m    116\u001b[0m             doc \u001b[39m=\u001b[39m ngrams(doc, stop_words)\n\u001b[0;32m    117\u001b[0m         \u001b[39melse\u001b[39;00m:\n\u001b[1;32m--> 118\u001b[0m             doc \u001b[39m=\u001b[39m ngrams(doc)\n\u001b[0;32m    119\u001b[0m \u001b[39mreturn\u001b[39;00m doc\n",
      "File \u001b[1;32mc:\\Users\\alora\\anaconda3\\envs\\aa\\lib\\site-packages\\sklearn\\feature_extraction\\text.py:271\u001b[0m, in \u001b[0;36m_VectorizerMixin._word_ngrams\u001b[1;34m(self, tokens, stop_words)\u001b[0m\n\u001b[0;32m    269\u001b[0m     \u001b[39mfor\u001b[39;00m n \u001b[39min\u001b[39;00m \u001b[39mrange\u001b[39m(min_n, \u001b[39mmin\u001b[39m(max_n \u001b[39m+\u001b[39m \u001b[39m1\u001b[39m, n_original_tokens \u001b[39m+\u001b[39m \u001b[39m1\u001b[39m)):\n\u001b[0;32m    270\u001b[0m         \u001b[39mfor\u001b[39;00m i \u001b[39min\u001b[39;00m \u001b[39mrange\u001b[39m(n_original_tokens \u001b[39m-\u001b[39m n \u001b[39m+\u001b[39m \u001b[39m1\u001b[39m):\n\u001b[1;32m--> 271\u001b[0m             tokens_append(space_join(original_tokens[i : i \u001b[39m+\u001b[39;49m n]))\n\u001b[0;32m    273\u001b[0m \u001b[39mreturn\u001b[39;00m tokens\n",
      "\u001b[1;31mKeyboardInterrupt\u001b[0m: "
     ]
    }
   ],
   "source": [
    "# Using ngrams \n",
    "bigram_converter = CountVectorizer(tokenizer=lambda doc: doc,\n",
    "ngram_range=(2,2))\n",
    "x_bigram = bigram_converter.fit_transform(strings_Stemmed)\n",
    "trigram_converter = CountVectorizer(tokenizer=lambda doc: doc,\n",
    "ngram_range=(3,3))\n",
    "x_trigram = trigram_converter.fit_transform(strings_Stemmed)\n"
   ]
  },
  {
   "cell_type": "code",
   "execution_count": null,
   "metadata": {},
   "outputs": [],
   "source": [
    "#Using tf-idf\n",
    "tfidf_vectorizer = TfidfVectorizer()\n",
    "doc_vec = tfidf_vectorizer.fit_transform(strings_Stemmed)"
   ]
  },
  {
   "cell_type": "code",
   "execution_count": 22,
   "metadata": {},
   "outputs": [],
   "source": [
    "from sklearn.linear_model import LogisticRegression\n",
    "Y = train['overall']\n",
    "\n",
    "def simple_logistic_classify(X_tr, y_tr, X_test, y_test, description, _C=1.0):\n",
    "    model = LogisticRegression(C=_C).fit(X_tr, y_tr)\n",
    "    score = model.score(X_test, y_test)\n",
    "    print('Test Score with', description, 'features', score)\n",
    "    return model\n",
    "\n",
    "def splitclassify(x, type):\n",
    "    train_X, test_X, train_y, test_y = train_test_split(x, Y, random_state=50)\n",
    "    simple_logistic_classify(train_X, train_y, test_X, test_y, type)"
   ]
  },
  {
   "cell_type": "code",
   "execution_count": null,
   "metadata": {},
   "outputs": [
    {
     "name": "stderr",
     "output_type": "stream",
     "text": [
      "c:\\Users\\alora\\anaconda3\\envs\\aa\\lib\\site-packages\\sklearn\\linear_model\\_logistic.py:458: ConvergenceWarning: lbfgs failed to converge (status=1):\n",
      "STOP: TOTAL NO. of ITERATIONS REACHED LIMIT.\n",
      "\n",
      "Increase the number of iterations (max_iter) or scale the data as shown in:\n",
      "    https://scikit-learn.org/stable/modules/preprocessing.html\n",
      "Please also refer to the documentation for alternative solver options:\n",
      "    https://scikit-learn.org/stable/modules/linear_model.html#logistic-regression\n",
      "  n_iter_i = _check_optimize_result(\n"
     ]
    },
    {
     "name": "stdout",
     "output_type": "stream",
     "text": [
      "Test Score with BOW features 0.6331959467972139\n"
     ]
    },
    {
     "name": "stderr",
     "output_type": "stream",
     "text": [
      "c:\\Users\\alora\\anaconda3\\envs\\aa\\lib\\site-packages\\sklearn\\linear_model\\_logistic.py:458: ConvergenceWarning: lbfgs failed to converge (status=1):\n",
      "STOP: TOTAL NO. of ITERATIONS REACHED LIMIT.\n",
      "\n",
      "Increase the number of iterations (max_iter) or scale the data as shown in:\n",
      "    https://scikit-learn.org/stable/modules/preprocessing.html\n",
      "Please also refer to the documentation for alternative solver options:\n",
      "    https://scikit-learn.org/stable/modules/linear_model.html#logistic-regression\n",
      "  n_iter_i = _check_optimize_result(\n"
     ]
    },
    {
     "name": "stdout",
     "output_type": "stream",
     "text": [
      "Test Score with bigram features 0.6479365022227822\n"
     ]
    },
    {
     "name": "stderr",
     "output_type": "stream",
     "text": [
      "c:\\Users\\alora\\anaconda3\\envs\\aa\\lib\\site-packages\\sklearn\\linear_model\\_logistic.py:458: ConvergenceWarning: lbfgs failed to converge (status=1):\n",
      "STOP: TOTAL NO. of ITERATIONS REACHED LIMIT.\n",
      "\n",
      "Increase the number of iterations (max_iter) or scale the data as shown in:\n",
      "    https://scikit-learn.org/stable/modules/preprocessing.html\n",
      "Please also refer to the documentation for alternative solver options:\n",
      "    https://scikit-learn.org/stable/modules/linear_model.html#logistic-regression\n",
      "  n_iter_i = _check_optimize_result(\n"
     ]
    },
    {
     "name": "stdout",
     "output_type": "stream",
     "text": [
      "Test Score with trigram features 0.6834650204279981\n",
      "Test Score with tfidf features 0.6963157610554166\n"
     ]
    },
    {
     "name": "stderr",
     "output_type": "stream",
     "text": [
      "c:\\Users\\alora\\anaconda3\\envs\\aa\\lib\\site-packages\\sklearn\\linear_model\\_logistic.py:458: ConvergenceWarning: lbfgs failed to converge (status=1):\n",
      "STOP: TOTAL NO. of ITERATIONS REACHED LIMIT.\n",
      "\n",
      "Increase the number of iterations (max_iter) or scale the data as shown in:\n",
      "    https://scikit-learn.org/stable/modules/preprocessing.html\n",
      "Please also refer to the documentation for alternative solver options:\n",
      "    https://scikit-learn.org/stable/modules/linear_model.html#logistic-regression\n",
      "  n_iter_i = _check_optimize_result(\n"
     ]
    },
    {
     "data": {
      "text/html": [
       "<style>#sk-container-id-2 {color: black;background-color: white;}#sk-container-id-2 pre{padding: 0;}#sk-container-id-2 div.sk-toggleable {background-color: white;}#sk-container-id-2 label.sk-toggleable__label {cursor: pointer;display: block;width: 100%;margin-bottom: 0;padding: 0.3em;box-sizing: border-box;text-align: center;}#sk-container-id-2 label.sk-toggleable__label-arrow:before {content: \"▸\";float: left;margin-right: 0.25em;color: #696969;}#sk-container-id-2 label.sk-toggleable__label-arrow:hover:before {color: black;}#sk-container-id-2 div.sk-estimator:hover label.sk-toggleable__label-arrow:before {color: black;}#sk-container-id-2 div.sk-toggleable__content {max-height: 0;max-width: 0;overflow: hidden;text-align: left;background-color: #f0f8ff;}#sk-container-id-2 div.sk-toggleable__content pre {margin: 0.2em;color: black;border-radius: 0.25em;background-color: #f0f8ff;}#sk-container-id-2 input.sk-toggleable__control:checked~div.sk-toggleable__content {max-height: 200px;max-width: 100%;overflow: auto;}#sk-container-id-2 input.sk-toggleable__control:checked~label.sk-toggleable__label-arrow:before {content: \"▾\";}#sk-container-id-2 div.sk-estimator input.sk-toggleable__control:checked~label.sk-toggleable__label {background-color: #d4ebff;}#sk-container-id-2 div.sk-label input.sk-toggleable__control:checked~label.sk-toggleable__label {background-color: #d4ebff;}#sk-container-id-2 input.sk-hidden--visually {border: 0;clip: rect(1px 1px 1px 1px);clip: rect(1px, 1px, 1px, 1px);height: 1px;margin: -1px;overflow: hidden;padding: 0;position: absolute;width: 1px;}#sk-container-id-2 div.sk-estimator {font-family: monospace;background-color: #f0f8ff;border: 1px dotted black;border-radius: 0.25em;box-sizing: border-box;margin-bottom: 0.5em;}#sk-container-id-2 div.sk-estimator:hover {background-color: #d4ebff;}#sk-container-id-2 div.sk-parallel-item::after {content: \"\";width: 100%;border-bottom: 1px solid gray;flex-grow: 1;}#sk-container-id-2 div.sk-label:hover label.sk-toggleable__label {background-color: #d4ebff;}#sk-container-id-2 div.sk-serial::before {content: \"\";position: absolute;border-left: 1px solid gray;box-sizing: border-box;top: 0;bottom: 0;left: 50%;z-index: 0;}#sk-container-id-2 div.sk-serial {display: flex;flex-direction: column;align-items: center;background-color: white;padding-right: 0.2em;padding-left: 0.2em;position: relative;}#sk-container-id-2 div.sk-item {position: relative;z-index: 1;}#sk-container-id-2 div.sk-parallel {display: flex;align-items: stretch;justify-content: center;background-color: white;position: relative;}#sk-container-id-2 div.sk-item::before, #sk-container-id-2 div.sk-parallel-item::before {content: \"\";position: absolute;border-left: 1px solid gray;box-sizing: border-box;top: 0;bottom: 0;left: 50%;z-index: -1;}#sk-container-id-2 div.sk-parallel-item {display: flex;flex-direction: column;z-index: 1;position: relative;background-color: white;}#sk-container-id-2 div.sk-parallel-item:first-child::after {align-self: flex-end;width: 50%;}#sk-container-id-2 div.sk-parallel-item:last-child::after {align-self: flex-start;width: 50%;}#sk-container-id-2 div.sk-parallel-item:only-child::after {width: 0;}#sk-container-id-2 div.sk-dashed-wrapped {border: 1px dashed gray;margin: 0 0.4em 0.5em 0.4em;box-sizing: border-box;padding-bottom: 0.4em;background-color: white;}#sk-container-id-2 div.sk-label label {font-family: monospace;font-weight: bold;display: inline-block;line-height: 1.2em;}#sk-container-id-2 div.sk-label-container {text-align: center;}#sk-container-id-2 div.sk-container {/* jupyter's `normalize.less` sets `[hidden] { display: none; }` but bootstrap.min.css set `[hidden] { display: none !important; }` so we also need the `!important` here to be able to override the default hidden behavior on the sphinx rendered scikit-learn.org. See: https://github.com/scikit-learn/scikit-learn/issues/21755 */display: inline-block !important;position: relative;}#sk-container-id-2 div.sk-text-repr-fallback {display: none;}</style><div id=\"sk-container-id-2\" class=\"sk-top-container\"><div class=\"sk-text-repr-fallback\"><pre>LogisticRegression()</pre><b>In a Jupyter environment, please rerun this cell to show the HTML representation or trust the notebook. <br />On GitHub, the HTML representation is unable to render, please try loading this page with nbviewer.org.</b></div><div class=\"sk-container\" hidden><div class=\"sk-item\"><div class=\"sk-estimator sk-toggleable\"><input class=\"sk-toggleable__control sk-hidden--visually\" id=\"sk-estimator-id-2\" type=\"checkbox\" checked><label for=\"sk-estimator-id-2\" class=\"sk-toggleable__label sk-toggleable__label-arrow\">LogisticRegression</label><div class=\"sk-toggleable__content\"><pre>LogisticRegression()</pre></div></div></div></div></div>"
      ],
      "text/plain": [
       "LogisticRegression()"
      ]
     },
     "execution_count": 64,
     "metadata": {},
     "output_type": "execute_result"
    }
   ],
   "source": [
    "splitclassify(x_bow, \"BOW\")\n",
    "splitclassify(x_bigram, \"bigram\")\n",
    "splitclassify(x_trigram, \"trigram\")\n",
    "splitclassify(doc_vec, \"tfidf\")\n"
   ]
  },
  {
   "attachments": {},
   "cell_type": "markdown",
   "metadata": {},
   "source": [
    "### Lemmatizing"
   ]
  },
  {
   "cell_type": "code",
   "execution_count": 23,
   "metadata": {},
   "outputs": [],
   "source": [
    "strings_lemma = train[\"Lemmatized Reviews\"].map(' '.join)\n",
    "\n",
    "# Using Bag of Words, we represent the stemmed strings\n",
    "bow_converter = CountVectorizer(tokenizer=lambda doc: doc)\n",
    "x_bow = bow_converter.fit_transform(strings_lemma)"
   ]
  },
  {
   "cell_type": "code",
   "execution_count": 24,
   "metadata": {},
   "outputs": [],
   "source": [
    "# Using ngrams \n",
    "bigram_converter = CountVectorizer(tokenizer=lambda doc: doc,\n",
    "ngram_range=(2,2))\n",
    "x_bigram = bigram_converter.fit_transform(strings_lemma)\n",
    "trigram_converter = CountVectorizer(tokenizer=lambda doc: doc,\n",
    "ngram_range=(3,3))\n",
    "x_trigram = trigram_converter.fit_transform(strings_lemma)"
   ]
  },
  {
   "cell_type": "code",
   "execution_count": 25,
   "metadata": {},
   "outputs": [],
   "source": [
    "#Using tf-idf\n",
    "tfidf_vectorizer = TfidfVectorizer()\n",
    "doc_vec = tfidf_vectorizer.fit_transform(strings_lemma)"
   ]
  },
  {
   "cell_type": "code",
   "execution_count": 26,
   "metadata": {},
   "outputs": [
    {
     "name": "stderr",
     "output_type": "stream",
     "text": [
      "c:\\Users\\alora\\anaconda3\\envs\\aa\\lib\\site-packages\\sklearn\\linear_model\\_logistic.py:458: ConvergenceWarning: lbfgs failed to converge (status=1):\n",
      "STOP: TOTAL NO. of ITERATIONS REACHED LIMIT.\n",
      "\n",
      "Increase the number of iterations (max_iter) or scale the data as shown in:\n",
      "    https://scikit-learn.org/stable/modules/preprocessing.html\n",
      "Please also refer to the documentation for alternative solver options:\n",
      "    https://scikit-learn.org/stable/modules/linear_model.html#logistic-regression\n",
      "  n_iter_i = _check_optimize_result(\n"
     ]
    },
    {
     "name": "stdout",
     "output_type": "stream",
     "text": [
      "Test Score with BOW features 0.6322420402800526\n"
     ]
    },
    {
     "name": "stderr",
     "output_type": "stream",
     "text": [
      "c:\\Users\\alora\\anaconda3\\envs\\aa\\lib\\site-packages\\sklearn\\linear_model\\_logistic.py:458: ConvergenceWarning: lbfgs failed to converge (status=1):\n",
      "STOP: TOTAL NO. of ITERATIONS REACHED LIMIT.\n",
      "\n",
      "Increase the number of iterations (max_iter) or scale the data as shown in:\n",
      "    https://scikit-learn.org/stable/modules/preprocessing.html\n",
      "Please also refer to the documentation for alternative solver options:\n",
      "    https://scikit-learn.org/stable/modules/linear_model.html#logistic-regression\n",
      "  n_iter_i = _check_optimize_result(\n"
     ]
    },
    {
     "name": "stdout",
     "output_type": "stream",
     "text": [
      "Test Score with bigram features 0.6465686362736451\n"
     ]
    },
    {
     "name": "stderr",
     "output_type": "stream",
     "text": [
      "c:\\Users\\alora\\anaconda3\\envs\\aa\\lib\\site-packages\\sklearn\\linear_model\\_logistic.py:458: ConvergenceWarning: lbfgs failed to converge (status=1):\n",
      "STOP: TOTAL NO. of ITERATIONS REACHED LIMIT.\n",
      "\n",
      "Increase the number of iterations (max_iter) or scale the data as shown in:\n",
      "    https://scikit-learn.org/stable/modules/preprocessing.html\n",
      "Please also refer to the documentation for alternative solver options:\n",
      "    https://scikit-learn.org/stable/modules/linear_model.html#logistic-regression\n",
      "  n_iter_i = _check_optimize_result(\n"
     ]
    },
    {
     "name": "stdout",
     "output_type": "stream",
     "text": [
      "Test Score with trigram features 0.6828170839257752\n"
     ]
    },
    {
     "name": "stderr",
     "output_type": "stream",
     "text": [
      "c:\\Users\\alora\\anaconda3\\envs\\aa\\lib\\site-packages\\sklearn\\linear_model\\_logistic.py:458: ConvergenceWarning: lbfgs failed to converge (status=1):\n",
      "STOP: TOTAL NO. of ITERATIONS REACHED LIMIT.\n",
      "\n",
      "Increase the number of iterations (max_iter) or scale the data as shown in:\n",
      "    https://scikit-learn.org/stable/modules/preprocessing.html\n",
      "Please also refer to the documentation for alternative solver options:\n",
      "    https://scikit-learn.org/stable/modules/linear_model.html#logistic-regression\n",
      "  n_iter_i = _check_optimize_result(\n"
     ]
    },
    {
     "name": "stdout",
     "output_type": "stream",
     "text": [
      "Test Score with tfidf features 0.6929500908910927\n"
     ]
    }
   ],
   "source": [
    "splitclassify(x_bow, \"BOW\")\n",
    "splitclassify(x_bigram, \"bigram\")\n",
    "splitclassify(x_trigram, \"trigram\")\n",
    "splitclassify(doc_vec, \"tfidf\")"
   ]
  },
  {
   "attachments": {},
   "cell_type": "markdown",
   "metadata": {},
   "source": [
    "### Results"
   ]
  },
  {
   "attachments": {},
   "cell_type": "markdown",
   "metadata": {},
   "source": [
    "| Text Representation | Stemming Score | Lemmatizing Score |\n",
    "|---------------------|----------------|-------------------|\n",
    "| BOW | 0.6332 |0.6322|\n",
    "|Bigrams |0.6479|0.6466|\n",
    "|Trigrams|0.6835|0.6828|\n",
    "|Tf-idf|0.6963|0.6930|"
   ]
  },
  {
   "attachments": {},
   "cell_type": "markdown",
   "metadata": {},
   "source": [
    "Though the performance is very similar, it can be observed that stemming outperforms lemmatization by 0.0015 on average. This difference is negligible however, and it can be concluded that the normalization technique does not vary performance as much as the text representation technique and classification technique does. "
   ]
  },
  {
   "attachments": {},
   "cell_type": "markdown",
   "metadata": {},
   "source": [
    "# Vector Space Model and Feature Representation\n",
    "\n",
    "As stated by Michael Kana, PhD, in [1], the following text representations techniques are the most common:\n",
    "- 1-hot encoding\n",
    "- N-grams\n",
    "- Bag-of-Words\n",
    "- TF-IDF\n",
    "- Word2Vec\n",
    "- GloVe\n",
    "\n",
    "Such representation techniques will be experimented with in this section.\n",
    "\n",
    "[1] https://towardsdatascience.com/representing-text-in-natural-language-processing-1eead30e57d8\n"
   ]
  },
  {
   "cell_type": "code",
   "execution_count": null,
   "metadata": {},
   "outputs": [],
   "source": [
    "train"
   ]
  },
  {
   "cell_type": "code",
   "execution_count": null,
   "metadata": {},
   "outputs": [],
   "source": [
    "# reducing space\n",
    "train = train[['Lemmatized Reviews', 'overall']]"
   ]
  },
  {
   "cell_type": "code",
   "execution_count": null,
   "metadata": {},
   "outputs": [],
   "source": [
    "X = train['Lemmatized Reviews']\n",
    "y = train.overall"
   ]
  },
  {
   "cell_type": "code",
   "execution_count": null,
   "metadata": {},
   "outputs": [],
   "source": [
    "# Imports\n",
    "\n",
    "# for representation/classification\n",
    "import sklearn.metrics\n",
    "from sklearn.model_selection import train_test_split\n",
    "from sklearn.metrics import classification_report\n",
    "from sklearn.feature_extraction.text import CountVectorizer\n",
    "from sklearn.pipeline import Pipeline, make_pipeline\n",
    "from sklearn.metrics import precision_recall_fscore_support\n",
    "from sklearn.model_selection import GridSearchCV\n",
    "from sklearn.naive_bayes import MultinomialNB\n",
    "\n",
    "# representation\n",
    "from sklearn.feature_extraction.text import TfidfVectorizer\n",
    "from gensim.models import Word2Vec\n",
    "from sklearn.preprocessing import MinMaxScaler\n",
    "import gensim\n",
    "import numpy as np\n",
    "from sklearn.base import BaseEstimator, TransformerMixin\n",
    "from sklearn.linear_model import SGDClassifier\n"
   ]
  },
  {
   "cell_type": "code",
   "execution_count": null,
   "metadata": {},
   "outputs": [],
   "source": [
    "def vectorize_sentence_2(sentences, wv_model, mode=0):\n",
    "    \"\"\"Convert a list of sentences to a vectors.\n",
    "\n",
    "    By summing word vectors in the sentence.\n",
    "    Another option could be to average word vectors rather than just sum.\n",
    "\n",
    "    Arg: \n",
    "        sentence (pd.Series): Series consisting of list of tokenized texts \n",
    "        mode (int, 1 or 0): 0 for summing word vectors, 1 or averaging word vectors.\n",
    "    Returns:\n",
    "        (np.ndarray): Vector representation of sentences\n",
    "    \"\"\"\n",
    "    if mode not in [0, 1]:\n",
    "        raise Exception(\"Mode parameter should be either 1 or 0\")\n",
    "\n",
    "    vector_size = wv_model.vector_size\n",
    "    count = 1\n",
    "    vector_sentences = []\n",
    "\n",
    "    for i in range(len(sentences)):\n",
    "        sentence = np.zeros(vector_size)\n",
    "        for word in sentences[i]:\n",
    "            if word in wv_model:\n",
    "                count += 1\n",
    "                sentence += wv_model[word]\n",
    "        if mode:  # if mode set to 1 (average word vectors)\n",
    "            sentence = sentence/count\n",
    "        vector_sentences.append(sentence)\n",
    "    vector_sentences_df = pd.DataFrame(vector_sentences)\n",
    "    return vector_sentences_df"
   ]
  },
  {
   "cell_type": "code",
   "execution_count": null,
   "metadata": {},
   "outputs": [],
   "source": [
    "def normalize_vectors(input_vectors):\n",
    "    \"\"\"Normalizes vectors to be in range [0,1)\n",
    "\n",
    "    Args:\n",
    "        input_vectors (np.ndarray): List of vectors, each vector is np.ndarray\n",
    "    \"\"\"\n",
    "\n",
    "    return MinMaxScaler().fit(input_vectors).transform(input_vectors)"
   ]
  },
  {
   "attachments": {},
   "cell_type": "markdown",
   "metadata": {},
   "source": [
    "### Link to the GloVe model vectors\n",
    "Download glove.6B.50d.txt in the glove.6B.zip folder\n",
    "https://nlp.stanford.edu/projects/glove/\n"
   ]
  },
  {
   "cell_type": "code",
   "execution_count": null,
   "metadata": {},
   "outputs": [],
   "source": [
    "def get_glove_word_embeddings(): \n",
    "    \"\"\"Gets the words and their vector representations trained from the Glove Model\n",
    "    \n",
    "    Code from https://thinkingneuron.com/transfer-learning-with-glove/\n",
    "    \"\"\"\n",
    "\n",
    "    GloveWordVectors = {}\n",
    "    with open(\"glove.6B.50d.txt\", 'r', encoding=\"utf-8\") as f:\n",
    "        for line in f:\n",
    "            values = line.split()\n",
    "            word = values[0]\n",
    "            vector = np.array(values[1:], \"float\")\n",
    "            GloveWordVectors[word] = vector\n",
    "    return GloveWordVectors"
   ]
  },
  {
   "attachments": {},
   "cell_type": "markdown",
   "metadata": {},
   "source": [
    "## Creating Classes to encapsulate the Glove and Word2Vec models\n",
    "\n",
    "To be able to use in Pipeline object"
   ]
  },
  {
   "cell_type": "code",
   "execution_count": null,
   "metadata": {},
   "outputs": [],
   "source": [
    "class GloveModel():\n",
    "    \"\"\"Implements GloVe vector dictionary as class with same methods as Word2Vec model.\n",
    "    \n",
    "    Does this so that helper method vectorize_sentence_2 can be used for glove word embeddings, which is stored as a dictionary.\n",
    "    \"\"\"\n",
    "    def __init__(self, vector_size, word_vector_dict) -> None:\n",
    "        self.vector_size = vector_size\n",
    "        self.dictionary = word_vector_dict\n",
    "    \n",
    "    def __getitem__(self, key):\n",
    "        return self.dictionary[key]"
   ]
  },
  {
   "cell_type": "code",
   "execution_count": null,
   "metadata": {},
   "outputs": [],
   "source": [
    "\n",
    "\n",
    "class Vector_Transformer(BaseEstimator, TransformerMixin):\n",
    "    \"\"\" Creates transformer object so that Word2Vec and GloVe models can be used in Pipeline object.\n",
    "                \n",
    "    \"\"\"\n",
    "    def __init__(self, model, mode:int=0):\n",
    "        \"\"\"Creates a Tranformer object for an pre-trained Word Embedding model (Glove or Word2Vec)\n",
    "        \n",
    "        \"\"\"\n",
    "        self.mode = mode\n",
    "        self.model = model # Google model, GloVe model\n",
    "\n",
    "    def fit(self, X, y=None):\n",
    "        \"\"\"No fitting needed\"\"\"\n",
    "        return self\n",
    "\n",
    "    def transform(self, X, y=None):\n",
    "        \"\"\"Transforms input text into vectors, then normalized vectors to be in range [0,1)\n",
    "        \n",
    "        Args: \n",
    "            X (np.ndarray): The preprocessed, tokenized list of sentences\n",
    "\n",
    "        \"\"\" \n",
    "        w2v_data = vectorize_sentence_2(X, self.model, mode=self.mode)\n",
    "        X_w2v_scaled = normalize_vectors(w2v_data.values)\n",
    "\n",
    "        return X_w2v_scaled"
   ]
  },
  {
   "attachments": {},
   "cell_type": "markdown",
   "metadata": {},
   "source": [
    "## Loading the Glove and Word2Vec (Google) models"
   ]
  },
  {
   "attachments": {},
   "cell_type": "markdown",
   "metadata": {},
   "source": [
    "Google Model download: https://drive.google.com/file/d/0B7XkCwpI5KDYNlNUTTlSS21pQmM/edit?resourcekey=0-wjGZdNAUop6WykTtMip30g"
   ]
  },
  {
   "cell_type": "code",
   "execution_count": null,
   "metadata": {},
   "outputs": [],
   "source": [
    "GoogleModel = gensim.models.KeyedVectors.load_word2vec_format('/mnt/d/Andrea/Heriot-Watt/year-4/f20aa/f20aa-coursework-1/GoogleNews-vectors-negative300.bin', binary=True)\n"
   ]
  },
  {
   "cell_type": "code",
   "execution_count": null,
   "metadata": {},
   "outputs": [],
   "source": [
    "Glove_Model = GloveModel(vector_size=50, word_vector_dict=get_glove_word_embeddings())"
   ]
  },
  {
   "attachments": {},
   "cell_type": "markdown",
   "metadata": {},
   "source": [
    "## Preparing parameters of the text representations and classifiers for gridsearch"
   ]
  },
  {
   "cell_type": "code",
   "execution_count": null,
   "metadata": {},
   "outputs": [],
   "source": [
    "\n",
    "text_reps = {\n",
    "    'bow': CountVectorizer(\n",
    "        preprocessor= lambda x: x, # override preprocessor\n",
    "        tokenizer= lambda x: x  # override tokenization\n",
    "    ),\n",
    "    'tfidf': TfidfVectorizer(\n",
    "        preprocessor= lambda x: x, # override preprocessor\n",
    "        tokenizer= lambda x: x  # override tokenization\n",
    "    ),\n",
    "    'w2v': Vector_Transformer(GoogleModel), # Word 2 Vec model\n",
    "    'glove': Vector_Transformer(Glove_Model) # GloVe Model\n",
    "}\n",
    "\n",
    "classifiers = {\n",
    "    'nb': MultinomialNB(),\n",
    "    'sgd': SGDClassifier()\n",
    "}\n",
    "\n",
    "params = {\n",
    "    # bag of ngrams\n",
    "    'bow':{\n",
    "        'countvectorizer__ngram_range': [(a, b) for a in np.arange(1, 5) for b in np.arange(1, 5) if a <= b],\n",
    "    },\n",
    "    # tdfidf ngrams\n",
    "    'tfidf': {\n",
    "        'tfidfvectorizer__ngram_range':[(a, b) for a in np.arange(1, 5) for b in np.arange(1, 5) if a <= b],\n",
    "    },\n",
    "    # pre-trained word2vec\n",
    "    'w2v': {\n",
    "        'vector_transformer__mode': [0,1],\n",
    "    },\n",
    "    # pre-trained glove\n",
    "    'glove': {\n",
    "        'vector_transformer__mode': [0,1],\n",
    "    },\n",
    "    # classifiers\n",
    "    'nb': {\n",
    "        'multinomialnb__alpha': [0.0001, 0.001, 0.01, 0.1, 1],\n",
    "    },\n",
    "    'sgd': {\n",
    "        \"sgdclassifier__loss\": [\"hinge\", \"log_loss\"],\n",
    "        \"sgdclassifier__alpha\": [0.0001, 0.001, 0.01, 0.1],\n",
    "        \"sgdclassifier__penalty\": [\"l2\", \"l1\", \"elasticnet\", \"none\"],\n",
    "    }\n",
    "}\n",
    "\n",
    "\n"
   ]
  },
  {
   "attachments": {},
   "cell_type": "markdown",
   "metadata": {},
   "source": [
    "## Splitting the gridsearch into 2 rounds\n",
    "\n",
    "The first gridsearch will test a subset of the text representations with all the classifiers, while the second will test the rest of the text representations with all the classifiers. This is to reduce computational load.\n"
   ]
  },
  {
   "cell_type": "code",
   "execution_count": null,
   "metadata": {},
   "outputs": [],
   "source": [
    "text_reps_1 = {\n",
    "    'glove': Vector_Transformer(Glove_Model), # GloVe Model\n",
    "    'bow': CountVectorizer(\n",
    "        preprocessor= lambda x: x, # override preprocessor\n",
    "        tokenizer= lambda x: x  # override tokenization\n",
    "    ),\n",
    "    \n",
    "}\n",
    "\n",
    "text_reps_2 = {\n",
    "    'tfidf': TfidfVectorizer(\n",
    "        preprocessor= lambda x: x, # override preprocessor\n",
    "        tokenizer= lambda x: x  # override tokenization\n",
    "    ),\n",
    "    'w2v': Vector_Transformer(GoogleModel), # Word 2 Vec model\n",
    "}\n"
   ]
  },
  {
   "cell_type": "code",
   "execution_count": null,
   "metadata": {},
   "outputs": [],
   "source": [
    "\n",
    "scores_1 = []\n",
    "\n",
    "for text_rep, text_rep_obj in text_reps_1.items():\n",
    "    for classifier, classifier_obj  in classifiers.items():\n",
    "        print(classifier, text_rep)\n",
    "        pipe = make_pipeline(text_rep_obj, classifier_obj)\n",
    "        print(pipe)\n",
    "        grid_search = GridSearchCV(estimator=pipe, param_grid={**params[text_rep], **params[classifier]}, cv=10, scoring='accuracy')\n",
    "        grid_search.fit(X, y)\n",
    "        scores_1.append({\n",
    "            'model': classifier,\n",
    "            'text_representation': text_rep,\n",
    "            'scores': grid_search.cv_results_\n",
    "        })\n"
   ]
  },
  {
   "cell_type": "code",
   "execution_count": null,
   "metadata": {},
   "outputs": [],
   "source": [
    "with open('scores_1.pkl', 'wb') as f:\n",
    "    pickle.dump(scores_1, f)"
   ]
  },
  {
   "cell_type": "code",
   "execution_count": null,
   "metadata": {},
   "outputs": [],
   "source": [
    "scores_2 = []\n",
    "\n",
    "for text_rep, text_rep_obj in text_reps_2.items():\n",
    "    for classifier, classifier_obj  in classifiers.items():\n",
    "        print(classifier, text_rep)\n",
    "        pipe = make_pipeline(text_rep_obj, classifier_obj)\n",
    "        print(pipe)\n",
    "        grid_search = GridSearchCV(estimator=pipe, param_grid={**params[text_rep], **params[classifier]}, cv=10, scoring='accuracy')\n",
    "        grid_search.fit(X, y)\n",
    "        scores_2.append({\n",
    "            'model': classifier,\n",
    "            'text_representation': text_rep,\n",
    "            'scores': grid_search.cv_results_\n",
    "        })"
   ]
  },
  {
   "cell_type": "code",
   "execution_count": null,
   "metadata": {},
   "outputs": [],
   "source": [
    "with open('scores_2.pkl', 'wb') as f:\n",
    "    pickle.dump(scores_2, f)"
   ]
  },
  {
   "cell_type": "markdown",
   "metadata": {},
   "source": [
    "# FastText Classification"
   ]
  },
  {
   "attachments": {},
   "cell_type": "markdown",
   "metadata": {},
   "source": [
    "# Topic Modelling"
   ]
  },
  {
   "cell_type": "code",
   "execution_count": 9,
   "metadata": {},
   "outputs": [],
   "source": [
    "# Required imports\n",
    "from gensim.corpora import Dictionary\n",
    "from gensim.models.ldamodel import LdaModel\n",
    "from gensim.models import CoherenceModel\n",
    "import math\n"
   ]
  },
  {
   "cell_type": "code",
   "execution_count": 16,
   "metadata": {},
   "outputs": [],
   "source": [
    "def plot_top_words(lda, nb_topics, nb_words=10):\n",
    "    top_words = [[word for word,_ in lda.show_topic(topic_id, topn=50)] for topic_id in range(lda.num_topics)]\n",
    "    top_betas = [[beta for _,beta in lda.show_topic(topic_id, topn=50)] for topic_id in range(lda.num_topics)]\n",
    "\n",
    "    gs  = plt.GridSpec(round(math.sqrt(k))+1,round(math.sqrt(k))+1)\n",
    "    gs.update(wspace=0.5, hspace=0.5)\n",
    "    plt.figure(figsize=(20,15))\n",
    "    for i in range(nb_topics):\n",
    "        ax = plt.subplot(gs[i])\n",
    "        plt.barh(range(nb_words), top_betas[i][:nb_words], align='center',color='blue', ecolor='black')\n",
    "        ax.invert_yaxis()\n",
    "        ax.set_yticks(range(nb_words))\n",
    "        ax.set_yticklabels(top_words[i][:nb_words])\n",
    "        plt.title(\"Topic \"+str(i))"
   ]
  },
  {
   "cell_type": "code",
   "execution_count": 4,
   "metadata": {},
   "outputs": [],
   "source": [
    "preprocessed = pd.read_pickle('preproc.pkl')"
   ]
  },
  {
   "attachments": {},
   "cell_type": "markdown",
   "metadata": {},
   "source": [
    "For topic modelling, people mostly use lemmatization as it preserves the word. (SOURCE) Since stemming can generate words that do not exist, it is difficult to group them into topics."
   ]
  },
  {
   "attachments": {},
   "cell_type": "markdown",
   "metadata": {},
   "source": [
    "### Topic Modelling for all reviews"
   ]
  },
  {
   "cell_type": "code",
   "execution_count": null,
   "metadata": {},
   "outputs": [],
   "source": [
    "# Builds a dictionary for each word in lemmatized\n",
    "review_dict = Dictionary(preprocessed['Lemmatized Reviews'])\n",
    "\n",
    "# Builds corpus - vectors that represent the occurence of each word \n",
    "corpus = [review_dict.doc2bow(review) for review in preprocessed['Lemmatized Reviews']]"
   ]
  },
  {
   "attachments": {},
   "cell_type": "markdown",
   "metadata": {},
   "source": [
    "Here we evaluate the coherence of topics found. Coherence is a measure of semantic similarity between words and is often used to help decide how many topics there are."
   ]
  },
  {
   "cell_type": "code",
   "execution_count": null,
   "metadata": {},
   "outputs": [],
   "source": [
    "# Computes coherence\n",
    "from tqdm import tqdm\n",
    "\n",
    "review_coherence = []\n",
    "for nb_topics in tqdm(range(1,20)):\n",
    "    lda = LdaModel(corpus, num_topics = nb_topics, id2word = review_dict, passes=10)\n",
    "    cohm = CoherenceModel(model=lda, corpus=corpus, dictionary=review_dict, coherence='u_mass')\n",
    "    coh = cohm.get_coherence()\n",
    "    review_coherence.append(coh)\n",
    "\n"
   ]
  },
  {
   "cell_type": "code",
   "execution_count": null,
   "metadata": {},
   "outputs": [],
   "source": [
    "# visualize coherence\n",
    "plt.figure(figsize=(10,5))\n",
    "plt.plot(range(1,20),review_coherence)\n",
    "plt.xlabel(\"Number of Topics\")\n",
    "plt.ylabel(\"Coherence Score\");"
   ]
  },
  {
   "attachments": {},
   "cell_type": "markdown",
   "metadata": {},
   "source": [
    "Through the graph, the optimal number of topics should be 5. We use the graph to look for where the average coherence score plateaus, which would be around 3 - 6 topics on our graph."
   ]
  },
  {
   "cell_type": "code",
   "execution_count": null,
   "metadata": {},
   "outputs": [],
   "source": [
    "\n",
    "k = 5\n",
    "review_lda = LdaModel(corpus, num_topics = k, id2word = review_dict, passes=10)\n",
    "  \n",
    "plot_top_words(review_lda, 5)"
   ]
  },
  {
   "cell_type": "markdown",
   "metadata": {},
   "source": [
    "From the results, all topics include words such as \"like\", \"great\" and \"good\" which don't add any meaning to the topics, therefore, we will run LDA again, without these words."
   ]
  },
  {
   "cell_type": "code",
   "execution_count": null,
   "metadata": {},
   "outputs": [],
   "source": [
    "new_stops = ['good', 'great', 'like', 'well']\n",
    "\n",
    "preprocessed['Adjusted Lemmatized'] = preprocessed['Lemmatized Reviews'].apply(lambda rev : [word for word in rev if word not in new_stops])"
   ]
  },
  {
   "cell_type": "code",
   "execution_count": null,
   "metadata": {},
   "outputs": [],
   "source": [
    "review_dict = Dictionary(preprocessed['Adjusted Lemmatized'])\n",
    "corpus = [review_dict.doc2bow(review) for review in preprocessed['Adjusted Lemmatized']]\n",
    "\n",
    "k = 5\n",
    "reviews_lda = LdaModel(corpus, num_topics = k, id2word = review_dict, passes=10)\n",
    "  \n",
    "plot_top_words(reviews_lda, k)"
   ]
  },
  {
   "attachments": {},
   "cell_type": "markdown",
   "metadata": {},
   "source": [
    "will put analysis here after i run it later"
   ]
  },
  {
   "attachments": {},
   "cell_type": "markdown",
   "metadata": {},
   "source": [
    "### Topic Modelling for 1 star Reviews"
   ]
  },
  {
   "cell_type": "code",
   "execution_count": 8,
   "metadata": {},
   "outputs": [
    {
     "data": {
      "text/plain": [
       "(6729, 7)"
      ]
     },
     "execution_count": 8,
     "metadata": {},
     "output_type": "execute_result"
    }
   ],
   "source": [
    "lowstardf= preprocessed[preprocessed['overall'] == 1]\n",
    "lowstardf.head()"
   ]
  },
  {
   "cell_type": "code",
   "execution_count": 12,
   "metadata": {},
   "outputs": [],
   "source": [
    "# Builds a dictionary for each word in lemmatized\n",
    "review_dict = Dictionary(lowstardf['Lemmatized Reviews'])\n",
    "\n",
    "# Builds corpus - vectors that represent the occurence of each word \n",
    "corpus = [review_dict.doc2bow(review) for review in lowstardf['Lemmatized Reviews']]"
   ]
  },
  {
   "attachments": {},
   "cell_type": "markdown",
   "metadata": {},
   "source": [
    "Here, we try to find the optimal number of topics for LDA. Using the same strategy as previously, we evaluate the coherence of various LDA models. "
   ]
  },
  {
   "cell_type": "code",
   "execution_count": 13,
   "metadata": {},
   "outputs": [
    {
     "name": "stderr",
     "output_type": "stream",
     "text": [
      "100%|██████████| 10/10 [07:56<00:00, 47.60s/it]\n"
     ]
    }
   ],
   "source": [
    "# Computes coherence\n",
    "from tqdm import tqdm\n",
    "\n",
    "review_coherence = []\n",
    "for nb_topics in tqdm(range(10,20)):\n",
    "    lda = LdaModel(corpus, num_topics = nb_topics, id2word = review_dict, passes=10)\n",
    "    cohm = CoherenceModel(model=lda, corpus=corpus, dictionary=review_dict, coherence='u_mass')\n",
    "    coh = cohm.get_coherence()\n",
    "    review_coherence.append(coh)"
   ]
  },
  {
   "cell_type": "code",
   "execution_count": 14,
   "metadata": {},
   "outputs": [
    {
     "data": {
      "image/png": "[encoded data removed]",
      "text/plain": [
       "<Figure size 1000x500 with 1 Axes>"
      ]
     },
     "metadata": {},
     "output_type": "display_data"
    }
   ],
   "source": [
    "# visualize coherence\n",
    "plt.figure(figsize=(10,5))\n",
    "plt.plot(range(10,20),review_coherence)\n",
    "plt.xlabel(\"Number of Topics\")\n",
    "plt.ylabel(\"Coherence Score\");"
   ]
  },
  {
   "cell_type": "code",
   "execution_count": 18,
   "metadata": {},
   "outputs": [
    {
     "data": {
      "image/png": "[encoded data removed]",
      "text/plain": [
       "<Figure size 2000x1500 with 17 Axes>"
      ]
     },
     "metadata": {},
     "output_type": "display_data"
    }
   ],
   "source": [
    "k = 17\n",
    "low_lda = LdaModel(corpus, num_topics = k, id2word = review_dict, passes=10)\n",
    "plot_top_words(low_lda, k)"
   ]
  },
  {
   "attachments": {},
   "cell_type": "markdown",
   "metadata": {},
   "source": [
    "From the topics shown, a general theme across several reviews is the mention of a device like a \"knife\", \"screw\", \"gun\" which implies that a majority of 1 star reviews are centered around items being faulty or misleading - which is implied with \"description\" being a common word. "
   ]
  },
  {
   "attachments": {},
   "cell_type": "markdown",
   "metadata": {},
   "source": [
    "### Topic Modelling for 5 star Reviews\n"
   ]
  },
  {
   "cell_type": "code",
   "execution_count": 11,
   "metadata": {},
   "outputs": [
    {
     "data": {
      "text/plain": [
       "(141169, 7)"
      ]
     },
     "execution_count": 11,
     "metadata": {},
     "output_type": "execute_result"
    }
   ],
   "source": [
    "highstardf= preprocessed[preprocessed['overall'] == 5]\n",
    "highstardf.shape"
   ]
  },
  {
   "cell_type": "code",
   "execution_count": null,
   "metadata": {},
   "outputs": [],
   "source": [
    "review_dict = Dictionary(highstardf['Lemmatized Reviews'])\n",
    "corpus = [review_dict.doc2bow(review) for review in highstardf['Lemmatized Reviews']]\n",
    "\n",
    "#Using the same number of topics as the 1 star reviews\n",
    "k = 17\n",
    "high_lda = LdaModel(corpus, num_topics = k, id2word = review_dict, passes=10)\n",
    "plot_top_words(high_lda, k)"
   ]
  }
 ],
 "metadata": {
  "kernelspec": {
   "display_name": "Python 3",
   "language": "python",
   "name": "python3"
  },
  "language_info": {
   "codemirror_mode": {
    "name": "ipython",
    "version": 3
   },
   "file_extension": ".py",
   "mimetype": "text/x-python",
   "name": "python",
   "nbconvert_exporter": "python",
   "pygments_lexer": "ipython3",
   "version": "3.10.9"
  },
  "orig_nbformat": 4
 },
 "nbformat": 4,
 "nbformat_minor": 2
}
